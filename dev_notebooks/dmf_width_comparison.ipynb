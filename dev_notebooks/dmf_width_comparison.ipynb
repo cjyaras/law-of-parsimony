{
 "cells": [
  {
   "cell_type": "code",
   "execution_count": 1,
   "metadata": {},
   "outputs": [],
   "source": [
    "import matplotlib.pyplot as plt\n",
    "import jax.numpy as jnp\n",
    "import jax\n",
    "\n",
    "from jax.random import PRNGKey, split\n",
    "from jax import config, grad\n",
    "from time import time\n",
    "# config.update(\"jax_enable_x64\", True)\n",
    "\n",
    "from data import generate_data, generate_observation_matrix, generate_sensing_matrices\n",
    "from loss import create_mc_loss\n",
    "from network import init_net, create_network, compute_prefactor, compress_network\n",
    "from solver import train\n",
    "from utils import svd, sensing_operator, compose"
   ]
  },
  {
   "cell_type": "code",
   "execution_count": 2,
   "metadata": {},
   "outputs": [
    {
     "name": "stderr",
     "output_type": "stream",
     "text": [
      "\n",
      "KeyboardInterrupt\n",
      "\n"
     ]
    }
   ],
   "source": [
    "key = PRNGKey(0)\n",
    "\n",
    "r = 5\n",
    "input_dim = 2000\n",
    "output_dim = 2000\n",
    "depth = 3\n",
    "init_type = \"orth\"\n",
    "init_scale = 1e-3\n",
    "\n",
    "key, target_key = split(key)\n",
    "target = generate_data(key=target_key, shape=(output_dim, input_dim), rank=r)\n",
    "\n",
    "key, weight_key = split(key)\n",
    "init_weights = init_net(key=weight_key, input_dim=input_dim, output_dim=output_dim, width=input_dim, depth=depth, init_type=\"orth\", init_scale=init_scale)\n",
    "network_fn = create_network()\n",
    "\n",
    "key, observation_key = split(key)\n",
    "percent_observed = 0.05\n",
    "observation_matrix = generate_observation_matrix(observation_key, percent_observed, (output_dim, input_dim))\n",
    "mc_loss_fn = create_mc_loss(target, observation_matrix)\n",
    "e2e_loss_fn = compose(mc_loss_fn, network_fn)"
   ]
  },
  {
   "attachments": {},
   "cell_type": "markdown",
   "metadata": {},
   "source": [
    "## Full width"
   ]
  },
  {
   "cell_type": "code",
   "execution_count": null,
   "metadata": {},
   "outputs": [],
   "source": [
    "num_iters = 500000\n",
    "step_size = 3e3\n",
    "weights, loss_list, time_list = train(\n",
    "    init_weights=init_weights,\n",
    "    e2e_loss_fn=e2e_loss_fn,\n",
    "    n_epochs=num_iters,\n",
    "    step_size=step_size,\n",
    "    n_inner_loops=100,\n",
    "    factors=False,\n",
    "    save_weights=False\n",
    ")"
   ]
  },
  {
   "attachments": {},
   "cell_type": "markdown",
   "metadata": {},
   "source": [
    "## Compressed"
   ]
  },
  {
   "cell_type": "code",
   "execution_count": null,
   "metadata": {},
   "outputs": [],
   "source": [
    "V = compute_prefactor(init_weights=init_weights, e2e_loss_fn=e2e_loss_fn, grad_rank=r)\n",
    "comp_init_weights, V1_1, UL_1 = compress_network(init_weights, V, r)\n",
    "comp_init_weights = [V1_1.T] + comp_init_weights + [UL_1]"
   ]
  },
  {
   "cell_type": "code",
   "execution_count": null,
   "metadata": {},
   "outputs": [],
   "source": [
    "num_iters = 500000\n",
    "step_size = 3e3\n",
    "comp_weights, comp_loss_list, comp_time_list = train(\n",
    "    init_weights=comp_init_weights, \n",
    "    e2e_loss_fn=e2e_loss_fn,\n",
    "    n_epochs=num_iters,\n",
    "    step_size=step_size,\n",
    "    n_inner_loops=100,\n",
    "    factors=True,\n",
    "    save_weights=False,\n",
    "    tol=1e-12\n",
    ")"
   ]
  },
  {
   "attachments": {},
   "cell_type": "markdown",
   "metadata": {},
   "source": [
    "## Width=r"
   ]
  },
  {
   "cell_type": "code",
   "execution_count": null,
   "metadata": {},
   "outputs": [],
   "source": [
    "key, weight_key = split(key)\n",
    "narrow_r_init_weights = init_net(key=weight_key, input_dim=input_dim, output_dim=output_dim, width=r, depth=depth, init_type=\"orth\", init_scale=init_scale)"
   ]
  },
  {
   "cell_type": "code",
   "execution_count": null,
   "metadata": {},
   "outputs": [],
   "source": [
    "num_iters = 500000\n",
    "step_size = 5e3\n",
    "narrow_r_weights, narrow_r_loss_list, narrow_r_time_list = train(\n",
    "    init_weights=narrow_r_init_weights,\n",
    "    e2e_loss_fn=e2e_loss_fn,\n",
    "    n_epochs=num_iters,\n",
    "    step_size=step_size,\n",
    "    n_inner_loops=100,\n",
    "    factors=False,\n",
    "    save_weights=False,\n",
    "    tol=1e-12\n",
    ")"
   ]
  },
  {
   "attachments": {},
   "cell_type": "markdown",
   "metadata": {},
   "source": [
    "## Width=2r"
   ]
  },
  {
   "cell_type": "code",
   "execution_count": null,
   "metadata": {},
   "outputs": [],
   "source": [
    "key, weight_key = split(key)\n",
    "narrow_2r_init_weights = init_net(key=weight_key, input_dim=input_dim, output_dim=output_dim, width=2*r, depth=depth, init_type=\"orth\", init_scale=init_scale)"
   ]
  },
  {
   "cell_type": "code",
   "execution_count": null,
   "metadata": {},
   "outputs": [],
   "source": [
    "num_iters = 500000\n",
    "step_size = 5e3\n",
    "narrow_2r_weights, narrow_2r_loss_list, narrow_2r_time_list = train(\n",
    "    init_weights=narrow_2r_init_weights,\n",
    "    e2e_loss_fn=e2e_loss_fn,\n",
    "    n_epochs=num_iters,\n",
    "    step_size=step_size,\n",
    "    n_inner_loops=100,\n",
    "    factors=False,\n",
    "    save_weights=False,\n",
    "    tol=1e-12\n",
    ")"
   ]
  },
  {
   "attachments": {},
   "cell_type": "markdown",
   "metadata": {},
   "source": [
    "## Plotting"
   ]
  },
  {
   "cell_type": "code",
   "execution_count": null,
   "metadata": {},
   "outputs": [],
   "source": [
    "fig, axes = plt.subplots(ncols=3, figsize=(18, 5))\n",
    "\n",
    "axes[0].plot(loss_list, linewidth=5, label='Original')\n",
    "axes[0].plot(comp_loss_list, linewidth=3, label='CompDMF')\n",
    "axes[0].set_xlabel('Iteration (x100)', fontsize=14)\n",
    "axes[0].ticklabel_format(style='sci', axis='y', scilimits=(0,0))\n",
    "axes[0].locator_params(axis='y', nbins=6)\n",
    "axes[0].set_ylabel('Loss', fontsize=14)\n",
    "axes[0].legend(fontsize=14)\n",
    "\n",
    "axes[1].semilogx(time_list, loss_list, linewidth=5, label='Original')\n",
    "axes[1].semilogx(comp_time_list, comp_loss_list, linewidth=3, label='CompDMF')\n",
    "axes[1].set_xlabel('Time (s)', fontsize=14)\n",
    "axes[1].ticklabel_format(style='sci', axis='y', scilimits=(0,0))\n",
    "axes[1].locator_params(axis='y', nbins=6)\n",
    "axes[1].set_ylabel('Loss', fontsize=14)\n",
    "axes[1].legend(fontsize=14)\n",
    "\n",
    "axes[2].plot(comp_time_list, comp_loss_list, linewidth=5, label='CompDMF')\n",
    "axes[2].plot(narrow_r_time_list, narrow_r_loss_list, linewidth=5, label='Width=r')\n",
    "axes[2].plot(narrow_2r_time_list, narrow_2r_loss_list, linewidth=5, label='Width=2r')\n",
    "axes[2].set_xlabel('Time (s)', fontsize=14)\n",
    "axes[2].ticklabel_format(style='sci', axis='y', scilimits=(0,0))\n",
    "axes[2].locator_params(axis='y', nbins=6)\n",
    "axes[2].set_ylabel('Loss', fontsize=14)\n",
    "axes[2].legend(fontsize=14)\n",
    "\n",
    "plt.savefig('figs/app2_widths.png', dpi=300, bbox_inches='tight')"
   ]
  }
 ],
 "metadata": {
  "kernelspec": {
   "display_name": "Python 3 (ipykernel)",
   "language": "python",
   "name": "python3"
  },
  "language_info": {
   "codemirror_mode": {
    "name": "ipython",
    "version": 3
   },
   "file_extension": ".py",
   "mimetype": "text/x-python",
   "name": "python",
   "nbconvert_exporter": "python",
   "pygments_lexer": "ipython3",
   "version": "3.10.10"
  }
 },
 "nbformat": 4,
 "nbformat_minor": 2
}
