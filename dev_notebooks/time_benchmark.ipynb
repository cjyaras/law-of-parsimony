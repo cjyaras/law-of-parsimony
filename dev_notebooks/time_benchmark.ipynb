{
 "cells": [
  {
   "cell_type": "code",
   "execution_count": 18,
   "id": "2d28983b",
   "metadata": {},
   "outputs": [],
   "source": [
    "import matplotlib.pyplot as plt\n",
    "import jax.numpy as jnp\n",
    "import jax\n",
    "import cvxpy as cp\n",
    "\n",
    "\n",
    "import numpy as np\n",
    "from jax.random import PRNGKey, split\n",
    "from jax import config, grad\n",
    "from time import time\n",
    "# config.update(\"jax_enable_x64\", True)\n",
    "\n",
    "from data import generate_data, generate_observation_matrix\n",
    "from loss import create_mc_loss\n",
    "from network import init_net, create_network, compute_prefactor, compress_network\n",
    "from solver import train\n",
    "from utils import svd, compose"
   ]
  },
  {
   "cell_type": "code",
   "execution_count": 19,
   "id": "1523040e",
   "metadata": {},
   "outputs": [],
   "source": [
    "key = PRNGKey(0)\n",
    "\n",
    "r = 100\n",
    "input_dim = 5000\n",
    "output_dim = 5000\n",
    "depth = 3\n",
    "init_type = \"orth\"\n",
    "init_scale = 1e-3\n",
    "\n",
    "result_dict = {}\n",
    "\n",
    "key, target_key = split(key)\n",
    "target = generate_data(key=target_key, shape=(output_dim, input_dim), rank=r)\n",
    "\n",
    "key, weight_key = split(key)\n",
    "init_weights = init_net(key=weight_key, input_dim=input_dim, output_dim=output_dim, width=input_dim, depth=depth, init_type=\"orth\", init_scale=init_scale)\n",
    "network_fn = create_network()\n",
    "\n",
    "key, observation_key = split(key)\n",
    "percent_observed = 0.20\n",
    "mask = generate_observation_matrix(observation_key, percent_observed, (output_dim, input_dim))\n",
    "mc_loss_fn = create_mc_loss(target, mask)\n",
    "e2e_loss_fn = compose(mc_loss_fn, network_fn)"
   ]
  },
  {
   "cell_type": "markdown",
   "id": "67c67540",
   "metadata": {},
   "source": [
    "## Compressed Network"
   ]
  },
  {
   "cell_type": "code",
   "execution_count": 20,
   "id": "5a9132f7",
   "metadata": {},
   "outputs": [],
   "source": [
    "V = compute_prefactor(init_weights=init_weights, e2e_loss_fn=e2e_loss_fn, grad_rank=r)\n",
    "comp_init_weights, V1_1, UL_1 = compress_network(init_weights, V, r)\n",
    "comp_init_weights = [V1_1.T] + comp_init_weights + [UL_1]\n",
    "comp_network_fn = create_network()"
   ]
  },
  {
   "cell_type": "code",
   "execution_count": 22,
   "id": "a864cccd",
   "metadata": {},
   "outputs": [
    {
     "data": {
      "application/vnd.jupyter.widget-view+json": {
       "model_id": "0eb0e61975f5419894392fa945425c50",
       "version_major": 2,
       "version_minor": 0
      },
      "text/plain": [
       "  0%|          | 0/5000 [00:00<?, ?it/s]"
      ]
     },
     "metadata": {},
     "output_type": "display_data"
    }
   ],
   "source": [
    "num_iters = 500000\n",
    "step_size = 1e5\n",
    "comp_weights, comp_loss_list, comp_time_list = train(\n",
    "    init_weights=comp_init_weights, \n",
    "    e2e_loss_fn=e2e_loss_fn,\n",
    "    n_epochs=num_iters,\n",
    "    step_size=step_size,\n",
    "    n_inner_loops=100,\n",
    "    factors=True,\n",
    "    save_weights=False,\n",
    "    tol=1e-12\n",
    ")"
   ]
  },
  {
   "cell_type": "code",
   "execution_count": 23,
   "id": "4835f7a5",
   "metadata": {},
   "outputs": [],
   "source": [
    "comp_time = comp_time_list[-1]\n",
    "comp_loss = jnp.sum((network_fn(comp_weights) - target)**2) / jnp.sum(target**2)"
   ]
  },
  {
   "cell_type": "code",
   "execution_count": 24,
   "id": "8dc839cc",
   "metadata": {},
   "outputs": [],
   "source": [
    "result_dict['comp'] = {\n",
    "    'time': comp_time,\n",
    "    'loss': comp_loss\n",
    "}"
   ]
  },
  {
   "cell_type": "code",
   "execution_count": 25,
   "id": "baa0a9df",
   "metadata": {},
   "outputs": [
    {
     "data": {
      "text/plain": [
       "Array(124.916084, dtype=float32)"
      ]
     },
     "execution_count": 25,
     "metadata": {},
     "output_type": "execute_result"
    }
   ],
   "source": [
    "comp_time"
   ]
  },
  {
   "cell_type": "code",
   "execution_count": 26,
   "id": "88a8313b",
   "metadata": {},
   "outputs": [
    {
     "data": {
      "text/plain": [
       "Array(9.443752e-12, dtype=float32)"
      ]
     },
     "execution_count": 26,
     "metadata": {},
     "output_type": "execute_result"
    }
   ],
   "source": [
    "comp_loss"
   ]
  },
  {
   "cell_type": "markdown",
   "id": "89b49b57",
   "metadata": {},
   "source": [
    "## Scaled GD (spectral initialization)"
   ]
  },
  {
   "cell_type": "code",
   "execution_count": 27,
   "id": "ebac536c",
   "metadata": {},
   "outputs": [],
   "source": [
    "import jax.numpy as jnp\n",
    "import jax\n",
    "\n",
    "from jax import grad\n",
    "from jax.lax import fori_loop\n",
    "from tqdm.auto import tqdm\n",
    "from time import time\n",
    "\n",
    "def scaled_update_weights(weights, gradient, step_size):\n",
    "    return jax.tree_map(lambda p, g: p - step_size * g @ jnp.linalg.pinv(p.T @ p), weights, gradient)\n",
    "\n",
    "def scaled_train(init_weights, e2e_loss_fn, n_epochs, step_size, n_inner_loops=100, save_weights=False, tol=0):\n",
    "\n",
    "    # Define fun body in lax.fori_loop\n",
    "    def body_fun(_, w):\n",
    "        g = grad(e2e_loss_fn)(w)\n",
    "        return scaled_update_weights(w, g, step_size)\n",
    "    \n",
    "    # Run once to compile\n",
    "    fori_loop(0, n_inner_loops, body_fun, init_weights)\n",
    "\n",
    "    loss = e2e_loss_fn(init_weights)\n",
    "    loss_list = [loss]\n",
    "    time_list = [0.]\n",
    "    weights_list = [init_weights]\n",
    "    weights = init_weights\n",
    "\n",
    "    num_iters = n_epochs // n_inner_loops\n",
    "    pbar = tqdm(range(num_iters))\n",
    "\n",
    "    start_time = time()\n",
    "    for _ in pbar:\n",
    "        pbar.set_description(f\"Loss: {loss:0.2e}\")\n",
    "        weights = fori_loop(0, n_inner_loops, body_fun, weights)\n",
    "        loss = e2e_loss_fn(weights)\n",
    "        loss_list.append(loss)\n",
    "        time_list.append(time() - start_time)\n",
    "        if save_weights:\n",
    "            weights_list.append(weights)\n",
    "            \n",
    "        if loss < tol:\n",
    "            break\n",
    "\n",
    "    if save_weights:\n",
    "        return weights_list, jnp.array(loss_list), jnp.array(time_list)\n",
    "    else:\n",
    "        return weights, jnp.array(loss_list), jnp.array(time_list)"
   ]
  },
  {
   "cell_type": "code",
   "execution_count": 28,
   "id": "148ac97f",
   "metadata": {},
   "outputs": [],
   "source": [
    "def scaled_network_fn(w):\n",
    "    X, Y = w\n",
    "    return X @ Y.T"
   ]
  },
  {
   "cell_type": "code",
   "execution_count": 29,
   "id": "466f0695",
   "metadata": {},
   "outputs": [],
   "source": [
    "lam = 0\n",
    "def scaled_e2e_loss_fn(w):\n",
    "    X, Y = w\n",
    "    return mc_loss_fn(scaled_network_fn(w)) + lam/2 * jnp.sum((X.T @ X - Y.T @ Y)**2)"
   ]
  },
  {
   "cell_type": "code",
   "execution_count": 30,
   "id": "4264021a",
   "metadata": {},
   "outputs": [],
   "source": [
    "U, s, V = svd(mask * target)\n",
    "Ur = U[:, :r]\n",
    "Vr = V[:, :r]\n",
    "Sr = jnp.diag(s[:r])\n",
    "\n",
    "X_init = Ur @ jnp.sqrt(Sr)\n",
    "Y_init = Vr @ jnp.sqrt(Sr)\n",
    "\n",
    "# X_init = init_scale * jnp.asarray(np.random.randn(input_dim, r))\n",
    "# Y_init = init_scale * jnp.asarray(np.random.randn(output_dim, r))\n",
    "scaled_init_weights = [X_init, Y_init]"
   ]
  },
  {
   "cell_type": "code",
   "execution_count": 33,
   "id": "a4611a00",
   "metadata": {},
   "outputs": [
    {
     "data": {
      "application/vnd.jupyter.widget-view+json": {
       "model_id": "bcdd88b26f8340388a100b134217be5e",
       "version_major": 2,
       "version_minor": 0
      },
      "text/plain": [
       "  0%|          | 0/400 [00:00<?, ?it/s]"
      ]
     },
     "metadata": {},
     "output_type": "display_data"
    },
    {
     "ename": "KeyboardInterrupt",
     "evalue": "",
     "output_type": "error",
     "traceback": [
      "\u001b[0;31m---------------------------------------------------------------------------\u001b[0m",
      "\u001b[0;31mKeyboardInterrupt\u001b[0m                         Traceback (most recent call last)",
      "Cell \u001b[0;32mIn[33], line 3\u001b[0m\n\u001b[1;32m      1\u001b[0m num_iters \u001b[38;5;241m=\u001b[39m \u001b[38;5;241m40000\u001b[39m\n\u001b[1;32m      2\u001b[0m step_size \u001b[38;5;241m=\u001b[39m \u001b[38;5;241m1e5\u001b[39m\n\u001b[0;32m----> 3\u001b[0m scaled_weights, scaled_loss_list, scaled_time_list \u001b[38;5;241m=\u001b[39m \u001b[43mscaled_train\u001b[49m\u001b[43m(\u001b[49m\n\u001b[1;32m      4\u001b[0m \u001b[43m    \u001b[49m\u001b[43minit_weights\u001b[49m\u001b[38;5;241;43m=\u001b[39;49m\u001b[43mscaled_init_weights\u001b[49m\u001b[43m,\u001b[49m\u001b[43m \u001b[49m\n\u001b[1;32m      5\u001b[0m \u001b[43m    \u001b[49m\u001b[43me2e_loss_fn\u001b[49m\u001b[38;5;241;43m=\u001b[39;49m\u001b[43mscaled_e2e_loss_fn\u001b[49m\u001b[43m,\u001b[49m\n\u001b[1;32m      6\u001b[0m \u001b[43m    \u001b[49m\u001b[43mn_epochs\u001b[49m\u001b[38;5;241;43m=\u001b[39;49m\u001b[43mnum_iters\u001b[49m\u001b[43m,\u001b[49m\n\u001b[1;32m      7\u001b[0m \u001b[43m    \u001b[49m\u001b[43mstep_size\u001b[49m\u001b[38;5;241;43m=\u001b[39;49m\u001b[43mstep_size\u001b[49m\u001b[43m,\u001b[49m\n\u001b[1;32m      8\u001b[0m \u001b[43m    \u001b[49m\u001b[43mn_inner_loops\u001b[49m\u001b[38;5;241;43m=\u001b[39;49m\u001b[38;5;241;43m100\u001b[39;49m\u001b[43m,\u001b[49m\n\u001b[1;32m      9\u001b[0m \u001b[43m    \u001b[49m\u001b[43msave_weights\u001b[49m\u001b[38;5;241;43m=\u001b[39;49m\u001b[38;5;28;43;01mFalse\u001b[39;49;00m\u001b[43m,\u001b[49m\n\u001b[1;32m     10\u001b[0m \u001b[43m    \u001b[49m\u001b[43mtol\u001b[49m\u001b[38;5;241;43m=\u001b[39;49m\u001b[38;5;241;43m1e-12\u001b[39;49m\n\u001b[1;32m     11\u001b[0m \u001b[43m)\u001b[49m\n",
      "Cell \u001b[0;32mIn[27], line 34\u001b[0m, in \u001b[0;36mscaled_train\u001b[0;34m(init_weights, e2e_loss_fn, n_epochs, step_size, n_inner_loops, save_weights, tol)\u001b[0m\n\u001b[1;32m     32\u001b[0m \u001b[38;5;28;01mfor\u001b[39;00m _ \u001b[38;5;129;01min\u001b[39;00m pbar:\n\u001b[1;32m     33\u001b[0m     pbar\u001b[38;5;241m.\u001b[39mset_description(\u001b[38;5;124mf\u001b[39m\u001b[38;5;124m\"\u001b[39m\u001b[38;5;124mLoss: \u001b[39m\u001b[38;5;132;01m{\u001b[39;00mloss\u001b[38;5;132;01m:\u001b[39;00m\u001b[38;5;124m0.2e\u001b[39m\u001b[38;5;132;01m}\u001b[39;00m\u001b[38;5;124m\"\u001b[39m)\n\u001b[0;32m---> 34\u001b[0m     weights \u001b[38;5;241m=\u001b[39m \u001b[43mfori_loop\u001b[49m\u001b[43m(\u001b[49m\u001b[38;5;241;43m0\u001b[39;49m\u001b[43m,\u001b[49m\u001b[43m \u001b[49m\u001b[43mn_inner_loops\u001b[49m\u001b[43m,\u001b[49m\u001b[43m \u001b[49m\u001b[43mbody_fun\u001b[49m\u001b[43m,\u001b[49m\u001b[43m \u001b[49m\u001b[43mweights\u001b[49m\u001b[43m)\u001b[49m\n\u001b[1;32m     35\u001b[0m     loss \u001b[38;5;241m=\u001b[39m e2e_loss_fn(weights)\n\u001b[1;32m     36\u001b[0m     loss_list\u001b[38;5;241m.\u001b[39mappend(loss)\n",
      "    \u001b[0;31m[... skipping hidden 1 frame]\u001b[0m\n",
      "File \u001b[0;32m/opt/tensorflow/lib/python3.10/site-packages/jax/_src/lax/control_flow/loops.py:1754\u001b[0m, in \u001b[0;36mfori_loop\u001b[0;34m(lower, upper, body_fun, init_val)\u001b[0m\n\u001b[1;32m   1750\u001b[0m   \u001b[38;5;28;01mif\u001b[39;00m config\u001b[38;5;241m.\u001b[39mjax_disable_jit \u001b[38;5;129;01mand\u001b[39;00m upper_ \u001b[38;5;241m==\u001b[39m lower_:\n\u001b[1;32m   1751\u001b[0m     \u001b[38;5;66;03m# non-jit implementation of scan does not support length=0\u001b[39;00m\n\u001b[1;32m   1752\u001b[0m     \u001b[38;5;28;01mreturn\u001b[39;00m init_val\n\u001b[0;32m-> 1754\u001b[0m   (_, result), _ \u001b[38;5;241m=\u001b[39m \u001b[43mscan\u001b[49m\u001b[43m(\u001b[49m\u001b[43m_fori_scan_body_fun\u001b[49m\u001b[43m(\u001b[49m\u001b[43mbody_fun\u001b[49m\u001b[43m)\u001b[49m\u001b[43m,\u001b[49m\u001b[43m \u001b[49m\u001b[43m(\u001b[49m\u001b[43mlower_\u001b[49m\u001b[43m,\u001b[49m\u001b[43m \u001b[49m\u001b[43minit_val\u001b[49m\u001b[43m)\u001b[49m\u001b[43m,\u001b[49m\n\u001b[1;32m   1755\u001b[0m \u001b[43m                        \u001b[49m\u001b[38;5;28;43;01mNone\u001b[39;49;00m\u001b[43m,\u001b[49m\u001b[43m \u001b[49m\u001b[43mlength\u001b[49m\u001b[38;5;241;43m=\u001b[39;49m\u001b[43mupper_\u001b[49m\u001b[43m \u001b[49m\u001b[38;5;241;43m-\u001b[39;49m\u001b[43m \u001b[49m\u001b[43mlower_\u001b[49m\u001b[43m)\u001b[49m\n\u001b[1;32m   1756\u001b[0m \u001b[38;5;28;01melse\u001b[39;00m:\n\u001b[1;32m   1757\u001b[0m   _, _, result \u001b[38;5;241m=\u001b[39m while_loop(_fori_cond_fun, _fori_body_fun(body_fun),\n\u001b[1;32m   1758\u001b[0m                             (lower, upper, init_val))\n",
      "    \u001b[0;31m[... skipping hidden 1 frame]\u001b[0m\n",
      "File \u001b[0;32m/opt/tensorflow/lib/python3.10/site-packages/jax/_src/lax/control_flow/loops.py:262\u001b[0m, in \u001b[0;36mscan\u001b[0;34m(f, init, xs, length, reverse, unroll)\u001b[0m\n\u001b[1;32m    258\u001b[0m \u001b[38;5;28;01mif\u001b[39;00m disallowed_effects:\n\u001b[1;32m    259\u001b[0m   \u001b[38;5;28;01mraise\u001b[39;00m \u001b[38;5;167;01mNotImplementedError\u001b[39;00m(\n\u001b[1;32m    260\u001b[0m       \u001b[38;5;124mf\u001b[39m\u001b[38;5;124m'\u001b[39m\u001b[38;5;124mEffects not supported in `scan`: \u001b[39m\u001b[38;5;132;01m{\u001b[39;00mdisallowed_effects\u001b[38;5;132;01m}\u001b[39;00m\u001b[38;5;124m'\u001b[39m)\n\u001b[0;32m--> 262\u001b[0m out \u001b[38;5;241m=\u001b[39m \u001b[43mscan_p\u001b[49m\u001b[38;5;241;43m.\u001b[39;49m\u001b[43mbind\u001b[49m\u001b[43m(\u001b[49m\u001b[38;5;241;43m*\u001b[39;49m\u001b[43mconsts\u001b[49m\u001b[43m,\u001b[49m\u001b[43m \u001b[49m\u001b[38;5;241;43m*\u001b[39;49m\u001b[43min_flat\u001b[49m\u001b[43m,\u001b[49m\n\u001b[1;32m    263\u001b[0m \u001b[43m                  \u001b[49m\u001b[43mreverse\u001b[49m\u001b[38;5;241;43m=\u001b[39;49m\u001b[43mreverse\u001b[49m\u001b[43m,\u001b[49m\u001b[43m \u001b[49m\u001b[43mlength\u001b[49m\u001b[38;5;241;43m=\u001b[39;49m\u001b[43mlength\u001b[49m\u001b[43m,\u001b[49m\u001b[43m \u001b[49m\u001b[43mjaxpr\u001b[49m\u001b[38;5;241;43m=\u001b[39;49m\u001b[43mjaxpr\u001b[49m\u001b[43m,\u001b[49m\n\u001b[1;32m    264\u001b[0m \u001b[43m                  \u001b[49m\u001b[43mnum_consts\u001b[49m\u001b[38;5;241;43m=\u001b[39;49m\u001b[38;5;28;43mlen\u001b[39;49m\u001b[43m(\u001b[49m\u001b[43mconsts\u001b[49m\u001b[43m)\u001b[49m\u001b[43m,\u001b[49m\u001b[43m \u001b[49m\u001b[43mnum_carry\u001b[49m\u001b[38;5;241;43m=\u001b[39;49m\u001b[38;5;28;43mlen\u001b[39;49m\u001b[43m(\u001b[49m\u001b[43minit_flat\u001b[49m\u001b[43m)\u001b[49m\u001b[43m,\u001b[49m\n\u001b[1;32m    265\u001b[0m \u001b[43m                  \u001b[49m\u001b[43mlinear\u001b[49m\u001b[38;5;241;43m=\u001b[39;49m\u001b[43m(\u001b[49m\u001b[38;5;28;43;01mFalse\u001b[39;49;00m\u001b[43m,\u001b[49m\u001b[43m)\u001b[49m\u001b[43m \u001b[49m\u001b[38;5;241;43m*\u001b[39;49m\u001b[43m \u001b[49m\u001b[43m(\u001b[49m\u001b[38;5;28;43mlen\u001b[39;49m\u001b[43m(\u001b[49m\u001b[43mconsts\u001b[49m\u001b[43m)\u001b[49m\u001b[43m \u001b[49m\u001b[38;5;241;43m+\u001b[39;49m\u001b[43m \u001b[49m\u001b[38;5;28;43mlen\u001b[39;49m\u001b[43m(\u001b[49m\u001b[43min_flat\u001b[49m\u001b[43m)\u001b[49m\u001b[43m)\u001b[49m\u001b[43m,\u001b[49m\n\u001b[1;32m    266\u001b[0m \u001b[43m                  \u001b[49m\u001b[43munroll\u001b[49m\u001b[38;5;241;43m=\u001b[39;49m\u001b[43munroll\u001b[49m\u001b[43m)\u001b[49m\n\u001b[1;32m    267\u001b[0m \u001b[38;5;28;01mreturn\u001b[39;00m tree_unflatten(out_tree, out)\n",
      "File \u001b[0;32m/opt/tensorflow/lib/python3.10/site-packages/jax/_src/lax/control_flow/loops.py:1031\u001b[0m, in \u001b[0;36mscan_bind\u001b[0;34m(*args, **params)\u001b[0m\n\u001b[1;32m   1029\u001b[0m   _scan_typecheck(\u001b[38;5;28;01mTrue\u001b[39;00m, \u001b[38;5;241m*\u001b[39min_atoms, \u001b[38;5;241m*\u001b[39m\u001b[38;5;241m*\u001b[39mparams)\n\u001b[1;32m   1030\u001b[0m   core\u001b[38;5;241m.\u001b[39mcheck_jaxpr(params[\u001b[38;5;124m'\u001b[39m\u001b[38;5;124mjaxpr\u001b[39m\u001b[38;5;124m'\u001b[39m]\u001b[38;5;241m.\u001b[39mjaxpr)\n\u001b[0;32m-> 1031\u001b[0m \u001b[38;5;28;01mreturn\u001b[39;00m \u001b[43mcore\u001b[49m\u001b[38;5;241;43m.\u001b[39;49m\u001b[43mAxisPrimitive\u001b[49m\u001b[38;5;241;43m.\u001b[39;49m\u001b[43mbind\u001b[49m\u001b[43m(\u001b[49m\u001b[43mscan_p\u001b[49m\u001b[43m,\u001b[49m\u001b[43m \u001b[49m\u001b[38;5;241;43m*\u001b[39;49m\u001b[43margs\u001b[49m\u001b[43m,\u001b[49m\u001b[43m \u001b[49m\u001b[38;5;241;43m*\u001b[39;49m\u001b[38;5;241;43m*\u001b[39;49m\u001b[43mparams\u001b[49m\u001b[43m)\u001b[49m\n",
      "File \u001b[0;32m/opt/tensorflow/lib/python3.10/site-packages/jax/_src/core.py:2592\u001b[0m, in \u001b[0;36mAxisPrimitive.bind\u001b[0;34m(self, *args, **params)\u001b[0m\n\u001b[1;32m   2588\u001b[0m axis_main \u001b[38;5;241m=\u001b[39m \u001b[38;5;28mmax\u001b[39m((axis_frame(a)\u001b[38;5;241m.\u001b[39mmain_trace \u001b[38;5;28;01mfor\u001b[39;00m a \u001b[38;5;129;01min\u001b[39;00m used_axis_names(\u001b[38;5;28mself\u001b[39m, params)),\n\u001b[1;32m   2589\u001b[0m                 default\u001b[38;5;241m=\u001b[39m\u001b[38;5;28;01mNone\u001b[39;00m, key\u001b[38;5;241m=\u001b[39m\u001b[38;5;28;01mlambda\u001b[39;00m t: \u001b[38;5;28mgetattr\u001b[39m(t, \u001b[38;5;124m'\u001b[39m\u001b[38;5;124mlevel\u001b[39m\u001b[38;5;124m'\u001b[39m, \u001b[38;5;241m-\u001b[39m\u001b[38;5;241m1\u001b[39m))\n\u001b[1;32m   2590\u001b[0m top_trace \u001b[38;5;241m=\u001b[39m (top_trace \u001b[38;5;28;01mif\u001b[39;00m \u001b[38;5;129;01mnot\u001b[39;00m axis_main \u001b[38;5;129;01mor\u001b[39;00m axis_main\u001b[38;5;241m.\u001b[39mlevel \u001b[38;5;241m<\u001b[39m top_trace\u001b[38;5;241m.\u001b[39mlevel\n\u001b[1;32m   2591\u001b[0m              \u001b[38;5;28;01melse\u001b[39;00m axis_main\u001b[38;5;241m.\u001b[39mwith_cur_sublevel())\n\u001b[0;32m-> 2592\u001b[0m \u001b[38;5;28;01mreturn\u001b[39;00m \u001b[38;5;28;43mself\u001b[39;49m\u001b[38;5;241;43m.\u001b[39;49m\u001b[43mbind_with_trace\u001b[49m\u001b[43m(\u001b[49m\u001b[43mtop_trace\u001b[49m\u001b[43m,\u001b[49m\u001b[43m \u001b[49m\u001b[43margs\u001b[49m\u001b[43m,\u001b[49m\u001b[43m \u001b[49m\u001b[43mparams\u001b[49m\u001b[43m)\u001b[49m\n",
      "File \u001b[0;32m/opt/tensorflow/lib/python3.10/site-packages/jax/_src/core.py:363\u001b[0m, in \u001b[0;36mPrimitive.bind_with_trace\u001b[0;34m(self, trace, args, params)\u001b[0m\n\u001b[1;32m    362\u001b[0m \u001b[38;5;28;01mdef\u001b[39;00m \u001b[38;5;21mbind_with_trace\u001b[39m(\u001b[38;5;28mself\u001b[39m, trace, args, params):\n\u001b[0;32m--> 363\u001b[0m   out \u001b[38;5;241m=\u001b[39m \u001b[43mtrace\u001b[49m\u001b[38;5;241;43m.\u001b[39;49m\u001b[43mprocess_primitive\u001b[49m\u001b[43m(\u001b[49m\u001b[38;5;28;43mself\u001b[39;49m\u001b[43m,\u001b[49m\u001b[43m \u001b[49m\u001b[38;5;28;43mmap\u001b[39;49m\u001b[43m(\u001b[49m\u001b[43mtrace\u001b[49m\u001b[38;5;241;43m.\u001b[39;49m\u001b[43mfull_raise\u001b[49m\u001b[43m,\u001b[49m\u001b[43m \u001b[49m\u001b[43margs\u001b[49m\u001b[43m)\u001b[49m\u001b[43m,\u001b[49m\u001b[43m \u001b[49m\u001b[43mparams\u001b[49m\u001b[43m)\u001b[49m\n\u001b[1;32m    364\u001b[0m   \u001b[38;5;28;01mreturn\u001b[39;00m \u001b[38;5;28mmap\u001b[39m(full_lower, out) \u001b[38;5;28;01mif\u001b[39;00m \u001b[38;5;28mself\u001b[39m\u001b[38;5;241m.\u001b[39mmultiple_results \u001b[38;5;28;01melse\u001b[39;00m full_lower(out)\n",
      "File \u001b[0;32m/opt/tensorflow/lib/python3.10/site-packages/jax/_src/core.py:817\u001b[0m, in \u001b[0;36mEvalTrace.process_primitive\u001b[0;34m(self, primitive, tracers, params)\u001b[0m\n\u001b[1;32m    816\u001b[0m \u001b[38;5;28;01mdef\u001b[39;00m \u001b[38;5;21mprocess_primitive\u001b[39m(\u001b[38;5;28mself\u001b[39m, primitive, tracers, params):\n\u001b[0;32m--> 817\u001b[0m   \u001b[38;5;28;01mreturn\u001b[39;00m \u001b[43mprimitive\u001b[49m\u001b[38;5;241;43m.\u001b[39;49m\u001b[43mimpl\u001b[49m\u001b[43m(\u001b[49m\u001b[38;5;241;43m*\u001b[39;49m\u001b[43mtracers\u001b[49m\u001b[43m,\u001b[49m\u001b[43m \u001b[49m\u001b[38;5;241;43m*\u001b[39;49m\u001b[38;5;241;43m*\u001b[39;49m\u001b[43mparams\u001b[49m\u001b[43m)\u001b[49m\n",
      "File \u001b[0;32m/opt/tensorflow/lib/python3.10/site-packages/jax/_src/dispatch.py:129\u001b[0m, in \u001b[0;36mapply_primitive\u001b[0;34m(prim, *args, **params)\u001b[0m\n\u001b[1;32m    125\u001b[0m   msg \u001b[38;5;241m=\u001b[39m pjit\u001b[38;5;241m.\u001b[39m_device_assignment_mismatch_error(\n\u001b[1;32m    126\u001b[0m       prim\u001b[38;5;241m.\u001b[39mname, fails, args, \u001b[38;5;124m'\u001b[39m\u001b[38;5;124mjit\u001b[39m\u001b[38;5;124m'\u001b[39m, arg_names)\n\u001b[1;32m    127\u001b[0m   \u001b[38;5;28;01mraise\u001b[39;00m \u001b[38;5;167;01mValueError\u001b[39;00m(msg) \u001b[38;5;28;01mfrom\u001b[39;00m \u001b[38;5;28mNone\u001b[39m\n\u001b[0;32m--> 129\u001b[0m \u001b[38;5;28;01mreturn\u001b[39;00m \u001b[43mcompiled_fun\u001b[49m\u001b[43m(\u001b[49m\u001b[38;5;241;43m*\u001b[39;49m\u001b[43margs\u001b[49m\u001b[43m)\u001b[49m\n",
      "File \u001b[0;32m/opt/tensorflow/lib/python3.10/site-packages/jax/_src/profiler.py:314\u001b[0m, in \u001b[0;36mannotate_function.<locals>.wrapper\u001b[0;34m(*args, **kwargs)\u001b[0m\n\u001b[1;32m    311\u001b[0m \u001b[38;5;129m@wraps\u001b[39m(func)\n\u001b[1;32m    312\u001b[0m \u001b[38;5;28;01mdef\u001b[39;00m \u001b[38;5;21mwrapper\u001b[39m(\u001b[38;5;241m*\u001b[39margs, \u001b[38;5;241m*\u001b[39m\u001b[38;5;241m*\u001b[39mkwargs):\n\u001b[1;32m    313\u001b[0m   \u001b[38;5;28;01mwith\u001b[39;00m TraceAnnotation(name, \u001b[38;5;241m*\u001b[39m\u001b[38;5;241m*\u001b[39mdecorator_kwargs):\n\u001b[0;32m--> 314\u001b[0m     \u001b[38;5;28;01mreturn\u001b[39;00m \u001b[43mfunc\u001b[49m\u001b[43m(\u001b[49m\u001b[38;5;241;43m*\u001b[39;49m\u001b[43margs\u001b[49m\u001b[43m,\u001b[49m\u001b[43m \u001b[49m\u001b[38;5;241;43m*\u001b[39;49m\u001b[38;5;241;43m*\u001b[39;49m\u001b[43mkwargs\u001b[49m\u001b[43m)\u001b[49m\n\u001b[1;32m    315\u001b[0m   \u001b[38;5;28;01mreturn\u001b[39;00m wrapper\n",
      "File \u001b[0;32m/opt/tensorflow/lib/python3.10/site-packages/jax/_src/interpreters/pxla.py:1916\u001b[0m, in \u001b[0;36mExecuteReplicated.__call__\u001b[0;34m(self, *args)\u001b[0m\n\u001b[1;32m   1911\u001b[0m   \u001b[38;5;28mself\u001b[39m\u001b[38;5;241m.\u001b[39m_handle_token_bufs(\n\u001b[1;32m   1912\u001b[0m       results\u001b[38;5;241m.\u001b[39mdisassemble_prefix_into_single_device_arrays(\n\u001b[1;32m   1913\u001b[0m           \u001b[38;5;28mlen\u001b[39m(\u001b[38;5;28mself\u001b[39m\u001b[38;5;241m.\u001b[39mordered_effects)),\n\u001b[1;32m   1914\u001b[0m       results\u001b[38;5;241m.\u001b[39mconsume_token())\n\u001b[1;32m   1915\u001b[0m \u001b[38;5;28;01melse\u001b[39;00m:\n\u001b[0;32m-> 1916\u001b[0m   results \u001b[38;5;241m=\u001b[39m \u001b[38;5;28;43mself\u001b[39;49m\u001b[38;5;241;43m.\u001b[39;49m\u001b[43mxla_executable\u001b[49m\u001b[38;5;241;43m.\u001b[39;49m\u001b[43mexecute_sharded\u001b[49m\u001b[43m(\u001b[49m\u001b[43minput_bufs\u001b[49m\u001b[43m)\u001b[49m\n\u001b[1;32m   1917\u001b[0m \u001b[38;5;28;01mif\u001b[39;00m dispatch\u001b[38;5;241m.\u001b[39mneeds_check_special():\n\u001b[1;32m   1918\u001b[0m   out_arrays \u001b[38;5;241m=\u001b[39m results\u001b[38;5;241m.\u001b[39mdisassemble_into_single_device_arrays()\n",
      "\u001b[0;31mKeyboardInterrupt\u001b[0m: "
     ]
    }
   ],
   "source": [
    "num_iters = 40000\n",
    "step_size = 1e5\n",
    "scaled_weights, scaled_loss_list, scaled_time_list = scaled_train(\n",
    "    init_weights=scaled_init_weights, \n",
    "    e2e_loss_fn=scaled_e2e_loss_fn,\n",
    "    n_epochs=num_iters,\n",
    "    step_size=step_size,\n",
    "    n_inner_loops=100,\n",
    "    save_weights=False,\n",
    "    tol=1e-12\n",
    ")"
   ]
  },
  {
   "cell_type": "code",
   "execution_count": 14,
   "id": "381a2add",
   "metadata": {},
   "outputs": [],
   "source": [
    "scaled_time = scaled_time_list[-1]\n",
    "scaled_loss = jnp.sum((scaled_network_fn(scaled_weights) - target)**2) / jnp.sum(target**2)"
   ]
  },
  {
   "cell_type": "code",
   "execution_count": 15,
   "id": "19f72108",
   "metadata": {},
   "outputs": [],
   "source": [
    "result_dict['scaled'] = {\n",
    "    'time': scaled_time,\n",
    "    'loss': scaled_loss\n",
    "}"
   ]
  },
  {
   "cell_type": "code",
   "execution_count": 16,
   "id": "b5c11254",
   "metadata": {},
   "outputs": [
    {
     "data": {
      "text/plain": [
       "{'comp': {'time': Array(24.896193, dtype=float32),\n",
       "  'loss': Array(1.6326912e-09, dtype=float32)},\n",
       " 'scaled': {'time': Array(53.19235, dtype=float32),\n",
       "  'loss': Array(2.360959e-09, dtype=float32)}}"
      ]
     },
     "execution_count": 16,
     "metadata": {},
     "output_type": "execute_result"
    }
   ],
   "source": [
    "result_dict"
   ]
  },
  {
   "cell_type": "code",
   "execution_count": 17,
   "id": "28932724",
   "metadata": {},
   "outputs": [
    {
     "data": {
      "text/plain": [
       "'2.36e-09'"
      ]
     },
     "execution_count": 17,
     "metadata": {},
     "output_type": "execute_result"
    }
   ],
   "source": [
    "l = result_dict['scaled']['loss']\n",
    "f'{l:0.2e}'"
   ]
  },
  {
   "cell_type": "markdown",
   "id": "0ba210b4",
   "metadata": {},
   "source": [
    "## Nuclear Norm Min"
   ]
  },
  {
   "cell_type": "code",
   "execution_count": null,
   "id": "563270be",
   "metadata": {},
   "outputs": [],
   "source": [
    "X = cp.Variable(shape=(output_dim, input_dim))\n",
    "objective = cp.Minimize(cp.norm(X, \"nuc\"))\n",
    "constraints = [cp.multiply(mask, (X - target)) == 0]\n",
    "prob = cp.Problem(objective, constraints)\n",
    "result = prob.solve(verbose=True)\n",
    "Xpred = X.value"
   ]
  },
  {
   "cell_type": "code",
   "execution_count": null,
   "id": "57dcea9b",
   "metadata": {},
   "outputs": [],
   "source": [
    "nuc_time = prob.solver_stats.solve_time\n",
    "nuc_loss = jnp.sum((Xpred - target)**2) / jnp.sum(target**2)"
   ]
  },
  {
   "cell_type": "code",
   "execution_count": null,
   "id": "22ff5fd5",
   "metadata": {},
   "outputs": [],
   "source": [
    "result_dict['nuc'] = {\n",
    "    'time': nuc_time,\n",
    "    'loss': nuc_loss\n",
    "}"
   ]
  }
 ],
 "metadata": {
  "kernelspec": {
   "display_name": "Python 3 (ipykernel)",
   "language": "python",
   "name": "python3"
  },
  "language_info": {
   "codemirror_mode": {
    "name": "ipython",
    "version": 3
   },
   "file_extension": ".py",
   "mimetype": "text/x-python",
   "name": "python",
   "nbconvert_exporter": "python",
   "pygments_lexer": "ipython3",
   "version": "3.10.10"
  }
 },
 "nbformat": 4,
 "nbformat_minor": 5
}
