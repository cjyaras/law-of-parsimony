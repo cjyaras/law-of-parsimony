{
 "cells": [
  {
   "cell_type": "code",
   "execution_count": 1,
   "metadata": {},
   "outputs": [],
   "source": [
    "import matplotlib.pyplot as plt\n",
    "from jax.random import PRNGKey, split\n",
    "import jax.numpy as jnp\n",
    "\n",
    "from jax import config\n",
    "config.update(\"jax_enable_x64\", True)\n",
    "\n",
    "from data import generate_data, generate_observation_matrix\n",
    "from loss import create_loss\n",
    "from network import init_net_orth, init_net_spec, compute_end_to_end, compute_factor, compress_network\n",
    "from solver import train\n",
    "from utils import compose, svd"
   ]
  },
  {
   "cell_type": "code",
   "execution_count": 2,
   "metadata": {},
   "outputs": [],
   "source": [
    "key = PRNGKey(0)\n",
    "\n",
    "# Simulated Data\n",
    "r = 5\n",
    "d = 1000\n",
    "\n",
    "key, subkey = split(key)\n",
    "target = generate_data(key=subkey, shape=(d, d), rank=r)\n",
    "\n",
    "key, subkey = split(key)\n",
    "percent_observed = 0.20\n",
    "mask = generate_observation_matrix(key=subkey, percent_observed=percent_observed, shape=(d, d))\n",
    "\n",
    "train_loss_fn = create_loss(target, mask=mask)\n",
    "test_loss_fn = create_loss(target, mask=1-mask)\n",
    "train_e2e_loss_fn = compose(train_loss_fn, compute_end_to_end)\n",
    "test_e2e_loss_fn = compose(test_loss_fn, compute_end_to_end)\n",
    "\n",
    "tol = 1e-10\n",
    "n_outer_loops = 2000\n",
    "n_trials = 5\n",
    "\n",
    "input_dim = d\n",
    "output_dim = d\n",
    "init_scale = 1e-3\n",
    "depth = 3\n",
    "step_size = 5e3\n",
    "\n",
    "rhats = jnp.arange(5, 21, 3)"
   ]
  },
  {
   "cell_type": "code",
   "execution_count": 3,
   "metadata": {},
   "outputs": [
    {
     "name": "stdout",
     "output_type": "stream",
     "text": [
      "rhat=Array(5, dtype=int64)\n"
     ]
    },
    {
     "data": {
      "application/vnd.jupyter.widget-view+json": {
       "model_id": "4f6c89c56d2443c58e78bf53083ad636",
       "version_major": 2,
       "version_minor": 0
      },
      "text/plain": [
       "  0%|          | 0/2000 [00:00<?, ?it/s]"
      ]
     },
     "metadata": {},
     "output_type": "display_data"
    },
    {
     "data": {
      "application/vnd.jupyter.widget-view+json": {
       "model_id": "52edbdf3356b446eb642621c5608ca70",
       "version_major": 2,
       "version_minor": 0
      },
      "text/plain": [
       "  0%|          | 0/2000 [00:00<?, ?it/s]"
      ]
     },
     "metadata": {},
     "output_type": "display_data"
    },
    {
     "data": {
      "application/vnd.jupyter.widget-view+json": {
       "model_id": "dd0fbf74203247cb95a942734fd2e366",
       "version_major": 2,
       "version_minor": 0
      },
      "text/plain": [
       "  0%|          | 0/2000 [00:00<?, ?it/s]"
      ]
     },
     "metadata": {},
     "output_type": "display_data"
    },
    {
     "data": {
      "application/vnd.jupyter.widget-view+json": {
       "model_id": "6ee720e8211440348e6b92122b1fc418",
       "version_major": 2,
       "version_minor": 0
      },
      "text/plain": [
       "  0%|          | 0/2000 [00:00<?, ?it/s]"
      ]
     },
     "metadata": {},
     "output_type": "display_data"
    },
    {
     "data": {
      "application/vnd.jupyter.widget-view+json": {
       "model_id": "0a8b2b0d3af143c2b93fe01d08082bcb",
       "version_major": 2,
       "version_minor": 0
      },
      "text/plain": [
       "  0%|          | 0/2000 [00:00<?, ?it/s]"
      ]
     },
     "metadata": {},
     "output_type": "display_data"
    },
    {
     "name": "stdout",
     "output_type": "stream",
     "text": [
      "rhat=Array(8, dtype=int64)\n"
     ]
    },
    {
     "data": {
      "application/vnd.jupyter.widget-view+json": {
       "model_id": "582cea4824e44f84b27515dc6dfdfa44",
       "version_major": 2,
       "version_minor": 0
      },
      "text/plain": [
       "  0%|          | 0/2000 [00:00<?, ?it/s]"
      ]
     },
     "metadata": {},
     "output_type": "display_data"
    },
    {
     "data": {
      "application/vnd.jupyter.widget-view+json": {
       "model_id": "68ba77b3c4ce4a0cad537bef43dca41f",
       "version_major": 2,
       "version_minor": 0
      },
      "text/plain": [
       "  0%|          | 0/2000 [00:00<?, ?it/s]"
      ]
     },
     "metadata": {},
     "output_type": "display_data"
    },
    {
     "data": {
      "application/vnd.jupyter.widget-view+json": {
       "model_id": "54baa5d31993465abba73b209fec853a",
       "version_major": 2,
       "version_minor": 0
      },
      "text/plain": [
       "  0%|          | 0/2000 [00:00<?, ?it/s]"
      ]
     },
     "metadata": {},
     "output_type": "display_data"
    },
    {
     "data": {
      "application/vnd.jupyter.widget-view+json": {
       "model_id": "70e1e795b7bb496c8cfe9fa4dd2574dd",
       "version_major": 2,
       "version_minor": 0
      },
      "text/plain": [
       "  0%|          | 0/2000 [00:00<?, ?it/s]"
      ]
     },
     "metadata": {},
     "output_type": "display_data"
    },
    {
     "data": {
      "application/vnd.jupyter.widget-view+json": {
       "model_id": "b30502e676c64b8cb6221a54a427666e",
       "version_major": 2,
       "version_minor": 0
      },
      "text/plain": [
       "  0%|          | 0/2000 [00:00<?, ?it/s]"
      ]
     },
     "metadata": {},
     "output_type": "display_data"
    },
    {
     "name": "stdout",
     "output_type": "stream",
     "text": [
      "rhat=Array(11, dtype=int64)\n"
     ]
    },
    {
     "data": {
      "application/vnd.jupyter.widget-view+json": {
       "model_id": "c1b70a6459a34c9498f973a78f5e86cd",
       "version_major": 2,
       "version_minor": 0
      },
      "text/plain": [
       "  0%|          | 0/2000 [00:00<?, ?it/s]"
      ]
     },
     "metadata": {},
     "output_type": "display_data"
    },
    {
     "data": {
      "application/vnd.jupyter.widget-view+json": {
       "model_id": "2dadaf54c98d4b9f87248ce66eef1bc9",
       "version_major": 2,
       "version_minor": 0
      },
      "text/plain": [
       "  0%|          | 0/2000 [00:00<?, ?it/s]"
      ]
     },
     "metadata": {},
     "output_type": "display_data"
    },
    {
     "data": {
      "application/vnd.jupyter.widget-view+json": {
       "model_id": "a2f4d3c059754179b3254c1711c5a478",
       "version_major": 2,
       "version_minor": 0
      },
      "text/plain": [
       "  0%|          | 0/2000 [00:00<?, ?it/s]"
      ]
     },
     "metadata": {},
     "output_type": "display_data"
    },
    {
     "data": {
      "application/vnd.jupyter.widget-view+json": {
       "model_id": "db4ef78e48a5458b8b13d5090fb9428f",
       "version_major": 2,
       "version_minor": 0
      },
      "text/plain": [
       "  0%|          | 0/2000 [00:00<?, ?it/s]"
      ]
     },
     "metadata": {},
     "output_type": "display_data"
    },
    {
     "data": {
      "application/vnd.jupyter.widget-view+json": {
       "model_id": "50b56c7c766d49d48da09f6c9e1b88c5",
       "version_major": 2,
       "version_minor": 0
      },
      "text/plain": [
       "  0%|          | 0/2000 [00:00<?, ?it/s]"
      ]
     },
     "metadata": {},
     "output_type": "display_data"
    },
    {
     "name": "stdout",
     "output_type": "stream",
     "text": [
      "rhat=Array(14, dtype=int64)\n"
     ]
    },
    {
     "data": {
      "application/vnd.jupyter.widget-view+json": {
       "model_id": "998447e2552543738ac3a3215e48775f",
       "version_major": 2,
       "version_minor": 0
      },
      "text/plain": [
       "  0%|          | 0/2000 [00:00<?, ?it/s]"
      ]
     },
     "metadata": {},
     "output_type": "display_data"
    },
    {
     "data": {
      "application/vnd.jupyter.widget-view+json": {
       "model_id": "1004b3b24ffb463b95cfffb2b17d16f9",
       "version_major": 2,
       "version_minor": 0
      },
      "text/plain": [
       "  0%|          | 0/2000 [00:00<?, ?it/s]"
      ]
     },
     "metadata": {},
     "output_type": "display_data"
    },
    {
     "data": {
      "application/vnd.jupyter.widget-view+json": {
       "model_id": "cef0a8ac4f0b4beba9034ed8a00fb5f5",
       "version_major": 2,
       "version_minor": 0
      },
      "text/plain": [
       "  0%|          | 0/2000 [00:00<?, ?it/s]"
      ]
     },
     "metadata": {},
     "output_type": "display_data"
    },
    {
     "data": {
      "application/vnd.jupyter.widget-view+json": {
       "model_id": "db49304c5f374aa2bf87adec227fbff1",
       "version_major": 2,
       "version_minor": 0
      },
      "text/plain": [
       "  0%|          | 0/2000 [00:00<?, ?it/s]"
      ]
     },
     "metadata": {},
     "output_type": "display_data"
    },
    {
     "data": {
      "application/vnd.jupyter.widget-view+json": {
       "model_id": "b778b3ef3b454935bd0436ebce678137",
       "version_major": 2,
       "version_minor": 0
      },
      "text/plain": [
       "  0%|          | 0/2000 [00:00<?, ?it/s]"
      ]
     },
     "metadata": {},
     "output_type": "display_data"
    },
    {
     "name": "stdout",
     "output_type": "stream",
     "text": [
      "rhat=Array(17, dtype=int64)\n"
     ]
    },
    {
     "data": {
      "application/vnd.jupyter.widget-view+json": {
       "model_id": "a278a60758044623829c623eef1c4a78",
       "version_major": 2,
       "version_minor": 0
      },
      "text/plain": [
       "  0%|          | 0/2000 [00:00<?, ?it/s]"
      ]
     },
     "metadata": {},
     "output_type": "display_data"
    },
    {
     "data": {
      "application/vnd.jupyter.widget-view+json": {
       "model_id": "7f9b9a068c444d5282ea5d4ae61d28cd",
       "version_major": 2,
       "version_minor": 0
      },
      "text/plain": [
       "  0%|          | 0/2000 [00:00<?, ?it/s]"
      ]
     },
     "metadata": {},
     "output_type": "display_data"
    },
    {
     "data": {
      "application/vnd.jupyter.widget-view+json": {
       "model_id": "02d8f2cfae2845d08f449365ef185286",
       "version_major": 2,
       "version_minor": 0
      },
      "text/plain": [
       "  0%|          | 0/2000 [00:00<?, ?it/s]"
      ]
     },
     "metadata": {},
     "output_type": "display_data"
    },
    {
     "data": {
      "application/vnd.jupyter.widget-view+json": {
       "model_id": "8db9ca0251694d0a84c99fdfcd30c115",
       "version_major": 2,
       "version_minor": 0
      },
      "text/plain": [
       "  0%|          | 0/2000 [00:00<?, ?it/s]"
      ]
     },
     "metadata": {},
     "output_type": "display_data"
    },
    {
     "data": {
      "application/vnd.jupyter.widget-view+json": {
       "model_id": "c74aec0119314f49bbb6c46fed08fcd2",
       "version_major": 2,
       "version_minor": 0
      },
      "text/plain": [
       "  0%|          | 0/2000 [00:00<?, ?it/s]"
      ]
     },
     "metadata": {},
     "output_type": "display_data"
    },
    {
     "name": "stdout",
     "output_type": "stream",
     "text": [
      "rhat=Array(20, dtype=int64)\n"
     ]
    },
    {
     "data": {
      "application/vnd.jupyter.widget-view+json": {
       "model_id": "1e618a73d4d24fd381071752b34cc9a5",
       "version_major": 2,
       "version_minor": 0
      },
      "text/plain": [
       "  0%|          | 0/2000 [00:00<?, ?it/s]"
      ]
     },
     "metadata": {},
     "output_type": "display_data"
    },
    {
     "data": {
      "application/vnd.jupyter.widget-view+json": {
       "model_id": "1c50a688ab9b4fd08b56ec256744c935",
       "version_major": 2,
       "version_minor": 0
      },
      "text/plain": [
       "  0%|          | 0/2000 [00:00<?, ?it/s]"
      ]
     },
     "metadata": {},
     "output_type": "display_data"
    },
    {
     "data": {
      "application/vnd.jupyter.widget-view+json": {
       "model_id": "8d3fc05a93c94f5a909877a27d9a63cf",
       "version_major": 2,
       "version_minor": 0
      },
      "text/plain": [
       "  0%|          | 0/2000 [00:00<?, ?it/s]"
      ]
     },
     "metadata": {},
     "output_type": "display_data"
    },
    {
     "data": {
      "application/vnd.jupyter.widget-view+json": {
       "model_id": "8f10ab5593a940f39aad3df0677189b0",
       "version_major": 2,
       "version_minor": 0
      },
      "text/plain": [
       "  0%|          | 0/2000 [00:00<?, ?it/s]"
      ]
     },
     "metadata": {},
     "output_type": "display_data"
    },
    {
     "data": {
      "application/vnd.jupyter.widget-view+json": {
       "model_id": "cfc18ffb58ad4050aa3d2a3fe4ef5a8f",
       "version_major": 2,
       "version_minor": 0
      },
      "text/plain": [
       "  0%|          | 0/2000 [00:00<?, ?it/s]"
      ]
     },
     "metadata": {},
     "output_type": "display_data"
    }
   ],
   "source": [
    "narrow_test_loss_mean = []\n",
    "narrow_test_loss_std = []\n",
    "narrow_num_iters_mean = []\n",
    "narrow_num_iters_std = []\n",
    "narrow_times_mean = []\n",
    "narrow_times_std = []\n",
    "\n",
    "for rhat in rhats:\n",
    "    print(f'{rhat=}')\n",
    "    \n",
    "    test_losses = []\n",
    "    num_iters = []\n",
    "    times = []\n",
    "    \n",
    "    for _ in range(n_trials):\n",
    "        key, subkey = split(key)\n",
    "        init_weights = init_net_orth(\n",
    "            key=subkey, \n",
    "            input_dim=input_dim, \n",
    "            output_dim=output_dim, \n",
    "            width=2*rhat, \n",
    "            depth=depth, \n",
    "            init_scale=init_scale\n",
    "        )\n",
    "\n",
    "        result = train(\n",
    "            init_weights=init_weights,\n",
    "            train_e2e_loss_fn=train_e2e_loss_fn,\n",
    "            n_outer_loops=n_outer_loops,\n",
    "            step_size=step_size,\n",
    "            test_e2e_loss_fn=test_e2e_loss_fn,\n",
    "            tol=tol\n",
    "        )\n",
    "        \n",
    "        test_losses.append(result['test_loss'][-1])\n",
    "        num_iters.append(len(result['test_loss']))\n",
    "        times.append(result['time'][-1])\n",
    "        \n",
    "    test_losses = jnp.array(test_losses)\n",
    "    num_iters = jnp.array(num_iters)\n",
    "    times = jnp.array(times)\n",
    "        \n",
    "    narrow_test_loss_mean.append(jnp.mean(test_losses))\n",
    "    narrow_test_loss_std.append(jnp.std(test_losses))\n",
    "    narrow_num_iters_mean.append(jnp.mean(num_iters))\n",
    "    narrow_num_iters_std.append(jnp.std(num_iters))\n",
    "    narrow_times_mean.append(jnp.mean(times))\n",
    "    narrow_times_std.append(jnp.std(times))"
   ]
  },
  {
   "cell_type": "code",
   "execution_count": 4,
   "metadata": {},
   "outputs": [
    {
     "name": "stdout",
     "output_type": "stream",
     "text": [
      "rhat=Array(5, dtype=int64)\n"
     ]
    },
    {
     "data": {
      "application/vnd.jupyter.widget-view+json": {
       "model_id": "12f5e5da9624484291cdafae751e2b1b",
       "version_major": 2,
       "version_minor": 0
      },
      "text/plain": [
       "  0%|          | 0/2000 [00:00<?, ?it/s]"
      ]
     },
     "metadata": {},
     "output_type": "display_data"
    },
    {
     "data": {
      "application/vnd.jupyter.widget-view+json": {
       "model_id": "4c39b49c1fdc4a43b0a650c86400cd90",
       "version_major": 2,
       "version_minor": 0
      },
      "text/plain": [
       "  0%|          | 0/2000 [00:00<?, ?it/s]"
      ]
     },
     "metadata": {},
     "output_type": "display_data"
    },
    {
     "data": {
      "application/vnd.jupyter.widget-view+json": {
       "model_id": "43fbfa978e2f4e0c91f80c689a7dd381",
       "version_major": 2,
       "version_minor": 0
      },
      "text/plain": [
       "  0%|          | 0/2000 [00:00<?, ?it/s]"
      ]
     },
     "metadata": {},
     "output_type": "display_data"
    },
    {
     "data": {
      "application/vnd.jupyter.widget-view+json": {
       "model_id": "8a23d8feb3dc451a8fc96758e9c04a53",
       "version_major": 2,
       "version_minor": 0
      },
      "text/plain": [
       "  0%|          | 0/2000 [00:00<?, ?it/s]"
      ]
     },
     "metadata": {},
     "output_type": "display_data"
    },
    {
     "data": {
      "application/vnd.jupyter.widget-view+json": {
       "model_id": "a48f642f992041c09f1cf96e0b7b229a",
       "version_major": 2,
       "version_minor": 0
      },
      "text/plain": [
       "  0%|          | 0/2000 [00:00<?, ?it/s]"
      ]
     },
     "metadata": {},
     "output_type": "display_data"
    },
    {
     "name": "stdout",
     "output_type": "stream",
     "text": [
      "rhat=Array(8, dtype=int64)\n"
     ]
    },
    {
     "data": {
      "application/vnd.jupyter.widget-view+json": {
       "model_id": "95d5356492e34a7fac0a9731510515e5",
       "version_major": 2,
       "version_minor": 0
      },
      "text/plain": [
       "  0%|          | 0/2000 [00:00<?, ?it/s]"
      ]
     },
     "metadata": {},
     "output_type": "display_data"
    },
    {
     "data": {
      "application/vnd.jupyter.widget-view+json": {
       "model_id": "193c6d12d3be4fa68f50e0e2aefdf531",
       "version_major": 2,
       "version_minor": 0
      },
      "text/plain": [
       "  0%|          | 0/2000 [00:00<?, ?it/s]"
      ]
     },
     "metadata": {},
     "output_type": "display_data"
    },
    {
     "data": {
      "application/vnd.jupyter.widget-view+json": {
       "model_id": "039b0dfd80f64dbb94b3ea0ae613c285",
       "version_major": 2,
       "version_minor": 0
      },
      "text/plain": [
       "  0%|          | 0/2000 [00:00<?, ?it/s]"
      ]
     },
     "metadata": {},
     "output_type": "display_data"
    },
    {
     "data": {
      "application/vnd.jupyter.widget-view+json": {
       "model_id": "5d76158f457c4cf88cf6321fe5f01548",
       "version_major": 2,
       "version_minor": 0
      },
      "text/plain": [
       "  0%|          | 0/2000 [00:00<?, ?it/s]"
      ]
     },
     "metadata": {},
     "output_type": "display_data"
    },
    {
     "data": {
      "application/vnd.jupyter.widget-view+json": {
       "model_id": "8caa6a927e234a8a8af0943f7b01c0b2",
       "version_major": 2,
       "version_minor": 0
      },
      "text/plain": [
       "  0%|          | 0/2000 [00:00<?, ?it/s]"
      ]
     },
     "metadata": {},
     "output_type": "display_data"
    },
    {
     "name": "stdout",
     "output_type": "stream",
     "text": [
      "rhat=Array(11, dtype=int64)\n"
     ]
    },
    {
     "data": {
      "application/vnd.jupyter.widget-view+json": {
       "model_id": "d82680e0613f46f9b727bef526437261",
       "version_major": 2,
       "version_minor": 0
      },
      "text/plain": [
       "  0%|          | 0/2000 [00:00<?, ?it/s]"
      ]
     },
     "metadata": {},
     "output_type": "display_data"
    },
    {
     "data": {
      "application/vnd.jupyter.widget-view+json": {
       "model_id": "8c2f8eb2bbf64a638593278cd04e4b53",
       "version_major": 2,
       "version_minor": 0
      },
      "text/plain": [
       "  0%|          | 0/2000 [00:00<?, ?it/s]"
      ]
     },
     "metadata": {},
     "output_type": "display_data"
    },
    {
     "data": {
      "application/vnd.jupyter.widget-view+json": {
       "model_id": "8046e95b331749598e1fe0ec169c53c6",
       "version_major": 2,
       "version_minor": 0
      },
      "text/plain": [
       "  0%|          | 0/2000 [00:00<?, ?it/s]"
      ]
     },
     "metadata": {},
     "output_type": "display_data"
    },
    {
     "data": {
      "application/vnd.jupyter.widget-view+json": {
       "model_id": "7b97343465ea479698ee52114203d7c5",
       "version_major": 2,
       "version_minor": 0
      },
      "text/plain": [
       "  0%|          | 0/2000 [00:00<?, ?it/s]"
      ]
     },
     "metadata": {},
     "output_type": "display_data"
    },
    {
     "data": {
      "application/vnd.jupyter.widget-view+json": {
       "model_id": "c0f3fdd935304543819fd3129bee5853",
       "version_major": 2,
       "version_minor": 0
      },
      "text/plain": [
       "  0%|          | 0/2000 [00:00<?, ?it/s]"
      ]
     },
     "metadata": {},
     "output_type": "display_data"
    },
    {
     "name": "stdout",
     "output_type": "stream",
     "text": [
      "rhat=Array(14, dtype=int64)\n"
     ]
    },
    {
     "data": {
      "application/vnd.jupyter.widget-view+json": {
       "model_id": "4af6b1767940458e846a1896110e5785",
       "version_major": 2,
       "version_minor": 0
      },
      "text/plain": [
       "  0%|          | 0/2000 [00:00<?, ?it/s]"
      ]
     },
     "metadata": {},
     "output_type": "display_data"
    },
    {
     "data": {
      "application/vnd.jupyter.widget-view+json": {
       "model_id": "20dcba351e4b486dbc34667cf26d6c3e",
       "version_major": 2,
       "version_minor": 0
      },
      "text/plain": [
       "  0%|          | 0/2000 [00:00<?, ?it/s]"
      ]
     },
     "metadata": {},
     "output_type": "display_data"
    },
    {
     "data": {
      "application/vnd.jupyter.widget-view+json": {
       "model_id": "9ec421ac6bb0495d9dc2480aa25e1609",
       "version_major": 2,
       "version_minor": 0
      },
      "text/plain": [
       "  0%|          | 0/2000 [00:00<?, ?it/s]"
      ]
     },
     "metadata": {},
     "output_type": "display_data"
    },
    {
     "data": {
      "application/vnd.jupyter.widget-view+json": {
       "model_id": "3f5b5a14e35f4b5fa8cc2afa204b63a6",
       "version_major": 2,
       "version_minor": 0
      },
      "text/plain": [
       "  0%|          | 0/2000 [00:00<?, ?it/s]"
      ]
     },
     "metadata": {},
     "output_type": "display_data"
    },
    {
     "data": {
      "application/vnd.jupyter.widget-view+json": {
       "model_id": "d25b790a3c194173b42071828b1c05b6",
       "version_major": 2,
       "version_minor": 0
      },
      "text/plain": [
       "  0%|          | 0/2000 [00:00<?, ?it/s]"
      ]
     },
     "metadata": {},
     "output_type": "display_data"
    },
    {
     "name": "stdout",
     "output_type": "stream",
     "text": [
      "rhat=Array(17, dtype=int64)\n"
     ]
    },
    {
     "data": {
      "application/vnd.jupyter.widget-view+json": {
       "model_id": "7b69773e32474eb1a74b2c9e6a84ff2e",
       "version_major": 2,
       "version_minor": 0
      },
      "text/plain": [
       "  0%|          | 0/2000 [00:00<?, ?it/s]"
      ]
     },
     "metadata": {},
     "output_type": "display_data"
    },
    {
     "data": {
      "application/vnd.jupyter.widget-view+json": {
       "model_id": "5a3bee6baf48459b8163442dd8f80b9e",
       "version_major": 2,
       "version_minor": 0
      },
      "text/plain": [
       "  0%|          | 0/2000 [00:00<?, ?it/s]"
      ]
     },
     "metadata": {},
     "output_type": "display_data"
    },
    {
     "data": {
      "application/vnd.jupyter.widget-view+json": {
       "model_id": "c5e6df1ee78848af80d3a802c0267b85",
       "version_major": 2,
       "version_minor": 0
      },
      "text/plain": [
       "  0%|          | 0/2000 [00:00<?, ?it/s]"
      ]
     },
     "metadata": {},
     "output_type": "display_data"
    },
    {
     "data": {
      "application/vnd.jupyter.widget-view+json": {
       "model_id": "6b4ea5ec8328410d83188590a70ba2d7",
       "version_major": 2,
       "version_minor": 0
      },
      "text/plain": [
       "  0%|          | 0/2000 [00:00<?, ?it/s]"
      ]
     },
     "metadata": {},
     "output_type": "display_data"
    },
    {
     "data": {
      "application/vnd.jupyter.widget-view+json": {
       "model_id": "6bc8884a79ab4cff970052200f387290",
       "version_major": 2,
       "version_minor": 0
      },
      "text/plain": [
       "  0%|          | 0/2000 [00:00<?, ?it/s]"
      ]
     },
     "metadata": {},
     "output_type": "display_data"
    },
    {
     "name": "stdout",
     "output_type": "stream",
     "text": [
      "rhat=Array(20, dtype=int64)\n"
     ]
    },
    {
     "data": {
      "application/vnd.jupyter.widget-view+json": {
       "model_id": "5244708954704323a66aa36b171b753a",
       "version_major": 2,
       "version_minor": 0
      },
      "text/plain": [
       "  0%|          | 0/2000 [00:00<?, ?it/s]"
      ]
     },
     "metadata": {},
     "output_type": "display_data"
    },
    {
     "data": {
      "application/vnd.jupyter.widget-view+json": {
       "model_id": "8573e0da181b4033b623ec3608cccabc",
       "version_major": 2,
       "version_minor": 0
      },
      "text/plain": [
       "  0%|          | 0/2000 [00:00<?, ?it/s]"
      ]
     },
     "metadata": {},
     "output_type": "display_data"
    },
    {
     "data": {
      "application/vnd.jupyter.widget-view+json": {
       "model_id": "f533dcc63e724adf90f73cfaee80a73e",
       "version_major": 2,
       "version_minor": 0
      },
      "text/plain": [
       "  0%|          | 0/2000 [00:00<?, ?it/s]"
      ]
     },
     "metadata": {},
     "output_type": "display_data"
    },
    {
     "data": {
      "application/vnd.jupyter.widget-view+json": {
       "model_id": "906adb6a245b462dabfe2e3395cb2980",
       "version_major": 2,
       "version_minor": 0
      },
      "text/plain": [
       "  0%|          | 0/2000 [00:00<?, ?it/s]"
      ]
     },
     "metadata": {},
     "output_type": "display_data"
    },
    {
     "data": {
      "application/vnd.jupyter.widget-view+json": {
       "model_id": "fe0923571a0d42e7bc2bea5db19d44ea",
       "version_major": 2,
       "version_minor": 0
      },
      "text/plain": [
       "  0%|          | 0/2000 [00:00<?, ?it/s]"
      ]
     },
     "metadata": {},
     "output_type": "display_data"
    }
   ],
   "source": [
    "comp_test_loss_mean = []\n",
    "comp_test_loss_std = []\n",
    "comp_num_iters_mean = []\n",
    "comp_num_iters_std = []\n",
    "comp_times_mean = []\n",
    "comp_times_std = []\n",
    "\n",
    "for rhat in rhats:\n",
    "    print(f'{rhat=}')\n",
    "    test_losses = []\n",
    "    num_iters = []\n",
    "    times = []\n",
    "    \n",
    "    for _ in range(n_trials):\n",
    "        key, subkey = split(key)\n",
    "        init_weights = init_net_orth(\n",
    "            key=subkey, \n",
    "            input_dim=input_dim, \n",
    "            output_dim=output_dim, \n",
    "            width=output_dim, \n",
    "            depth=depth, \n",
    "            init_scale=init_scale\n",
    "        )\n",
    "        \n",
    "        V = compute_factor(init_weights=init_weights, e2e_loss_fn=train_e2e_loss_fn, grad_rank=rhat)\n",
    "        comp_init_weights = compress_network(init_weights, V, rhat)\n",
    "        comp_step_size = [0.01 * step_size] + (depth * [step_size]) + [0.01 * step_size]\n",
    "\n",
    "        result = train(\n",
    "            init_weights=comp_init_weights,\n",
    "            train_e2e_loss_fn=train_e2e_loss_fn,\n",
    "            n_outer_loops=n_outer_loops,\n",
    "            step_size=comp_step_size,\n",
    "            test_e2e_loss_fn=test_e2e_loss_fn,\n",
    "            tol=tol\n",
    "        )\n",
    "        \n",
    "        test_losses.append(result['test_loss'][-1])\n",
    "        num_iters.append(len(result['test_loss']))\n",
    "        times.append(result['time'][-1])\n",
    "        \n",
    "    test_losses = jnp.array(test_losses)\n",
    "    num_iters = jnp.array(num_iters)\n",
    "    times = jnp.array(times)\n",
    "        \n",
    "    comp_test_loss_mean.append(jnp.mean(test_losses))\n",
    "    comp_test_loss_std.append(jnp.std(test_losses))\n",
    "    comp_num_iters_mean.append(jnp.mean(num_iters))\n",
    "    comp_num_iters_std.append(jnp.std(num_iters))\n",
    "    comp_times_mean.append(jnp.mean(times))\n",
    "    comp_times_std.append(jnp.std(times))"
   ]
  },
  {
   "cell_type": "code",
   "execution_count": 9,
   "metadata": {},
   "outputs": [
    {
     "data": {
      "image/png": "[encoded data removed]",
      "text/plain": [
       "<Figure size 1100x500 with 2 Axes>"
      ]
     },
     "metadata": {},
     "output_type": "display_data"
    }
   ],
   "source": [
    "fig, axes = plt.subplots(ncols=2, figsize=(11, 5))\n",
    "\n",
    "axes[0].errorbar(rhats, narrow_num_iters_mean, yerr=narrow_num_iters_std, fmt='-o', c='blue', capsize=5, markersize=8, linewidth=4, label='Narrow, Width=$2\\hat{r}$')\n",
    "axes[0].errorbar(rhats, comp_num_iters_mean, yerr=comp_num_iters_std, fmt='-o', c='green', capsize=5, markersize=8, linewidth=4, label='Compressed')\n",
    "axes[0].set_xlabel(r'$\\hat{r}$', fontsize=20)\n",
    "axes[0].set_ylabel('# Iterations (x100)', fontsize=20)\n",
    "# axes[0].vlines(x=5, ymin=200, ymax=1000, colors='r', linestyles='--', label='True Rank')\n",
    "axes[0].legend(fontsize=16)\n",
    "axes[0].tick_params(axis='both', which='major', labelsize=18)\n",
    "\n",
    "axes[1].errorbar(rhats, narrow_times_mean, yerr=narrow_times_std, fmt='-o', c='blue', capsize=5, markersize=8, linewidth=4, label='Narrow, Width=$2\\hat{r}$')\n",
    "axes[1].errorbar(rhats, comp_times_mean, yerr=comp_times_std, fmt='-o', c='green', capsize=5, markersize=8, linewidth=4, label='Compressed')\n",
    "axes[1].set_xlabel(r'$\\hat{r}$', fontsize=20)\n",
    "axes[1].set_ylabel('Time (s)', fontsize=20)\n",
    "# axes[1].vlines(x=5, ymin=4, ymax=20, colors='r', linestyles='--', label='True Rank')\n",
    "axes[1].legend(fontsize=16)\n",
    "axes[1].tick_params(axis='both', which='major', labelsize=18)\n",
    "fig.tight_layout()\n",
    "\n",
    "plt.savefig('figs/comp_iter_time.png', dpi=300, bbox_inches='tight')"
   ]
  }
 ],
 "metadata": {
  "kernelspec": {
   "display_name": "Python 3 (ipykernel)",
   "language": "python",
   "name": "python3"
  },
  "language_info": {
   "codemirror_mode": {
    "name": "ipython",
    "version": 3
   },
   "file_extension": ".py",
   "mimetype": "text/x-python",
   "name": "python",
   "nbconvert_exporter": "python",
   "pygments_lexer": "ipython3",
   "version": "3.10.10"
  }
 },
 "nbformat": 4,
 "nbformat_minor": 2
}
