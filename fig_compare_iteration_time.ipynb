{
 "cells": [
  {
   "cell_type": "code",
   "execution_count": 8,
   "metadata": {},
   "outputs": [],
   "source": [
    "import matplotlib.pyplot as plt\n",
    "from jax.random import PRNGKey, split\n",
    "import jax.numpy as jnp\n",
    "import numpy as np\n",
    "from jax import config\n",
    "config.update(\"jax_enable_x64\", True)\n",
    "\n",
    "from data import generate_data, generate_observation_matrix\n",
    "from loss import create_loss\n",
    "from network import init_net, compute_end_to_end, compute_factor, compress_network\n",
    "from solver import train\n",
    "from utils import compose, svd"
   ]
  },
  {
   "cell_type": "code",
   "execution_count": 2,
   "metadata": {},
   "outputs": [
    {
     "name": "stderr",
     "output_type": "stream",
     "text": [
      "2024-01-28 21:06:47.524109: W external/xla/xla/service/gpu/nvptx_compiler.cc:698] The NVIDIA driver's CUDA version is 12.2 which is older than the ptxas CUDA version (12.3.107). Because the driver is older than the ptxas version, XLA is disabling parallel compilation, which may slow down compilation. You should update your NVIDIA driver or use the NVIDIA-provided CUDA forward compatibility packages.\n"
     ]
    }
   ],
   "source": [
    "key = PRNGKey(0)\n",
    "\n",
    "# Simulated Data\n",
    "r = 5\n",
    "d = 1000\n",
    "\n",
    "key, subkey = split(key)\n",
    "target = generate_data(key=subkey, shape=(d, d), rank=r)\n",
    "\n",
    "key, subkey = split(key)\n",
    "percent_observed = 0.20\n",
    "mask = generate_observation_matrix(key=subkey, percent_observed=percent_observed, shape=(d, d))\n",
    "\n",
    "train_loss_fn = create_loss(target, mask=mask)\n",
    "test_loss_fn = create_loss(target, mask=1-mask)\n",
    "loss_fn_dict = {\n",
    "    'train': train_loss_fn,\n",
    "    'test': test_loss_fn\n",
    "}\n",
    "network_fn = compute_end_to_end\n",
    "\n",
    "tol = 1e-10\n",
    "n_outer_loops = 2000\n",
    "n_trials = 5\n",
    "\n",
    "input_dim = d\n",
    "output_dim = d\n",
    "init_scale = 1e-3\n",
    "depth = 3\n",
    "step_size = 5e3\n",
    "\n",
    "rhats = jnp.arange(5, 21, 3)"
   ]
  },
  {
   "cell_type": "code",
   "execution_count": 3,
   "metadata": {},
   "outputs": [
    {
     "name": "stdout",
     "output_type": "stream",
     "text": [
      "rhat=Array(5, dtype=int64)\n"
     ]
    },
    {
     "data": {
      "application/vnd.jupyter.widget-view+json": {
       "model_id": "35578e739f2c404cbacc1646677d411e",
       "version_major": 2,
       "version_minor": 0
      },
      "text/plain": [
       "  0%|          | 0/2000 [00:00<?, ?it/s]"
      ]
     },
     "metadata": {},
     "output_type": "display_data"
    },
    {
     "data": {
      "application/vnd.jupyter.widget-view+json": {
       "model_id": "7c1ba9d84b3941e598ee51ee495bc449",
       "version_major": 2,
       "version_minor": 0
      },
      "text/plain": [
       "  0%|          | 0/2000 [00:00<?, ?it/s]"
      ]
     },
     "metadata": {},
     "output_type": "display_data"
    },
    {
     "data": {
      "application/vnd.jupyter.widget-view+json": {
       "model_id": "956d871a986f4bbf9e2f84789f493a36",
       "version_major": 2,
       "version_minor": 0
      },
      "text/plain": [
       "  0%|          | 0/2000 [00:00<?, ?it/s]"
      ]
     },
     "metadata": {},
     "output_type": "display_data"
    },
    {
     "data": {
      "application/vnd.jupyter.widget-view+json": {
       "model_id": "cff63c9c51d747dc961ce6a618449e67",
       "version_major": 2,
       "version_minor": 0
      },
      "text/plain": [
       "  0%|          | 0/2000 [00:00<?, ?it/s]"
      ]
     },
     "metadata": {},
     "output_type": "display_data"
    },
    {
     "data": {
      "application/vnd.jupyter.widget-view+json": {
       "model_id": "52e670246487421696fb9d938ffb3548",
       "version_major": 2,
       "version_minor": 0
      },
      "text/plain": [
       "  0%|          | 0/2000 [00:00<?, ?it/s]"
      ]
     },
     "metadata": {},
     "output_type": "display_data"
    },
    {
     "name": "stdout",
     "output_type": "stream",
     "text": [
      "rhat=Array(8, dtype=int64)\n"
     ]
    },
    {
     "data": {
      "application/vnd.jupyter.widget-view+json": {
       "model_id": "ef41ba088fae4e36b0d192727a3dca5f",
       "version_major": 2,
       "version_minor": 0
      },
      "text/plain": [
       "  0%|          | 0/2000 [00:00<?, ?it/s]"
      ]
     },
     "metadata": {},
     "output_type": "display_data"
    },
    {
     "data": {
      "application/vnd.jupyter.widget-view+json": {
       "model_id": "5e8d4a0416b4418db307259d0cdcd16d",
       "version_major": 2,
       "version_minor": 0
      },
      "text/plain": [
       "  0%|          | 0/2000 [00:00<?, ?it/s]"
      ]
     },
     "metadata": {},
     "output_type": "display_data"
    },
    {
     "data": {
      "application/vnd.jupyter.widget-view+json": {
       "model_id": "e49efc5810834f97b9820a7ba18e06cb",
       "version_major": 2,
       "version_minor": 0
      },
      "text/plain": [
       "  0%|          | 0/2000 [00:00<?, ?it/s]"
      ]
     },
     "metadata": {},
     "output_type": "display_data"
    },
    {
     "data": {
      "application/vnd.jupyter.widget-view+json": {
       "model_id": "16e4cc818d9640cebde9a9abfb3ed813",
       "version_major": 2,
       "version_minor": 0
      },
      "text/plain": [
       "  0%|          | 0/2000 [00:00<?, ?it/s]"
      ]
     },
     "metadata": {},
     "output_type": "display_data"
    },
    {
     "data": {
      "application/vnd.jupyter.widget-view+json": {
       "model_id": "32276d80cd5749fa947522f519d03e16",
       "version_major": 2,
       "version_minor": 0
      },
      "text/plain": [
       "  0%|          | 0/2000 [00:00<?, ?it/s]"
      ]
     },
     "metadata": {},
     "output_type": "display_data"
    },
    {
     "name": "stdout",
     "output_type": "stream",
     "text": [
      "rhat=Array(11, dtype=int64)\n"
     ]
    },
    {
     "data": {
      "application/vnd.jupyter.widget-view+json": {
       "model_id": "a034271f061049ec869faa96b6be300a",
       "version_major": 2,
       "version_minor": 0
      },
      "text/plain": [
       "  0%|          | 0/2000 [00:00<?, ?it/s]"
      ]
     },
     "metadata": {},
     "output_type": "display_data"
    },
    {
     "data": {
      "application/vnd.jupyter.widget-view+json": {
       "model_id": "cc098d05adb74baa8ce38152a192127b",
       "version_major": 2,
       "version_minor": 0
      },
      "text/plain": [
       "  0%|          | 0/2000 [00:00<?, ?it/s]"
      ]
     },
     "metadata": {},
     "output_type": "display_data"
    },
    {
     "data": {
      "application/vnd.jupyter.widget-view+json": {
       "model_id": "eec4562e812446a69995848f70371ab5",
       "version_major": 2,
       "version_minor": 0
      },
      "text/plain": [
       "  0%|          | 0/2000 [00:00<?, ?it/s]"
      ]
     },
     "metadata": {},
     "output_type": "display_data"
    },
    {
     "data": {
      "application/vnd.jupyter.widget-view+json": {
       "model_id": "7a3ba5c311774c02b7418618bd0f1527",
       "version_major": 2,
       "version_minor": 0
      },
      "text/plain": [
       "  0%|          | 0/2000 [00:00<?, ?it/s]"
      ]
     },
     "metadata": {},
     "output_type": "display_data"
    },
    {
     "data": {
      "application/vnd.jupyter.widget-view+json": {
       "model_id": "3721b638d41f41609f018470bc4352c8",
       "version_major": 2,
       "version_minor": 0
      },
      "text/plain": [
       "  0%|          | 0/2000 [00:00<?, ?it/s]"
      ]
     },
     "metadata": {},
     "output_type": "display_data"
    },
    {
     "name": "stdout",
     "output_type": "stream",
     "text": [
      "rhat=Array(14, dtype=int64)\n"
     ]
    },
    {
     "data": {
      "application/vnd.jupyter.widget-view+json": {
       "model_id": "ae62c6becd9d448c8696bc68ec124289",
       "version_major": 2,
       "version_minor": 0
      },
      "text/plain": [
       "  0%|          | 0/2000 [00:00<?, ?it/s]"
      ]
     },
     "metadata": {},
     "output_type": "display_data"
    },
    {
     "data": {
      "application/vnd.jupyter.widget-view+json": {
       "model_id": "bc923e5cae1f4c56b68b4dbc21395459",
       "version_major": 2,
       "version_minor": 0
      },
      "text/plain": [
       "  0%|          | 0/2000 [00:00<?, ?it/s]"
      ]
     },
     "metadata": {},
     "output_type": "display_data"
    },
    {
     "data": {
      "application/vnd.jupyter.widget-view+json": {
       "model_id": "7a57e757c0d0467b9daff3f6e43de6b3",
       "version_major": 2,
       "version_minor": 0
      },
      "text/plain": [
       "  0%|          | 0/2000 [00:00<?, ?it/s]"
      ]
     },
     "metadata": {},
     "output_type": "display_data"
    },
    {
     "data": {
      "application/vnd.jupyter.widget-view+json": {
       "model_id": "1c5c979efc374d9a998a9109a1fce7a3",
       "version_major": 2,
       "version_minor": 0
      },
      "text/plain": [
       "  0%|          | 0/2000 [00:00<?, ?it/s]"
      ]
     },
     "metadata": {},
     "output_type": "display_data"
    },
    {
     "data": {
      "application/vnd.jupyter.widget-view+json": {
       "model_id": "6e29343c13f04ebb8005085069ebd1fa",
       "version_major": 2,
       "version_minor": 0
      },
      "text/plain": [
       "  0%|          | 0/2000 [00:00<?, ?it/s]"
      ]
     },
     "metadata": {},
     "output_type": "display_data"
    },
    {
     "name": "stdout",
     "output_type": "stream",
     "text": [
      "rhat=Array(17, dtype=int64)\n"
     ]
    },
    {
     "data": {
      "application/vnd.jupyter.widget-view+json": {
       "model_id": "5d70d4215ca04678a352449a32e865f6",
       "version_major": 2,
       "version_minor": 0
      },
      "text/plain": [
       "  0%|          | 0/2000 [00:00<?, ?it/s]"
      ]
     },
     "metadata": {},
     "output_type": "display_data"
    },
    {
     "data": {
      "application/vnd.jupyter.widget-view+json": {
       "model_id": "9f28195c4b4d42d9ad7d90ebcbb9d99c",
       "version_major": 2,
       "version_minor": 0
      },
      "text/plain": [
       "  0%|          | 0/2000 [00:00<?, ?it/s]"
      ]
     },
     "metadata": {},
     "output_type": "display_data"
    },
    {
     "data": {
      "application/vnd.jupyter.widget-view+json": {
       "model_id": "93b4f7c69f3348a39f4829ca27d09ff5",
       "version_major": 2,
       "version_minor": 0
      },
      "text/plain": [
       "  0%|          | 0/2000 [00:00<?, ?it/s]"
      ]
     },
     "metadata": {},
     "output_type": "display_data"
    },
    {
     "data": {
      "application/vnd.jupyter.widget-view+json": {
       "model_id": "ea826c0b742b4be5a517997e9d341a45",
       "version_major": 2,
       "version_minor": 0
      },
      "text/plain": [
       "  0%|          | 0/2000 [00:00<?, ?it/s]"
      ]
     },
     "metadata": {},
     "output_type": "display_data"
    },
    {
     "data": {
      "application/vnd.jupyter.widget-view+json": {
       "model_id": "0b3bba6a5e014d39a4242312c6d3e0ef",
       "version_major": 2,
       "version_minor": 0
      },
      "text/plain": [
       "  0%|          | 0/2000 [00:00<?, ?it/s]"
      ]
     },
     "metadata": {},
     "output_type": "display_data"
    },
    {
     "name": "stdout",
     "output_type": "stream",
     "text": [
      "rhat=Array(20, dtype=int64)\n"
     ]
    },
    {
     "data": {
      "application/vnd.jupyter.widget-view+json": {
       "model_id": "ed720cebcf294477ab60fcceac6dcc1c",
       "version_major": 2,
       "version_minor": 0
      },
      "text/plain": [
       "  0%|          | 0/2000 [00:00<?, ?it/s]"
      ]
     },
     "metadata": {},
     "output_type": "display_data"
    },
    {
     "data": {
      "application/vnd.jupyter.widget-view+json": {
       "model_id": "5da2bb71bab4495497eb3ab84ad00b87",
       "version_major": 2,
       "version_minor": 0
      },
      "text/plain": [
       "  0%|          | 0/2000 [00:00<?, ?it/s]"
      ]
     },
     "metadata": {},
     "output_type": "display_data"
    },
    {
     "data": {
      "application/vnd.jupyter.widget-view+json": {
       "model_id": "96e3931920954b60884353b4c2661bed",
       "version_major": 2,
       "version_minor": 0
      },
      "text/plain": [
       "  0%|          | 0/2000 [00:00<?, ?it/s]"
      ]
     },
     "metadata": {},
     "output_type": "display_data"
    },
    {
     "data": {
      "application/vnd.jupyter.widget-view+json": {
       "model_id": "1b875427aa864a89868f8597c2930f63",
       "version_major": 2,
       "version_minor": 0
      },
      "text/plain": [
       "  0%|          | 0/2000 [00:00<?, ?it/s]"
      ]
     },
     "metadata": {},
     "output_type": "display_data"
    },
    {
     "data": {
      "application/vnd.jupyter.widget-view+json": {
       "model_id": "84eb863091954ac9baac3d2ccb188359",
       "version_major": 2,
       "version_minor": 0
      },
      "text/plain": [
       "  0%|          | 0/2000 [00:00<?, ?it/s]"
      ]
     },
     "metadata": {},
     "output_type": "display_data"
    }
   ],
   "source": [
    "narrow_test_loss_mean = []\n",
    "narrow_test_loss_std = []\n",
    "narrow_num_iters_mean = []\n",
    "narrow_num_iters_std = []\n",
    "narrow_times_mean = []\n",
    "narrow_times_std = []\n",
    "\n",
    "for rhat in rhats:\n",
    "    print(f'{rhat=}')\n",
    "    \n",
    "    test_losses = []\n",
    "    num_iters = []\n",
    "    times = []\n",
    "    \n",
    "    for _ in range(n_trials):\n",
    "        key, subkey = split(key)\n",
    "        init_weights = init_net(\n",
    "            key=subkey, \n",
    "            input_dim=input_dim, \n",
    "            output_dim=output_dim, \n",
    "            width=2*rhat, \n",
    "            depth=depth, \n",
    "            init_scale=init_scale\n",
    "        )\n",
    "\n",
    "        result = train(\n",
    "            init_weights=init_weights,\n",
    "            network_fn=network_fn,\n",
    "            loss_fn_dict=loss_fn_dict,\n",
    "            n_outer_loops=n_outer_loops,\n",
    "            step_size=step_size,\n",
    "            tol=tol\n",
    "        )\n",
    "        \n",
    "        test_losses.append(result['test_loss'][-1])\n",
    "        num_iters.append(len(result['test_loss']))\n",
    "        times.append(result['time'][-1])\n",
    "        \n",
    "    test_losses = jnp.array(test_losses)\n",
    "    num_iters = jnp.array(num_iters)\n",
    "    times = jnp.array(times)\n",
    "        \n",
    "    narrow_test_loss_mean.append(jnp.mean(test_losses))\n",
    "    narrow_test_loss_std.append(jnp.std(test_losses))\n",
    "    narrow_num_iters_mean.append(jnp.mean(num_iters))\n",
    "    narrow_num_iters_std.append(jnp.std(num_iters))\n",
    "    narrow_times_mean.append(jnp.mean(times))\n",
    "    narrow_times_std.append(jnp.std(times))"
   ]
  },
  {
   "cell_type": "code",
   "execution_count": 4,
   "metadata": {},
   "outputs": [
    {
     "name": "stdout",
     "output_type": "stream",
     "text": [
      "rhat=Array(5, dtype=int64)\n"
     ]
    },
    {
     "data": {
      "application/vnd.jupyter.widget-view+json": {
       "model_id": "983fe76b949b45f7a4d56f9da27c041d",
       "version_major": 2,
       "version_minor": 0
      },
      "text/plain": [
       "  0%|          | 0/2000 [00:00<?, ?it/s]"
      ]
     },
     "metadata": {},
     "output_type": "display_data"
    },
    {
     "data": {
      "application/vnd.jupyter.widget-view+json": {
       "model_id": "b0e2fe510d86426db50ca12501dbc3ef",
       "version_major": 2,
       "version_minor": 0
      },
      "text/plain": [
       "  0%|          | 0/2000 [00:00<?, ?it/s]"
      ]
     },
     "metadata": {},
     "output_type": "display_data"
    },
    {
     "data": {
      "application/vnd.jupyter.widget-view+json": {
       "model_id": "41ae5784dc2a458a9fc9f982d9a9a0ee",
       "version_major": 2,
       "version_minor": 0
      },
      "text/plain": [
       "  0%|          | 0/2000 [00:00<?, ?it/s]"
      ]
     },
     "metadata": {},
     "output_type": "display_data"
    },
    {
     "data": {
      "application/vnd.jupyter.widget-view+json": {
       "model_id": "154d9ff90ba544fab70cc52778463c9d",
       "version_major": 2,
       "version_minor": 0
      },
      "text/plain": [
       "  0%|          | 0/2000 [00:00<?, ?it/s]"
      ]
     },
     "metadata": {},
     "output_type": "display_data"
    },
    {
     "data": {
      "application/vnd.jupyter.widget-view+json": {
       "model_id": "4277c002d8b048be8c085e19445c7da0",
       "version_major": 2,
       "version_minor": 0
      },
      "text/plain": [
       "  0%|          | 0/2000 [00:00<?, ?it/s]"
      ]
     },
     "metadata": {},
     "output_type": "display_data"
    },
    {
     "name": "stdout",
     "output_type": "stream",
     "text": [
      "rhat=Array(8, dtype=int64)\n"
     ]
    },
    {
     "data": {
      "application/vnd.jupyter.widget-view+json": {
       "model_id": "7ab2ad450f684468979e067fff551886",
       "version_major": 2,
       "version_minor": 0
      },
      "text/plain": [
       "  0%|          | 0/2000 [00:00<?, ?it/s]"
      ]
     },
     "metadata": {},
     "output_type": "display_data"
    },
    {
     "data": {
      "application/vnd.jupyter.widget-view+json": {
       "model_id": "f4cb635ea9d94b43a0ed4fb69a3b6e0e",
       "version_major": 2,
       "version_minor": 0
      },
      "text/plain": [
       "  0%|          | 0/2000 [00:00<?, ?it/s]"
      ]
     },
     "metadata": {},
     "output_type": "display_data"
    },
    {
     "data": {
      "application/vnd.jupyter.widget-view+json": {
       "model_id": "9cedfbc359844a8ea1741197592e37f2",
       "version_major": 2,
       "version_minor": 0
      },
      "text/plain": [
       "  0%|          | 0/2000 [00:00<?, ?it/s]"
      ]
     },
     "metadata": {},
     "output_type": "display_data"
    },
    {
     "data": {
      "application/vnd.jupyter.widget-view+json": {
       "model_id": "4d3005626b1f40e79915fb8a8d86d325",
       "version_major": 2,
       "version_minor": 0
      },
      "text/plain": [
       "  0%|          | 0/2000 [00:00<?, ?it/s]"
      ]
     },
     "metadata": {},
     "output_type": "display_data"
    },
    {
     "data": {
      "application/vnd.jupyter.widget-view+json": {
       "model_id": "6424d92b468f4c3a8d746bfa0d628653",
       "version_major": 2,
       "version_minor": 0
      },
      "text/plain": [
       "  0%|          | 0/2000 [00:00<?, ?it/s]"
      ]
     },
     "metadata": {},
     "output_type": "display_data"
    },
    {
     "name": "stdout",
     "output_type": "stream",
     "text": [
      "rhat=Array(11, dtype=int64)\n"
     ]
    },
    {
     "data": {
      "application/vnd.jupyter.widget-view+json": {
       "model_id": "d56f64fc9e3c48dfa8fafce085a27d6e",
       "version_major": 2,
       "version_minor": 0
      },
      "text/plain": [
       "  0%|          | 0/2000 [00:00<?, ?it/s]"
      ]
     },
     "metadata": {},
     "output_type": "display_data"
    },
    {
     "data": {
      "application/vnd.jupyter.widget-view+json": {
       "model_id": "25882a0897aa47e68a43a61d499ad1ef",
       "version_major": 2,
       "version_minor": 0
      },
      "text/plain": [
       "  0%|          | 0/2000 [00:00<?, ?it/s]"
      ]
     },
     "metadata": {},
     "output_type": "display_data"
    },
    {
     "data": {
      "application/vnd.jupyter.widget-view+json": {
       "model_id": "f6ea3e2ae9404b14b652a097d7b76ccf",
       "version_major": 2,
       "version_minor": 0
      },
      "text/plain": [
       "  0%|          | 0/2000 [00:00<?, ?it/s]"
      ]
     },
     "metadata": {},
     "output_type": "display_data"
    },
    {
     "data": {
      "application/vnd.jupyter.widget-view+json": {
       "model_id": "6099c6d3873649699ad13c762faac1b0",
       "version_major": 2,
       "version_minor": 0
      },
      "text/plain": [
       "  0%|          | 0/2000 [00:00<?, ?it/s]"
      ]
     },
     "metadata": {},
     "output_type": "display_data"
    },
    {
     "data": {
      "application/vnd.jupyter.widget-view+json": {
       "model_id": "d2efcf0c32a8446fa059830a2c798732",
       "version_major": 2,
       "version_minor": 0
      },
      "text/plain": [
       "  0%|          | 0/2000 [00:00<?, ?it/s]"
      ]
     },
     "metadata": {},
     "output_type": "display_data"
    },
    {
     "name": "stdout",
     "output_type": "stream",
     "text": [
      "rhat=Array(14, dtype=int64)\n"
     ]
    },
    {
     "data": {
      "application/vnd.jupyter.widget-view+json": {
       "model_id": "c12b8173d54144bdbe7d61c57c9175ba",
       "version_major": 2,
       "version_minor": 0
      },
      "text/plain": [
       "  0%|          | 0/2000 [00:00<?, ?it/s]"
      ]
     },
     "metadata": {},
     "output_type": "display_data"
    },
    {
     "data": {
      "application/vnd.jupyter.widget-view+json": {
       "model_id": "124dc7ad13914008b89e4d0ad86026de",
       "version_major": 2,
       "version_minor": 0
      },
      "text/plain": [
       "  0%|          | 0/2000 [00:00<?, ?it/s]"
      ]
     },
     "metadata": {},
     "output_type": "display_data"
    },
    {
     "data": {
      "application/vnd.jupyter.widget-view+json": {
       "model_id": "34815b2af99b46769ce5b449acc6d91f",
       "version_major": 2,
       "version_minor": 0
      },
      "text/plain": [
       "  0%|          | 0/2000 [00:00<?, ?it/s]"
      ]
     },
     "metadata": {},
     "output_type": "display_data"
    },
    {
     "data": {
      "application/vnd.jupyter.widget-view+json": {
       "model_id": "953a795ddcb244a68e9dc1e939ec6641",
       "version_major": 2,
       "version_minor": 0
      },
      "text/plain": [
       "  0%|          | 0/2000 [00:00<?, ?it/s]"
      ]
     },
     "metadata": {},
     "output_type": "display_data"
    },
    {
     "data": {
      "application/vnd.jupyter.widget-view+json": {
       "model_id": "946f942e29c348eea32a873bac3d34be",
       "version_major": 2,
       "version_minor": 0
      },
      "text/plain": [
       "  0%|          | 0/2000 [00:00<?, ?it/s]"
      ]
     },
     "metadata": {},
     "output_type": "display_data"
    },
    {
     "name": "stdout",
     "output_type": "stream",
     "text": [
      "rhat=Array(17, dtype=int64)\n"
     ]
    },
    {
     "data": {
      "application/vnd.jupyter.widget-view+json": {
       "model_id": "7cd35d1194fb4bf7b31d47587cced52b",
       "version_major": 2,
       "version_minor": 0
      },
      "text/plain": [
       "  0%|          | 0/2000 [00:00<?, ?it/s]"
      ]
     },
     "metadata": {},
     "output_type": "display_data"
    },
    {
     "data": {
      "application/vnd.jupyter.widget-view+json": {
       "model_id": "cc499bd282c443ecb9cbaeb20969da9e",
       "version_major": 2,
       "version_minor": 0
      },
      "text/plain": [
       "  0%|          | 0/2000 [00:00<?, ?it/s]"
      ]
     },
     "metadata": {},
     "output_type": "display_data"
    },
    {
     "data": {
      "application/vnd.jupyter.widget-view+json": {
       "model_id": "79f459693e5a4009aafb913290814169",
       "version_major": 2,
       "version_minor": 0
      },
      "text/plain": [
       "  0%|          | 0/2000 [00:00<?, ?it/s]"
      ]
     },
     "metadata": {},
     "output_type": "display_data"
    },
    {
     "data": {
      "application/vnd.jupyter.widget-view+json": {
       "model_id": "e27931fae42a4a8b95b7fe7f1f8b5495",
       "version_major": 2,
       "version_minor": 0
      },
      "text/plain": [
       "  0%|          | 0/2000 [00:00<?, ?it/s]"
      ]
     },
     "metadata": {},
     "output_type": "display_data"
    },
    {
     "data": {
      "application/vnd.jupyter.widget-view+json": {
       "model_id": "dd01eb87662f41fba2191dde19622437",
       "version_major": 2,
       "version_minor": 0
      },
      "text/plain": [
       "  0%|          | 0/2000 [00:00<?, ?it/s]"
      ]
     },
     "metadata": {},
     "output_type": "display_data"
    },
    {
     "name": "stdout",
     "output_type": "stream",
     "text": [
      "rhat=Array(20, dtype=int64)\n"
     ]
    },
    {
     "data": {
      "application/vnd.jupyter.widget-view+json": {
       "model_id": "d83529ea87b84abf870b38d679ebfb24",
       "version_major": 2,
       "version_minor": 0
      },
      "text/plain": [
       "  0%|          | 0/2000 [00:00<?, ?it/s]"
      ]
     },
     "metadata": {},
     "output_type": "display_data"
    },
    {
     "data": {
      "application/vnd.jupyter.widget-view+json": {
       "model_id": "e186ec04c71544f18156632a24ecab1a",
       "version_major": 2,
       "version_minor": 0
      },
      "text/plain": [
       "  0%|          | 0/2000 [00:00<?, ?it/s]"
      ]
     },
     "metadata": {},
     "output_type": "display_data"
    },
    {
     "data": {
      "application/vnd.jupyter.widget-view+json": {
       "model_id": "58c605a09b824998a82bf83dec477690",
       "version_major": 2,
       "version_minor": 0
      },
      "text/plain": [
       "  0%|          | 0/2000 [00:00<?, ?it/s]"
      ]
     },
     "metadata": {},
     "output_type": "display_data"
    },
    {
     "data": {
      "application/vnd.jupyter.widget-view+json": {
       "model_id": "e996495d355048be88652b1f7346672a",
       "version_major": 2,
       "version_minor": 0
      },
      "text/plain": [
       "  0%|          | 0/2000 [00:00<?, ?it/s]"
      ]
     },
     "metadata": {},
     "output_type": "display_data"
    },
    {
     "data": {
      "application/vnd.jupyter.widget-view+json": {
       "model_id": "b352baa223d1414683c34c7ccb807441",
       "version_major": 2,
       "version_minor": 0
      },
      "text/plain": [
       "  0%|          | 0/2000 [00:00<?, ?it/s]"
      ]
     },
     "metadata": {},
     "output_type": "display_data"
    }
   ],
   "source": [
    "comp_test_loss_mean = []\n",
    "comp_test_loss_std = []\n",
    "comp_num_iters_mean = []\n",
    "comp_num_iters_std = []\n",
    "comp_times_mean = []\n",
    "comp_times_std = []\n",
    "\n",
    "for rhat in rhats:\n",
    "    print(f'{rhat=}')\n",
    "    test_losses = []\n",
    "    num_iters = []\n",
    "    times = []\n",
    "    \n",
    "    for _ in range(n_trials):\n",
    "        key, subkey = split(key)\n",
    "        \n",
    "        init_weights = init_net(\n",
    "            key=subkey, \n",
    "            input_dim=input_dim, \n",
    "            output_dim=output_dim, \n",
    "            width=output_dim, \n",
    "            depth=depth, \n",
    "            init_scale=init_scale\n",
    "        )\n",
    "        \n",
    "        V = compute_factor(init_weights=init_weights, network_fn=network_fn, loss_fn=train_loss_fn, grad_rank=rhat)\n",
    "        comp_init_weights = compress_network(init_weights=init_weights, V=V, grad_rank=rhat)\n",
    "        \n",
    "        dlr = 0.01\n",
    "\n",
    "        result = train(\n",
    "            init_weights=comp_init_weights,\n",
    "            network_fn=network_fn,\n",
    "            loss_fn_dict=loss_fn_dict,\n",
    "            n_outer_loops=n_outer_loops,\n",
    "            step_size=step_size,\n",
    "            dlr=dlr,\n",
    "            tol=tol,\n",
    "            save_weights=True\n",
    "        )\n",
    "        \n",
    "        test_losses.append(result['test_loss'][-1])\n",
    "        num_iters.append(len(result['test_loss']))\n",
    "        times.append(result['time'][-1])\n",
    "        \n",
    "    test_losses = jnp.array(test_losses)\n",
    "    num_iters = jnp.array(num_iters)\n",
    "    times = jnp.array(times)\n",
    "        \n",
    "    comp_test_loss_mean.append(jnp.mean(test_losses))\n",
    "    comp_test_loss_std.append(jnp.std(test_losses))\n",
    "    comp_num_iters_mean.append(jnp.mean(num_iters))\n",
    "    comp_num_iters_std.append(jnp.std(num_iters))\n",
    "    comp_times_mean.append(jnp.mean(times))\n",
    "    comp_times_std.append(jnp.std(times))"
   ]
  },
  {
   "cell_type": "code",
   "execution_count": 9,
   "metadata": {},
   "outputs": [],
   "source": [
    "narrow_num_iters_mean = np.array(narrow_num_iters_mean)\n",
    "narrow_num_iters_std = np.array(narrow_num_iters_std)\n",
    "narrow_times_mean = np.array(narrow_times_mean)\n",
    "narrow_times_std = np.array(narrow_times_std)\n",
    "\n",
    "comp_num_iters_mean = np.array(comp_num_iters_mean)\n",
    "comp_num_iters_std = np.array(comp_num_iters_std)\n",
    "comp_times_mean = np.array(comp_times_mean)\n",
    "comp_times_std = np.array(comp_times_std)"
   ]
  },
  {
   "cell_type": "code",
   "execution_count": 16,
   "metadata": {},
   "outputs": [
    {
     "data": {
      "image/png": "[encoded data removed]",
      "text/plain": [
       "<Figure size 1100x500 with 2 Axes>"
      ]
     },
     "metadata": {},
     "output_type": "display_data"
    }
   ],
   "source": [
    "fig, axes = plt.subplots(ncols=2, figsize=(11, 5))\n",
    "\n",
    "axes[0].plot(rhats, narrow_num_iters_mean, c=\"purple\", label=\"Random\")\n",
    "axes[0].fill_between(rhats, narrow_num_iters_mean - narrow_num_iters_std, narrow_num_iters_mean + narrow_num_iters_std, color=\"purple\", alpha=0.2)\n",
    "axes[0].plot(rhats, comp_num_iters_mean, c=\"blue\", label=\"Compressed\")\n",
    "axes[0].fill_between(rhats, comp_num_iters_mean - comp_num_iters_std, comp_num_iters_mean + comp_num_iters_std, color=\"blue\", alpha=0.2)\n",
    "# axes[0].errorbar(rhats, narrow_num_iters_mean, yerr=narrow_num_iters_std, fmt='-o', c='blue', capsize=5, markersize=8, linewidth=4, label='Narrow, Width=$2\\hat{r}$')\n",
    "# axes[0].errorbar(rhats, comp_num_iters_mean, yerr=comp_num_iters_std, fmt='-o', c='green', capsize=5, markersize=8, linewidth=4, label='Compressed')\n",
    "axes[0].set_xlabel(r'$\\hat{r}$', fontsize=20)\n",
    "axes[0].set_ylabel('# Iterations (x100)', fontsize=20)\n",
    "# axes[0].vlines(x=5, ymin=200, ymax=1000, colors='r', linestyles='--', label='True Rank')\n",
    "axes[0].legend(fontsize=16)\n",
    "axes[0].tick_params(axis='both', which='major', labelsize=18)\n",
    "\n",
    "axes[1].plot(rhats, narrow_times_mean, c=\"purple\", label=\"Random\")\n",
    "axes[1].fill_between(rhats, narrow_times_mean - narrow_times_std, narrow_times_mean + narrow_times_std, color=\"purple\", alpha=0.2)\n",
    "axes[1].plot(rhats, comp_times_mean, c=\"blue\", label=\"Compressed\")\n",
    "axes[1].fill_between(rhats, comp_times_mean - comp_times_std, comp_times_mean + comp_times_std, color=\"blue\", alpha=0.2)\n",
    "# axes[1].errorbar(rhats, narrow_times_mean, yerr=narrow_times_std, fmt='-o', c='blue', capsize=5, markersize=8, linewidth=4, label='Narrow, Width=$2\\hat{r}$')\n",
    "# axes[1].errorbar(rhats, comp_times_mean, yerr=comp_times_std, fmt='-o', c='green', capsize=5, markersize=8, linewidth=4, label='Compressed')\n",
    "axes[1].set_xlabel(r'$\\hat{r}$', fontsize=20)\n",
    "axes[1].set_ylabel('Time (s)', fontsize=20)\n",
    "# axes[1].vlines(x=5, ymin=4, ymax=20, colors='r', linestyles='--', label='True Rank')\n",
    "axes[1].legend(fontsize=16)\n",
    "axes[1].tick_params(axis='both', which='major', labelsize=18)\n",
    "fig.tight_layout()\n",
    "\n",
    "plt.savefig('figs/comp_iter_time.png', dpi=500, bbox_inches='tight')"
   ]
  },
  {
   "cell_type": "code",
   "execution_count": null,
   "metadata": {},
   "outputs": [],
   "source": []
  }
 ],
 "metadata": {
  "kernelspec": {
   "display_name": "Python 3 (ipykernel)",
   "language": "python",
   "name": "python3"
  },
  "language_info": {
   "codemirror_mode": {
    "name": "ipython",
    "version": 3
   },
   "file_extension": ".py",
   "mimetype": "text/x-python",
   "name": "python",
   "nbconvert_exporter": "python",
   "pygments_lexer": "ipython3",
   "version": "3.11.7"
  }
 },
 "nbformat": 4,
 "nbformat_minor": 2
}
