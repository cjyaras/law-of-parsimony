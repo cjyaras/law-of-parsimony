{
 "cells": [
  {
   "cell_type": "code",
   "execution_count": 1,
   "metadata": {},
   "outputs": [],
   "source": [
    "import matplotlib.pyplot as plt\n",
    "from jax.random import PRNGKey, split\n",
    "import jax.numpy as jnp\n",
    "\n",
    "from jax import config\n",
    "config.update(\"jax_enable_x64\", True)\n",
    "\n",
    "from data import generate_data, generate_observation_matrix\n",
    "from loss import create_loss\n",
    "from network import init_net_orth, init_net_spec, compute_end_to_end, compute_factor, compress_network\n",
    "from solver import train\n",
    "from utils import compose, svd"
   ]
  },
  {
   "cell_type": "code",
   "execution_count": 4,
   "metadata": {},
   "outputs": [],
   "source": [
    "key = PRNGKey(0)\n",
    "\n",
    "# Simulated Data\n",
    "r = 5\n",
    "d = 1000\n",
    "\n",
    "key, subkey = split(key)\n",
    "target = generate_data(key=subkey, shape=(d, d), rank=r)\n",
    "\n",
    "key, subkey = split(key)\n",
    "percent_observed = 0.20\n",
    "mask = generate_observation_matrix(key=subkey, percent_observed=percent_observed, shape=(d, d))\n",
    "\n",
    "train_loss_fn = create_loss(target, mask=mask)\n",
    "test_loss_fn = create_loss(target, mask=1-mask)\n",
    "train_e2e_loss_fn = compose(train_loss_fn, compute_end_to_end)\n",
    "test_e2e_loss_fn = compose(test_loss_fn, compute_end_to_end)\n",
    "\n",
    "tol = 1e-10\n",
    "n_outer_loops = 2000\n",
    "n_trials = 5\n",
    "\n",
    "input_dim = d\n",
    "output_dim = d\n",
    "init_scale = 1e-3\n",
    "depth = 3\n",
    "step_size = 5e3\n",
    "\n",
    "widths = jnp.arange(10, 51, 10)"
   ]
  },
  {
   "cell_type": "code",
   "execution_count": 5,
   "metadata": {},
   "outputs": [
    {
     "name": "stdout",
     "output_type": "stream",
     "text": [
      "width=Array(10, dtype=int64)\n"
     ]
    },
    {
     "data": {
      "application/vnd.jupyter.widget-view+json": {
       "model_id": "126bbad99e714da59a0490389dba76ba",
       "version_major": 2,
       "version_minor": 0
      },
      "text/plain": [
       "  0%|          | 0/2000 [00:00<?, ?it/s]"
      ]
     },
     "metadata": {},
     "output_type": "display_data"
    },
    {
     "data": {
      "application/vnd.jupyter.widget-view+json": {
       "model_id": "6444afbbef184a8e80e209b7fcbeba31",
       "version_major": 2,
       "version_minor": 0
      },
      "text/plain": [
       "  0%|          | 0/2000 [00:00<?, ?it/s]"
      ]
     },
     "metadata": {},
     "output_type": "display_data"
    },
    {
     "data": {
      "application/vnd.jupyter.widget-view+json": {
       "model_id": "ab549bd412c8483c9194625ef1aec2da",
       "version_major": 2,
       "version_minor": 0
      },
      "text/plain": [
       "  0%|          | 0/2000 [00:00<?, ?it/s]"
      ]
     },
     "metadata": {},
     "output_type": "display_data"
    },
    {
     "data": {
      "application/vnd.jupyter.widget-view+json": {
       "model_id": "584d00c6afe14f6f8b78680886e9de20",
       "version_major": 2,
       "version_minor": 0
      },
      "text/plain": [
       "  0%|          | 0/2000 [00:00<?, ?it/s]"
      ]
     },
     "metadata": {},
     "output_type": "display_data"
    },
    {
     "data": {
      "application/vnd.jupyter.widget-view+json": {
       "model_id": "2dfbaae225db4e3c94eaa525d3c833b5",
       "version_major": 2,
       "version_minor": 0
      },
      "text/plain": [
       "  0%|          | 0/2000 [00:00<?, ?it/s]"
      ]
     },
     "metadata": {},
     "output_type": "display_data"
    },
    {
     "name": "stdout",
     "output_type": "stream",
     "text": [
      "width=Array(20, dtype=int64)\n"
     ]
    },
    {
     "data": {
      "application/vnd.jupyter.widget-view+json": {
       "model_id": "c21228ae438a430098b53cc2d284f5da",
       "version_major": 2,
       "version_minor": 0
      },
      "text/plain": [
       "  0%|          | 0/2000 [00:00<?, ?it/s]"
      ]
     },
     "metadata": {},
     "output_type": "display_data"
    },
    {
     "data": {
      "application/vnd.jupyter.widget-view+json": {
       "model_id": "3c895965fcf04b298fffd93406297390",
       "version_major": 2,
       "version_minor": 0
      },
      "text/plain": [
       "  0%|          | 0/2000 [00:00<?, ?it/s]"
      ]
     },
     "metadata": {},
     "output_type": "display_data"
    },
    {
     "data": {
      "application/vnd.jupyter.widget-view+json": {
       "model_id": "142b9be9f43d46d5b517b400fbac0a6e",
       "version_major": 2,
       "version_minor": 0
      },
      "text/plain": [
       "  0%|          | 0/2000 [00:00<?, ?it/s]"
      ]
     },
     "metadata": {},
     "output_type": "display_data"
    },
    {
     "data": {
      "application/vnd.jupyter.widget-view+json": {
       "model_id": "373b7338f1554ce8972a0dcbb9166e58",
       "version_major": 2,
       "version_minor": 0
      },
      "text/plain": [
       "  0%|          | 0/2000 [00:00<?, ?it/s]"
      ]
     },
     "metadata": {},
     "output_type": "display_data"
    },
    {
     "data": {
      "application/vnd.jupyter.widget-view+json": {
       "model_id": "a4ef574d1d2046cbbdc7b2c770cb3110",
       "version_major": 2,
       "version_minor": 0
      },
      "text/plain": [
       "  0%|          | 0/2000 [00:00<?, ?it/s]"
      ]
     },
     "metadata": {},
     "output_type": "display_data"
    },
    {
     "name": "stdout",
     "output_type": "stream",
     "text": [
      "width=Array(30, dtype=int64)\n"
     ]
    },
    {
     "data": {
      "application/vnd.jupyter.widget-view+json": {
       "model_id": "dd1bff9386b146e6a5f9f58d1954b067",
       "version_major": 2,
       "version_minor": 0
      },
      "text/plain": [
       "  0%|          | 0/2000 [00:00<?, ?it/s]"
      ]
     },
     "metadata": {},
     "output_type": "display_data"
    },
    {
     "data": {
      "application/vnd.jupyter.widget-view+json": {
       "model_id": "92256d20dab64dfdaa1a0444ae74bd72",
       "version_major": 2,
       "version_minor": 0
      },
      "text/plain": [
       "  0%|          | 0/2000 [00:00<?, ?it/s]"
      ]
     },
     "metadata": {},
     "output_type": "display_data"
    },
    {
     "data": {
      "application/vnd.jupyter.widget-view+json": {
       "model_id": "ca9dfc8f5dfc4bffaf47923c4cc07a39",
       "version_major": 2,
       "version_minor": 0
      },
      "text/plain": [
       "  0%|          | 0/2000 [00:00<?, ?it/s]"
      ]
     },
     "metadata": {},
     "output_type": "display_data"
    },
    {
     "data": {
      "application/vnd.jupyter.widget-view+json": {
       "model_id": "70ada0657e904b2cb3332099d6449a5d",
       "version_major": 2,
       "version_minor": 0
      },
      "text/plain": [
       "  0%|          | 0/2000 [00:00<?, ?it/s]"
      ]
     },
     "metadata": {},
     "output_type": "display_data"
    },
    {
     "data": {
      "application/vnd.jupyter.widget-view+json": {
       "model_id": "31dfbd10f5bf4ce48eaf3788acb1cd55",
       "version_major": 2,
       "version_minor": 0
      },
      "text/plain": [
       "  0%|          | 0/2000 [00:00<?, ?it/s]"
      ]
     },
     "metadata": {},
     "output_type": "display_data"
    },
    {
     "name": "stdout",
     "output_type": "stream",
     "text": [
      "width=Array(40, dtype=int64)\n"
     ]
    },
    {
     "data": {
      "application/vnd.jupyter.widget-view+json": {
       "model_id": "834f2742d9a0468c839e52676a6b80f5",
       "version_major": 2,
       "version_minor": 0
      },
      "text/plain": [
       "  0%|          | 0/2000 [00:00<?, ?it/s]"
      ]
     },
     "metadata": {},
     "output_type": "display_data"
    },
    {
     "data": {
      "application/vnd.jupyter.widget-view+json": {
       "model_id": "2a27281766f44269b7e9d3671dc87c6f",
       "version_major": 2,
       "version_minor": 0
      },
      "text/plain": [
       "  0%|          | 0/2000 [00:00<?, ?it/s]"
      ]
     },
     "metadata": {},
     "output_type": "display_data"
    },
    {
     "data": {
      "application/vnd.jupyter.widget-view+json": {
       "model_id": "9c69774340114582a35cc98a2914c669",
       "version_major": 2,
       "version_minor": 0
      },
      "text/plain": [
       "  0%|          | 0/2000 [00:00<?, ?it/s]"
      ]
     },
     "metadata": {},
     "output_type": "display_data"
    },
    {
     "data": {
      "application/vnd.jupyter.widget-view+json": {
       "model_id": "add451f64ae0463585ef5c59c5d9b5d8",
       "version_major": 2,
       "version_minor": 0
      },
      "text/plain": [
       "  0%|          | 0/2000 [00:00<?, ?it/s]"
      ]
     },
     "metadata": {},
     "output_type": "display_data"
    },
    {
     "data": {
      "application/vnd.jupyter.widget-view+json": {
       "model_id": "ed5e7cd378f0428b9d4c9a5d387d0897",
       "version_major": 2,
       "version_minor": 0
      },
      "text/plain": [
       "  0%|          | 0/2000 [00:00<?, ?it/s]"
      ]
     },
     "metadata": {},
     "output_type": "display_data"
    },
    {
     "name": "stdout",
     "output_type": "stream",
     "text": [
      "width=Array(50, dtype=int64)\n"
     ]
    },
    {
     "data": {
      "application/vnd.jupyter.widget-view+json": {
       "model_id": "703ee10eb3c040ada826d5821a7f8513",
       "version_major": 2,
       "version_minor": 0
      },
      "text/plain": [
       "  0%|          | 0/2000 [00:00<?, ?it/s]"
      ]
     },
     "metadata": {},
     "output_type": "display_data"
    },
    {
     "data": {
      "application/vnd.jupyter.widget-view+json": {
       "model_id": "30a65ed0ea604f569c9efcafdefd7e87",
       "version_major": 2,
       "version_minor": 0
      },
      "text/plain": [
       "  0%|          | 0/2000 [00:00<?, ?it/s]"
      ]
     },
     "metadata": {},
     "output_type": "display_data"
    },
    {
     "data": {
      "application/vnd.jupyter.widget-view+json": {
       "model_id": "2f7b7ba115db4bbfb6c66f9becdd1cf3",
       "version_major": 2,
       "version_minor": 0
      },
      "text/plain": [
       "  0%|          | 0/2000 [00:00<?, ?it/s]"
      ]
     },
     "metadata": {},
     "output_type": "display_data"
    },
    {
     "data": {
      "application/vnd.jupyter.widget-view+json": {
       "model_id": "b9d03b83232548b4843948fe14559e53",
       "version_major": 2,
       "version_minor": 0
      },
      "text/plain": [
       "  0%|          | 0/2000 [00:00<?, ?it/s]"
      ]
     },
     "metadata": {},
     "output_type": "display_data"
    },
    {
     "data": {
      "application/vnd.jupyter.widget-view+json": {
       "model_id": "f63742ccaa464bf1a071e6d16a4c8bac",
       "version_major": 2,
       "version_minor": 0
      },
      "text/plain": [
       "  0%|          | 0/2000 [00:00<?, ?it/s]"
      ]
     },
     "metadata": {},
     "output_type": "display_data"
    }
   ],
   "source": [
    "original_test_loss_mean = []\n",
    "original_test_loss_std = []\n",
    "original_num_iters_mean = []\n",
    "original_num_iters_std = []\n",
    "original_times_mean = []\n",
    "original_times_std = []\n",
    "\n",
    "for width in widths:\n",
    "    print(f'{width=}')\n",
    "    \n",
    "    test_losses = []\n",
    "    num_iters = []\n",
    "    times = []\n",
    "    \n",
    "    for _ in range(n_trials):\n",
    "        key, subkey = split(key)\n",
    "        init_weights = init_net_orth(\n",
    "            key=subkey, \n",
    "            input_dim=input_dim, \n",
    "            output_dim=output_dim, \n",
    "            width=width, \n",
    "            depth=depth, \n",
    "            init_scale=init_scale\n",
    "        )\n",
    "\n",
    "        result = train(\n",
    "            init_weights=init_weights,\n",
    "            train_e2e_loss_fn=train_e2e_loss_fn,\n",
    "            n_outer_loops=n_outer_loops,\n",
    "            step_size=step_size,\n",
    "            test_e2e_loss_fn=test_e2e_loss_fn,\n",
    "            tol=tol\n",
    "        )\n",
    "        \n",
    "        test_losses.append(result['test_loss'][-1])\n",
    "        num_iters.append(len(result['test_loss']))\n",
    "        times.append(result['time'][-1])\n",
    "        \n",
    "    test_losses = jnp.array(test_losses)\n",
    "    num_iters = jnp.array(num_iters)\n",
    "    times = jnp.array(times)\n",
    "        \n",
    "    original_test_loss_mean.append(jnp.mean(test_losses))\n",
    "    original_test_loss_std.append(jnp.std(test_losses))\n",
    "    original_num_iters_mean.append(jnp.mean(num_iters))\n",
    "    original_num_iters_std.append(jnp.std(num_iters))\n",
    "    original_times_mean.append(jnp.mean(times))\n",
    "    original_times_std.append(jnp.std(times))"
   ]
  },
  {
   "cell_type": "code",
   "execution_count": 6,
   "metadata": {},
   "outputs": [
    {
     "name": "stdout",
     "output_type": "stream",
     "text": [
      "width=Array(10, dtype=int64)\n"
     ]
    },
    {
     "data": {
      "application/vnd.jupyter.widget-view+json": {
       "model_id": "864ff0b5ae134142a9d2513fca82ecd0",
       "version_major": 2,
       "version_minor": 0
      },
      "text/plain": [
       "  0%|          | 0/2000 [00:00<?, ?it/s]"
      ]
     },
     "metadata": {},
     "output_type": "display_data"
    },
    {
     "data": {
      "application/vnd.jupyter.widget-view+json": {
       "model_id": "8ef44b45a1ac46cc993c443d4b8ea9f8",
       "version_major": 2,
       "version_minor": 0
      },
      "text/plain": [
       "  0%|          | 0/2000 [00:00<?, ?it/s]"
      ]
     },
     "metadata": {},
     "output_type": "display_data"
    },
    {
     "data": {
      "application/vnd.jupyter.widget-view+json": {
       "model_id": "607dd2d40fd54666b46bf4a4a04c4869",
       "version_major": 2,
       "version_minor": 0
      },
      "text/plain": [
       "  0%|          | 0/2000 [00:00<?, ?it/s]"
      ]
     },
     "metadata": {},
     "output_type": "display_data"
    },
    {
     "data": {
      "application/vnd.jupyter.widget-view+json": {
       "model_id": "47b027f6f1bd414d83e465c45c4dda41",
       "version_major": 2,
       "version_minor": 0
      },
      "text/plain": [
       "  0%|          | 0/2000 [00:00<?, ?it/s]"
      ]
     },
     "metadata": {},
     "output_type": "display_data"
    },
    {
     "data": {
      "application/vnd.jupyter.widget-view+json": {
       "model_id": "c75ffb0f4ac2497bb0b64f728590b16d",
       "version_major": 2,
       "version_minor": 0
      },
      "text/plain": [
       "  0%|          | 0/2000 [00:00<?, ?it/s]"
      ]
     },
     "metadata": {},
     "output_type": "display_data"
    },
    {
     "name": "stdout",
     "output_type": "stream",
     "text": [
      "width=Array(20, dtype=int64)\n"
     ]
    },
    {
     "data": {
      "application/vnd.jupyter.widget-view+json": {
       "model_id": "fc57a57420224972a96e3d701a5b2778",
       "version_major": 2,
       "version_minor": 0
      },
      "text/plain": [
       "  0%|          | 0/2000 [00:00<?, ?it/s]"
      ]
     },
     "metadata": {},
     "output_type": "display_data"
    },
    {
     "data": {
      "application/vnd.jupyter.widget-view+json": {
       "model_id": "19b3bfe125e94c3eb49b5b2eaca64fbc",
       "version_major": 2,
       "version_minor": 0
      },
      "text/plain": [
       "  0%|          | 0/2000 [00:00<?, ?it/s]"
      ]
     },
     "metadata": {},
     "output_type": "display_data"
    },
    {
     "data": {
      "application/vnd.jupyter.widget-view+json": {
       "model_id": "671734568b004b6186ce1293bf6d620d",
       "version_major": 2,
       "version_minor": 0
      },
      "text/plain": [
       "  0%|          | 0/2000 [00:00<?, ?it/s]"
      ]
     },
     "metadata": {},
     "output_type": "display_data"
    },
    {
     "data": {
      "application/vnd.jupyter.widget-view+json": {
       "model_id": "6a28f209ade74be89195753f0f844216",
       "version_major": 2,
       "version_minor": 0
      },
      "text/plain": [
       "  0%|          | 0/2000 [00:00<?, ?it/s]"
      ]
     },
     "metadata": {},
     "output_type": "display_data"
    },
    {
     "data": {
      "application/vnd.jupyter.widget-view+json": {
       "model_id": "d39fd102641f4ae5ae9d3846c51ddb43",
       "version_major": 2,
       "version_minor": 0
      },
      "text/plain": [
       "  0%|          | 0/2000 [00:00<?, ?it/s]"
      ]
     },
     "metadata": {},
     "output_type": "display_data"
    },
    {
     "name": "stdout",
     "output_type": "stream",
     "text": [
      "width=Array(30, dtype=int64)\n"
     ]
    },
    {
     "data": {
      "application/vnd.jupyter.widget-view+json": {
       "model_id": "9b4c66c40f2f43108a81e8f337a05264",
       "version_major": 2,
       "version_minor": 0
      },
      "text/plain": [
       "  0%|          | 0/2000 [00:00<?, ?it/s]"
      ]
     },
     "metadata": {},
     "output_type": "display_data"
    },
    {
     "data": {
      "application/vnd.jupyter.widget-view+json": {
       "model_id": "931d7804e8384b0db3d86cb9a50dd0bd",
       "version_major": 2,
       "version_minor": 0
      },
      "text/plain": [
       "  0%|          | 0/2000 [00:00<?, ?it/s]"
      ]
     },
     "metadata": {},
     "output_type": "display_data"
    },
    {
     "data": {
      "application/vnd.jupyter.widget-view+json": {
       "model_id": "7cb9449fa290436bb3b98957d6dd4b11",
       "version_major": 2,
       "version_minor": 0
      },
      "text/plain": [
       "  0%|          | 0/2000 [00:00<?, ?it/s]"
      ]
     },
     "metadata": {},
     "output_type": "display_data"
    },
    {
     "data": {
      "application/vnd.jupyter.widget-view+json": {
       "model_id": "a07f47b987204248b0a73725bcb12976",
       "version_major": 2,
       "version_minor": 0
      },
      "text/plain": [
       "  0%|          | 0/2000 [00:00<?, ?it/s]"
      ]
     },
     "metadata": {},
     "output_type": "display_data"
    },
    {
     "data": {
      "application/vnd.jupyter.widget-view+json": {
       "model_id": "207ba8747966473385b5e6c328405f34",
       "version_major": 2,
       "version_minor": 0
      },
      "text/plain": [
       "  0%|          | 0/2000 [00:00<?, ?it/s]"
      ]
     },
     "metadata": {},
     "output_type": "display_data"
    },
    {
     "name": "stdout",
     "output_type": "stream",
     "text": [
      "width=Array(40, dtype=int64)\n"
     ]
    },
    {
     "data": {
      "application/vnd.jupyter.widget-view+json": {
       "model_id": "fa468a3aefa44d3a988d7b47471f56fc",
       "version_major": 2,
       "version_minor": 0
      },
      "text/plain": [
       "  0%|          | 0/2000 [00:00<?, ?it/s]"
      ]
     },
     "metadata": {},
     "output_type": "display_data"
    },
    {
     "data": {
      "application/vnd.jupyter.widget-view+json": {
       "model_id": "0683a47231b8468f99dd14ddf48e2aa3",
       "version_major": 2,
       "version_minor": 0
      },
      "text/plain": [
       "  0%|          | 0/2000 [00:00<?, ?it/s]"
      ]
     },
     "metadata": {},
     "output_type": "display_data"
    },
    {
     "data": {
      "application/vnd.jupyter.widget-view+json": {
       "model_id": "cfb64c6df06d47579b00b928441fd66e",
       "version_major": 2,
       "version_minor": 0
      },
      "text/plain": [
       "  0%|          | 0/2000 [00:00<?, ?it/s]"
      ]
     },
     "metadata": {},
     "output_type": "display_data"
    },
    {
     "data": {
      "application/vnd.jupyter.widget-view+json": {
       "model_id": "1e285de9be6a4feba64517fe4051a86c",
       "version_major": 2,
       "version_minor": 0
      },
      "text/plain": [
       "  0%|          | 0/2000 [00:00<?, ?it/s]"
      ]
     },
     "metadata": {},
     "output_type": "display_data"
    },
    {
     "data": {
      "application/vnd.jupyter.widget-view+json": {
       "model_id": "a46d0a80ee4543ed9bee7d98b791c913",
       "version_major": 2,
       "version_minor": 0
      },
      "text/plain": [
       "  0%|          | 0/2000 [00:00<?, ?it/s]"
      ]
     },
     "metadata": {},
     "output_type": "display_data"
    },
    {
     "name": "stdout",
     "output_type": "stream",
     "text": [
      "width=Array(50, dtype=int64)\n"
     ]
    },
    {
     "data": {
      "application/vnd.jupyter.widget-view+json": {
       "model_id": "714e9c98746f4a618d962548c55bb3e9",
       "version_major": 2,
       "version_minor": 0
      },
      "text/plain": [
       "  0%|          | 0/2000 [00:00<?, ?it/s]"
      ]
     },
     "metadata": {},
     "output_type": "display_data"
    },
    {
     "data": {
      "application/vnd.jupyter.widget-view+json": {
       "model_id": "6463ffa47b534cb6a778e76c88d75b53",
       "version_major": 2,
       "version_minor": 0
      },
      "text/plain": [
       "  0%|          | 0/2000 [00:00<?, ?it/s]"
      ]
     },
     "metadata": {},
     "output_type": "display_data"
    },
    {
     "data": {
      "application/vnd.jupyter.widget-view+json": {
       "model_id": "5a5cc31ba5c546e58213a359f45eafd8",
       "version_major": 2,
       "version_minor": 0
      },
      "text/plain": [
       "  0%|          | 0/2000 [00:00<?, ?it/s]"
      ]
     },
     "metadata": {},
     "output_type": "display_data"
    },
    {
     "data": {
      "application/vnd.jupyter.widget-view+json": {
       "model_id": "26efbae4eaf84e2f8db8cee05b84b411",
       "version_major": 2,
       "version_minor": 0
      },
      "text/plain": [
       "  0%|          | 0/2000 [00:00<?, ?it/s]"
      ]
     },
     "metadata": {},
     "output_type": "display_data"
    },
    {
     "data": {
      "application/vnd.jupyter.widget-view+json": {
       "model_id": "06f28b0965564f02bd27326dc4e81ef7",
       "version_major": 2,
       "version_minor": 0
      },
      "text/plain": [
       "  0%|          | 0/2000 [00:00<?, ?it/s]"
      ]
     },
     "metadata": {},
     "output_type": "display_data"
    }
   ],
   "source": [
    "comp_test_loss_mean = []\n",
    "comp_test_loss_std = []\n",
    "comp_num_iters_mean = []\n",
    "comp_num_iters_std = []\n",
    "comp_times_mean = []\n",
    "comp_times_std = []\n",
    "\n",
    "for width in widths:\n",
    "    print(f'{width=}')\n",
    "    rhat = width // 2\n",
    "    test_losses = []\n",
    "    num_iters = []\n",
    "    times = []\n",
    "    \n",
    "    for _ in range(n_trials):\n",
    "        key, subkey = split(key)\n",
    "        init_weights = init_net_orth(\n",
    "            key=subkey, \n",
    "            input_dim=input_dim, \n",
    "            output_dim=output_dim, \n",
    "            width=output_dim, \n",
    "            depth=depth, \n",
    "            init_scale=init_scale\n",
    "        )\n",
    "        \n",
    "        V = compute_factor(init_weights=init_weights, e2e_loss_fn=train_e2e_loss_fn, grad_rank=rhat)\n",
    "        comp_init_weights = compress_network(init_weights, V, rhat)\n",
    "        comp_step_size = [0.01 * step_size] + (depth * [step_size]) + [0.01 * step_size]\n",
    "\n",
    "        result = train(\n",
    "            init_weights=comp_init_weights,\n",
    "            train_e2e_loss_fn=train_e2e_loss_fn,\n",
    "            n_outer_loops=n_outer_loops,\n",
    "            step_size=comp_step_size,\n",
    "            test_e2e_loss_fn=test_e2e_loss_fn,\n",
    "            tol=tol\n",
    "        )\n",
    "        \n",
    "        test_losses.append(result['test_loss'][-1])\n",
    "        num_iters.append(len(result['test_loss']))\n",
    "        times.append(result['time'][-1])\n",
    "        \n",
    "    test_losses = jnp.array(test_losses)\n",
    "    num_iters = jnp.array(num_iters)\n",
    "    times = jnp.array(times)\n",
    "        \n",
    "    comp_test_loss_mean.append(jnp.mean(test_losses))\n",
    "    comp_test_loss_std.append(jnp.std(test_losses))\n",
    "    comp_num_iters_mean.append(jnp.mean(num_iters))\n",
    "    comp_num_iters_std.append(jnp.std(num_iters))\n",
    "    comp_times_mean.append(jnp.mean(times))\n",
    "    comp_times_std.append(jnp.std(times))"
   ]
  },
  {
   "cell_type": "code",
   "execution_count": 9,
   "metadata": {},
   "outputs": [
    {
     "data": {
      "image/png": "[encoded data removed]",
      "text/plain": [
       "<Figure size 1200x500 with 2 Axes>"
      ]
     },
     "metadata": {},
     "output_type": "display_data"
    }
   ],
   "source": [
    "fig, axes = plt.subplots(ncols=2, figsize=(12, 5))\n",
    "\n",
    "axes[0].errorbar(widths, original_num_iters_mean, yerr=original_num_iters_std, fmt='-o', capsize=5, label='Original')\n",
    "axes[0].errorbar(widths, comp_num_iters_mean, yerr=comp_num_iters_std, fmt='-o', capsize=5, label='Compressed')\n",
    "axes[0].set_xlabel('Width', fontsize=12)\n",
    "axes[0].set_ylabel('# Iterations', fontsize=12)\n",
    "# axes[0].vlines(x=10, ymin=min(three_layer_num_iters_mean), ymax=500, colors='r', linestyles='--', label='True Rank')\n",
    "axes[0].legend(fontsize=12)\n",
    "\n",
    "axes[1].errorbar(widths, original_times_mean, yerr=original_times_std, fmt='-o', capsize=5, label='Original')\n",
    "axes[1].errorbar(widths, comp_times_mean, yerr=comp_times_std, fmt='-o', capsize=5, label='Compressed')\n",
    "axes[1].set_xlabel('Width', fontsize=12)\n",
    "axes[1].set_ylabel('Time (s)', fontsize=12)\n",
    "# axes[1].vlines(x=10, ymin=min(three_layer_num_iters_mean), ymax=500, colors='r', linestyles='--', label='True Rank')\n",
    "axes[1].legend(fontsize=12)\n",
    "\n",
    "plt.savefig('figs/comp_iter_time.png', dpi=300, bbox_inches='tight')"
   ]
  }
 ],
 "metadata": {
  "kernelspec": {
   "display_name": "Python 3 (ipykernel)",
   "language": "python",
   "name": "python3"
  },
  "language_info": {
   "codemirror_mode": {
    "name": "ipython",
    "version": 3
   },
   "file_extension": ".py",
   "mimetype": "text/x-python",
   "name": "python",
   "nbconvert_exporter": "python",
   "pygments_lexer": "ipython3",
   "version": "3.10.10"
  }
 },
 "nbformat": 4,
 "nbformat_minor": 2
}
