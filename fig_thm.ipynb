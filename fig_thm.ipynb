{
 "cells": [
  {
   "cell_type": "code",
   "execution_count": 2,
   "metadata": {},
   "outputs": [],
   "source": [
    "import matplotlib.pyplot as plt\n",
    "import jax.numpy as jnp\n",
    "\n",
    "from jax.random import PRNGKey, split\n",
    "from jax import config\n",
    "config.update(\"jax_enable_x64\", True)\n",
    "from tqdm import tqdm\n",
    "\n",
    "from data import generate_data\n",
    "from loss import create_loss\n",
    "from network import init_net, compute_end_to_end, compute_factor\n",
    "from solver import train\n",
    "from utils import compose, svd, compute_angle, compute_svd_series\n",
    "from plot import plot_sv_series"
   ]
  },
  {
   "cell_type": "code",
   "execution_count": 3,
   "metadata": {},
   "outputs": [],
   "source": [
    "key = PRNGKey(0)\n",
    "\n",
    "input_dim = 30\n",
    "output_dim = 30\n",
    "rank = 3\n",
    "depth = 3\n",
    "init_type = \"orth\"\n",
    "init_scale = 1\n",
    "\n",
    "key, subkey = split(key)\n",
    "target = generate_data(key=subkey, shape=(output_dim, input_dim), rank=rank)\n",
    "\n",
    "key, subkey = split(key)\n",
    "init_weights = init_net(\n",
    "    key=subkey, \n",
    "    input_dim=input_dim, \n",
    "    output_dim=output_dim,\n",
    "    width=input_dim,\n",
    "    depth=depth,\n",
    "    init_scale=init_scale\n",
    ")\n",
    "\n",
    "loss_fn = create_loss(target)\n",
    "\n",
    "loss_fn_dict = {\n",
    "    'train': loss_fn\n",
    "}\n",
    "network_fn = compute_end_to_end"
   ]
  },
  {
   "cell_type": "code",
   "execution_count": 4,
   "metadata": {},
   "outputs": [
    {
     "data": {
      "application/vnd.jupyter.widget-view+json": {
       "model_id": "93ea06b90d5a408b82f37d34b06b007e",
       "version_major": 2,
       "version_minor": 0
      },
      "text/plain": [
       "  0%|          | 0/50 [00:00<?, ?it/s]"
      ]
     },
     "metadata": {},
     "output_type": "display_data"
    }
   ],
   "source": [
    "n_outer_loops = 50\n",
    "step_size = 1\n",
    "result = train(\n",
    "    init_weights=init_weights,\n",
    "    network_fn=network_fn,\n",
    "    loss_fn_dict=loss_fn_dict,\n",
    "    n_outer_loops=n_outer_loops,\n",
    "    step_size=step_size,\n",
    "    save_weights=True,\n",
    "    n_inner_loops=1\n",
    ")"
   ]
  },
  {
   "cell_type": "code",
   "execution_count": 5,
   "metadata": {},
   "outputs": [
    {
     "name": "stderr",
     "output_type": "stream",
     "text": [
      "100%|███████████████████████████████████████████████████████████████████████████████████████| 50/50 [00:00<00:00, 93.31it/s]\n",
      "100%|██████████████████████████████████████████████████████████████████████████████████████| 50/50 [00:00<00:00, 114.61it/s]\n",
      "100%|██████████████████████████████████████████████████████████████████████████████████████| 50/50 [00:00<00:00, 116.48it/s]\n"
     ]
    }
   ],
   "source": [
    "series_list = []\n",
    "\n",
    "for layer in range(depth):\n",
    "    series_list.append(compute_svd_series(result['weights'], layer, rank))"
   ]
  },
  {
   "cell_type": "code",
   "execution_count": null,
   "metadata": {},
   "outputs": [],
   "source": [
    "sval_series, right_series, left_series = series_list[0]\n",
    "\n",
    "fig = plt.figure(figsize=(21, 7))\n",
    "ax = fig.add_subplot(131, projection='3d')\n",
    "plot_sv_series(ax, sval_series)\n",
    "\n",
    "ax.set_xlabel('\\nSV Index ($i$)', fontsize=20)\n",
    "ax.set_ylabel('\\nIteration ($t$)', fontsize=20)\n",
    "ax.set_zlabel('\\n$\\sigma_i(t)$', fontsize=20)\n",
    "\n",
    "ax.set_title('Singular Values', fontsize=25, y=0.0)\n",
    "\n",
    "ax = fig.add_subplot(132, projection='3d')\n",
    "\n",
    "plot_sv_series(ax, right_series, color='inferno')\n",
    "\n",
    "ax.set_xlabel('\\nSV Index ($i$)', fontsize=20)\n",
    "ax.set_ylabel('\\nIteration ($t$)', fontsize=20)\n",
    "ax.set_zlabel('\\n' + r'$\\angle(v_i(t), v_i(0))$', fontsize=20)\n",
    "\n",
    "ax.set_title('Right Singular Vectors', fontsize=25, y=0.0)\n",
    "\n",
    "ax = fig.add_subplot(133, projection='3d')\n",
    "\n",
    "plot_sv_series(ax, left_series, color='cividis')\n",
    "\n",
    "ax.set_xlabel('\\nSV Index ($i$)', fontsize=20)\n",
    "ax.set_ylabel('\\nIteration ($t$)', fontsize=20)\n",
    "ax.set_zlabel('\\n' + r'$\\angle(u_i(t), u_i(0))$', fontsize=20)\n",
    "\n",
    "ax.set_title('Left Singular Vectors', fontsize=25, y=0.0)\n",
    "\n",
    "plt.tight_layout()\n",
    "# plt.savefig('figs/thm_main.png', dpi=300, bbox_inches='tight')"
   ]
  },
  {
   "cell_type": "markdown",
   "metadata": {},
   "source": [
    "## Supplement"
   ]
  },
  {
   "cell_type": "code",
   "execution_count": null,
   "metadata": {},
   "outputs": [],
   "source": [
    "fig = plt.figure(constrained_layout=True, figsize=(21, 24))\n",
    "subfigs = fig.subfigures(nrows=3, ncols=1)\n",
    "for i, subfig in enumerate(subfigs):\n",
    "    sval_series, right_series, left_series = series_list[i]\n",
    "    subfig.suptitle(f'Layer {i+1}', fontsize=40, weight='bold', y=0.92)\n",
    "    ax = subfig.add_subplot(131, projection='3d')\n",
    "    plot_sv_series(ax, sval_series)\n",
    "\n",
    "    ax.set_xlabel('\\nSV Index ($i$)', fontsize=20)\n",
    "    ax.set_ylabel('\\nIteration ($t$)', fontsize=20)\n",
    "    ax.set_zlabel('\\n$\\sigma_i(t)$', fontsize=20)\n",
    "\n",
    "    ax.set_title('Singular Values', fontsize=25, y=0.0)\n",
    "\n",
    "    ax = subfig.add_subplot(132, projection='3d')\n",
    "\n",
    "    plot_sv_series(ax, right_series, color='inferno')\n",
    "\n",
    "    ax.set_xlabel('\\nSV Index ($i$)', fontsize=20)\n",
    "    ax.set_ylabel('\\nIteration ($t$)', fontsize=20)\n",
    "    ax.set_zlabel('\\n' + r'$\\angle(v_i(t), v_i(0))$', fontsize=20)\n",
    "\n",
    "    ax.set_title('Right Singular Vectors', fontsize=25, y=0.0)\n",
    "\n",
    "    ax = subfig.add_subplot(133, projection='3d')\n",
    "\n",
    "    plot_sv_series(ax, left_series, color='cividis')\n",
    "\n",
    "    ax.set_xlabel('\\nSV Index ($i$)', fontsize=20)\n",
    "    ax.set_ylabel('\\nIteration ($t$)', fontsize=20)\n",
    "    ax.set_zlabel('\\n' + r'$\\angle(u_i(t), u_i(0))$', fontsize=20)\n",
    "\n",
    "    ax.set_title('Left Singular Vectors', fontsize=25, y=0.0)\n",
    "\n",
    "# plt.tight_layout()\n",
    "# plt.savefig('figs/thm_sup.png', dpi=300, bbox_inches='tight')"
   ]
  }
 ],
 "metadata": {
  "kernelspec": {
   "display_name": "Python 3 (ipykernel)",
   "language": "python",
   "name": "python3"
  },
  "language_info": {
   "codemirror_mode": {
    "name": "ipython",
    "version": 3
   },
   "file_extension": ".py",
   "mimetype": "text/x-python",
   "name": "python",
   "nbconvert_exporter": "python",
   "pygments_lexer": "ipython3",
   "version": "3.11.3"
  }
 },
 "nbformat": 4,
 "nbformat_minor": 2
}
