{
 "cells": [
  {
   "cell_type": "code",
   "execution_count": null,
   "metadata": {},
   "outputs": [],
   "source": [
    "import matplotlib.pyplot as plt\n",
    "from matplotlib.ticker import MaxNLocator\n",
    "import jax.numpy as jnp\n",
    "\n",
    "from jax.random import PRNGKey, split\n",
    "from jax import config\n",
    "config.update(\"jax_enable_x64\", True)\n",
    "\n",
    "from data import generate_data\n",
    "from loss import create_loss\n",
    "from network import init_net_orth, compute_end_to_end, compute_factor\n",
    "from solver import train\n",
    "from utils import compose, svd"
   ]
  },
  {
   "cell_type": "code",
   "execution_count": 13,
   "metadata": {},
   "outputs": [],
   "source": [
    "key = PRNGKey(0)\n",
    "\n",
    "input_dim = 20\n",
    "output_dim = 20\n",
    "rank = 2\n",
    "depth = 3\n",
    "init_type = \"orth\"\n",
    "init_scale = 1\n",
    "\n",
    "key, subkey = split(key)\n",
    "target = generate_data(key=subkey, shape=(output_dim, input_dim), rank=rank)\n",
    "\n",
    "key, subkey = split(key)\n",
    "init_weights = init_net_orth(\n",
    "    key=subkey, \n",
    "    input_dim=input_dim, \n",
    "    output_dim=output_dim,\n",
    "    width=input_dim,\n",
    "    depth=depth,\n",
    "    init_scale=init_scale\n",
    ")\n",
    "\n",
    "loss_fn = create_loss(target)\n",
    "e2e_loss_fn = compose(loss_fn, compute_end_to_end)"
   ]
  },
  {
   "cell_type": "code",
   "execution_count": 14,
   "metadata": {},
   "outputs": [
    {
     "data": {
      "application/vnd.jupyter.widget-view+json": {
       "model_id": "3263284f0bb74196acc3a25e52eee219",
       "version_major": 2,
       "version_minor": 0
      },
      "text/plain": [
       "  0%|          | 0/100 [00:00<?, ?it/s]"
      ]
     },
     "metadata": {},
     "output_type": "display_data"
    }
   ],
   "source": [
    "n_outer_loops = 100\n",
    "step_size = 10\n",
    "result = train(\n",
    "    init_weights=init_weights,\n",
    "    train_e2e_loss_fn=e2e_loss_fn,\n",
    "    n_outer_loops=n_outer_loops,\n",
    "    step_size=step_size,\n",
    "    save_weights=True\n",
    ")"
   ]
  },
  {
   "cell_type": "code",
   "execution_count": 15,
   "metadata": {},
   "outputs": [],
   "source": [
    "V1 = compute_factor(init_weights=init_weights, e2e_loss_fn=e2e_loss_fn, grad_rank=rank)\n",
    "U1 = init_weights[0] @ V1 / init_scale"
   ]
  },
  {
   "cell_type": "code",
   "execution_count": 23,
   "metadata": {},
   "outputs": [
    {
     "data": {
      "text/plain": [
       "Array([2.03681525, 1.96764208, 0.25813614, 0.25251753, 0.24000975,\n",
       "       0.24000975, 0.24000975, 0.24000975, 0.24000975, 0.24000975,\n",
       "       0.24000975, 0.24000975, 0.24000975, 0.24000975, 0.24000975,\n",
       "       0.24000975, 0.24000975, 0.24000975, 0.24000975, 0.24000975],      dtype=float64)"
      ]
     },
     "execution_count": 23,
     "metadata": {},
     "output_type": "execute_result"
    }
   ],
   "source": [
    "svd(result['weights'][30][0])[1]"
   ]
  },
  {
   "cell_type": "code",
   "execution_count": 11,
   "metadata": {},
   "outputs": [
    {
     "data": {
      "image/png": "[encoded data removed]",
      "text/plain": [
       "<Figure size 1000x500 with 3 Axes>"
      ]
     },
     "metadata": {},
     "output_type": "display_data"
    }
   ],
   "source": [
    "fig, axes = plt.subplots(ncols=2, nrows=1, figsize=(10, 5))\n",
    "axes[0].imshow(jnp.log10(jnp.abs(U1.T @ init_weights[0] @ V1)), cmap='YlGn', vmax=1, vmin=-5)\n",
    "axes[0].set_title('Before Training', fontsize=15)\n",
    "axes[0].xaxis.set_major_locator(MaxNLocator(integer=True))\n",
    "axes[0].yaxis.set_major_locator(MaxNLocator(integer=True))\n",
    "\n",
    "pcm = axes[1].imshow(jnp.log10(jnp.abs(U1.T @ result['final_weights'][0] @ V1)), cmap='YlGn', vmax=1, vmin=-5)\n",
    "axes[1].set_title('After Training', fontsize=15)\n",
    "axes[1].xaxis.set_major_locator(MaxNLocator(integer=True))\n",
    "axes[1].yaxis.set_major_locator(MaxNLocator(integer=True))\n",
    "\n",
    "fig.colorbar(pcm, ax=axes.ravel().tolist())\n",
    "plt.savefig('figs/thm_main.png', dpi=300, bbox_inches='tight')"
   ]
  }
 ],
 "metadata": {
  "kernelspec": {
   "display_name": "Python 3 (ipykernel)",
   "language": "python",
   "name": "python3"
  },
  "language_info": {
   "codemirror_mode": {
    "name": "ipython",
    "version": 3
   },
   "file_extension": ".py",
   "mimetype": "text/x-python",
   "name": "python",
   "nbconvert_exporter": "python",
   "pygments_lexer": "ipython3",
   "version": "3.10.10"
  }
 },
 "nbformat": 4,
 "nbformat_minor": 2
}
