{
 "cells": [
  {
   "cell_type": "code",
   "execution_count": 1,
   "id": "2d28983b",
   "metadata": {},
   "outputs": [],
   "source": [
    "import matplotlib.pyplot as plt\n",
    "import jax.numpy as jnp\n",
    "import jax\n",
    "import cvxpy as cp\n",
    "\n",
    "from jax.random import PRNGKey, split\n",
    "from jax import config, grad\n",
    "from time import time\n",
    "# config.update(\"jax_enable_x64\", True)\n",
    "\n",
    "from data import generate_data, generate_observation_matrix\n",
    "from loss import create_mc_loss\n",
    "from network import init_net, create_network, compute_prefactor, compress_network\n",
    "from solver import train\n",
    "from utils import svd, compose"
   ]
  },
  {
   "cell_type": "code",
   "execution_count": 3,
   "id": "1523040e",
   "metadata": {},
   "outputs": [],
   "source": [
    "key = PRNGKey(0)\n",
    "\n",
    "r = 5\n",
    "input_dim = 200\n",
    "output_dim = 200\n",
    "depth = 3\n",
    "init_type = \"orth\"\n",
    "init_scale = 1e-3\n",
    "\n",
    "key, target_key = split(key)\n",
    "target = generate_data(key=target_key, shape=(output_dim, input_dim), rank=r)\n",
    "\n",
    "key, weight_key = split(key)\n",
    "init_weights = init_net(key=weight_key, input_dim=input_dim, output_dim=output_dim, width=input_dim, depth=depth, init_type=\"orth\", init_scale=init_scale)\n",
    "network_fn = create_network()\n",
    "\n",
    "key, observation_key = split(key)\n",
    "percent_observed = 0.1\n",
    "mask = generate_observation_matrix(observation_key, percent_observed, (output_dim, input_dim))\n",
    "mc_loss_fn = create_mc_loss(target, mask)\n",
    "e2e_loss_fn = compose(mc_loss_fn, network_fn)"
   ]
  },
  {
   "cell_type": "markdown",
   "id": "67c67540",
   "metadata": {},
   "source": [
    "## Compressed Network"
   ]
  },
  {
   "cell_type": "code",
   "execution_count": 5,
   "id": "5a9132f7",
   "metadata": {},
   "outputs": [],
   "source": [
    "V = compute_prefactor(init_weights=init_weights, e2e_loss_fn=e2e_loss_fn, grad_rank=r)\n",
    "comp_init_weights, V1_1, UL_1 = compress_network(init_weights, V, r)\n",
    "comp_init_weights = [V1_1.T] + comp_init_weights + [UL_1]\n",
    "comp_network_fn = create_network()"
   ]
  },
  {
   "cell_type": "code",
   "execution_count": 6,
   "id": "a864cccd",
   "metadata": {},
   "outputs": [
    {
     "data": {
      "application/vnd.jupyter.widget-view+json": {
       "model_id": "6775aa71ee8241f39813b3e5a095a00f",
       "version_major": 2,
       "version_minor": 0
      },
      "text/plain": [
       "  0%|          | 0/160 [00:00<?, ?it/s]"
      ]
     },
     "metadata": {},
     "output_type": "display_data"
    }
   ],
   "source": [
    "num_iters = 80000\n",
    "step_size = 5e2\n",
    "comp_weights, comp_loss_list, comp_time_list = train(\n",
    "    init_weights=comp_init_weights, \n",
    "    e2e_loss_fn=e2e_loss_fn,\n",
    "    n_epochs=num_iters,\n",
    "    step_size=step_size,\n",
    "    n_inner_loops=500,\n",
    "    factors=True,\n",
    "    save_weights=False\n",
    ")"
   ]
  },
  {
   "cell_type": "code",
   "execution_count": 47,
   "id": "4835f7a5",
   "metadata": {},
   "outputs": [],
   "source": [
    "comp_time = comp_time_list[jnp.argmax(comp_loss_list < 1e-8)]\n",
    "comp_loss = jnp.sum((network_fn(comp_weights) - target)**2) / jnp.sum(target**2)"
   ]
  },
  {
   "cell_type": "code",
   "execution_count": 48,
   "id": "8dc839cc",
   "metadata": {},
   "outputs": [],
   "source": [
    "result_dict['comp'] = {\n",
    "    'time': comp_time,\n",
    "    'loss': comp_loss\n",
    "}"
   ]
  },
  {
   "cell_type": "markdown",
   "id": "0ba210b4",
   "metadata": {},
   "source": [
    "## Nuclear Norm Min"
   ]
  },
  {
   "cell_type": "code",
   "execution_count": 18,
   "id": "563270be",
   "metadata": {},
   "outputs": [
    {
     "name": "stdout",
     "output_type": "stream",
     "text": [
      "===============================================================================\n",
      "                                     CVXPY                                     \n",
      "                                     v1.3.1                                    \n",
      "===============================================================================\n",
      "(CVXPY) May 04 03:04:45 PM: Your problem has 40000 variables, 1 constraints, and 0 parameters.\n",
      "(CVXPY) May 04 03:04:45 PM: It is compliant with the following grammars: DCP, DQCP\n",
      "(CVXPY) May 04 03:04:45 PM: (If you need to solve this problem multiple times, but with different data, consider using parameters.)\n",
      "(CVXPY) May 04 03:04:45 PM: CVXPY will first compile your problem; then, it will invoke a numerical solver to obtain a solution.\n",
      "-------------------------------------------------------------------------------\n",
      "                                  Compilation                                  \n",
      "-------------------------------------------------------------------------------\n",
      "(CVXPY) May 04 03:04:45 PM: Compiling problem (target solver=SCS).\n",
      "(CVXPY) May 04 03:04:45 PM: Reduction chain: Dcp2Cone -> CvxAttr2Constr -> ConeMatrixStuffing -> SCS\n",
      "(CVXPY) May 04 03:04:45 PM: Applying reduction Dcp2Cone\n",
      "(CVXPY) May 04 03:04:45 PM: Applying reduction CvxAttr2Constr\n",
      "(CVXPY) May 04 03:04:45 PM: Applying reduction ConeMatrixStuffing\n",
      "(CVXPY) May 04 03:04:45 PM: Applying reduction SCS\n",
      "(CVXPY) May 04 03:04:45 PM: Finished problem compilation (took 3.824e-01 seconds).\n",
      "-------------------------------------------------------------------------------\n",
      "                                Numerical solver                               \n",
      "-------------------------------------------------------------------------------\n",
      "(CVXPY) May 04 03:04:45 PM: Invoking solver SCS  to obtain a solution.\n",
      "------------------------------------------------------------------\n",
      "\t       SCS v3.2.3 - Splitting Conic Solver\n",
      "\t(c) Brendan O'Donoghue, Stanford University, 2012\n",
      "------------------------------------------------------------------\n",
      "problem:  variables n: 80200, constraints m: 120200\n",
      "cones: \t  z: primal zero / dual free vars: 40000\n",
      "\t  s: psd vars: 80200, ssize: 1\n",
      "settings: eps_abs: 1.0e-05, eps_rel: 1.0e-05, eps_infeas: 1.0e-07\n",
      "\t  alpha: 1.50, scale: 1.00e-01, adaptive_scale: 1\n",
      "\t  max_iters: 100000, normalize: 1, rho_x: 1.00e-06\n",
      "\t  acceleration_lookback: 10, acceleration_interval: 10\n",
      "lin-sys:  sparse-direct-amd-qdldl\n",
      "\t  nnz(A): 84200, nnz(P): 0\n",
      "------------------------------------------------------------------\n",
      " iter | pri res | dua res |   gap   |   obj   |  scale  | time (s)\n",
      "------------------------------------------------------------------\n",
      "     0| 1.41e+01  5.00e-01  3.07e+03 -1.29e+03  1.00e-01  3.14e-01 \n",
      "   250| 4.39e-05  7.67e-06  4.84e-06  1.99e+02  1.12e+00  3.30e+01 \n",
      "   275| 6.26e-06  1.66e-06  2.58e-06  1.99e+02  1.12e+00  3.63e+01 \n",
      "------------------------------------------------------------------\n",
      "status:  solved\n",
      "timings: total: 3.63e+01s = setup: 1.53e-01s + solve: 3.61e+01s\n",
      "\t lin-sys: 8.46e-01s, cones: 3.47e+01s, accel: 1.35e-01s\n",
      "------------------------------------------------------------------\n",
      "objective = 198.705106\n",
      "------------------------------------------------------------------\n",
      "-------------------------------------------------------------------------------\n",
      "                                    Summary                                    \n",
      "-------------------------------------------------------------------------------\n",
      "(CVXPY) May 04 03:05:22 PM: Problem status: optimal\n",
      "(CVXPY) May 04 03:05:22 PM: Optimal value: 1.987e+02\n",
      "(CVXPY) May 04 03:05:22 PM: Compilation took 3.824e-01 seconds\n",
      "(CVXPY) May 04 03:05:22 PM: Solver (including time spent in interface) took 3.626e+01 seconds\n"
     ]
    }
   ],
   "source": [
    "X = cp.Variable(shape=(output_dim, input_dim))\n",
    "objective = cp.Minimize(cp.norm(X, \"nuc\"))\n",
    "constraints = [cp.multiply(mask, (X - target)) == 0]\n",
    "prob = cp.Problem(objective, constraints)\n",
    "result = prob.solve(verbose=True)\n",
    "Xpred = X.value"
   ]
  },
  {
   "cell_type": "code",
   "execution_count": 37,
   "id": "57dcea9b",
   "metadata": {},
   "outputs": [],
   "source": [
    "nuc_time = prob.solver_stats.solve_time\n",
    "nuc_loss = jnp.sum((Xpred - target)**2) / jnp.sum(target**2)"
   ]
  },
  {
   "cell_type": "code",
   "execution_count": 49,
   "id": "22ff5fd5",
   "metadata": {},
   "outputs": [],
   "source": [
    "result_dict['nuc'] = {\n",
    "    'time': nuc_time,\n",
    "    'loss': nuc_loss\n",
    "}"
   ]
  },
  {
   "cell_type": "markdown",
   "id": "89b49b57",
   "metadata": {},
   "source": [
    "## Dual factors with balancing (and spectral initialization)"
   ]
  },
  {
   "cell_type": "code",
   "execution_count": 50,
   "id": "148ac97f",
   "metadata": {},
   "outputs": [],
   "source": [
    "def dual_network_fn(w):\n",
    "    X, Y = w\n",
    "    return X @ Y.T"
   ]
  },
  {
   "cell_type": "code",
   "execution_count": 51,
   "id": "466f0695",
   "metadata": {},
   "outputs": [],
   "source": [
    "lam = 1e-3\n",
    "def dual_e2e_loss_fn(w):\n",
    "    X, Y = w\n",
    "    return mc_loss_fn(dual_network_fn(w)) + lam/2 * jnp.sum((X.T @ X - Y.T @ Y)**2)"
   ]
  },
  {
   "cell_type": "code",
   "execution_count": 52,
   "id": "4264021a",
   "metadata": {},
   "outputs": [],
   "source": [
    "U, s, V = svd(mask * target)\n",
    "Ur = U[:, :r]\n",
    "Vr = V[:, :r]\n",
    "Sr = jnp.diag(s[:r])\n",
    "\n",
    "X_init = Ur @ jnp.sqrt(Sr)\n",
    "Y_init = Vr @ jnp.sqrt(Sr)\n",
    "dual_init_weights = [X_init, Y_init]"
   ]
  },
  {
   "cell_type": "code",
   "execution_count": 58,
   "id": "a4611a00",
   "metadata": {},
   "outputs": [
    {
     "data": {
      "application/vnd.jupyter.widget-view+json": {
       "model_id": "6e2fa2517aba44d6bb466dc9c70e04a7",
       "version_major": 2,
       "version_minor": 0
      },
      "text/plain": [
       "  0%|          | 0/5000 [00:00<?, ?it/s]"
      ]
     },
     "metadata": {},
     "output_type": "display_data"
    }
   ],
   "source": [
    "num_iters = 500000\n",
    "step_size = 5\n",
    "dual_weights, dual_loss_list, dual_time_list = train(\n",
    "    init_weights=dual_init_weights, \n",
    "    e2e_loss_fn=dual_e2e_loss_fn,\n",
    "    n_epochs=num_iters,\n",
    "    step_size=step_size,\n",
    "    n_inner_loops=100,\n",
    "    factors=False,\n",
    "    save_weights=False\n",
    ")"
   ]
  },
  {
   "cell_type": "code",
   "execution_count": 59,
   "id": "381a2add",
   "metadata": {},
   "outputs": [],
   "source": [
    "dual_time = dual_time_list[jnp.argmax(dual_loss_list < 1e-8)]\n",
    "dual_loss = jnp.sum((dual_network_fn(dual_weights) - target)**2) / jnp.sum(target**2)"
   ]
  },
  {
   "cell_type": "code",
   "execution_count": 61,
   "id": "19f72108",
   "metadata": {},
   "outputs": [],
   "source": [
    "result_dict['dual'] = {\n",
    "    'time': dual_time,\n",
    "    'loss': dual_loss\n",
    "}"
   ]
  },
  {
   "cell_type": "code",
   "execution_count": 74,
   "id": "28932724",
   "metadata": {},
   "outputs": [
    {
     "data": {
      "text/plain": [
       "'1.33e-04'"
      ]
     },
     "execution_count": 74,
     "metadata": {},
     "output_type": "execute_result"
    }
   ],
   "source": [
    "l = result_dict['dual']['loss']\n",
    "f'{l:0.2e}'"
   ]
  }
 ],
 "metadata": {
  "kernelspec": {
   "display_name": "Python 3 (ipykernel)",
   "language": "python",
   "name": "python3"
  },
  "language_info": {
   "codemirror_mode": {
    "name": "ipython",
    "version": 3
   },
   "file_extension": ".py",
   "mimetype": "text/x-python",
   "name": "python",
   "nbconvert_exporter": "python",
   "pygments_lexer": "ipython3",
   "version": "3.10.10"
  }
 },
 "nbformat": 4,
 "nbformat_minor": 5
}
