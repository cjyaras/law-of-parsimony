{
 "cells": [
  {
   "cell_type": "code",
   "execution_count": 15,
   "id": "2d28983b",
   "metadata": {},
   "outputs": [],
   "source": [
    "import matplotlib.pyplot as plt\n",
    "import jax.numpy as jnp\n",
    "import jax\n",
    "import cvxpy as cp\n",
    "\n",
    "from jax.random import PRNGKey, split\n",
    "from jax import config, grad\n",
    "from time import time\n",
    "# config.update(\"jax_enable_x64\", True)\n",
    "\n",
    "from data import generate_data, generate_observation_matrix, generate_sensing_matrices\n",
    "from loss import create_mc_loss\n",
    "from network import init_net, create_network, compute_prefactor, compress_network\n",
    "from solver import train\n",
    "from utils import svd, sensing_operator"
   ]
  },
  {
   "cell_type": "code",
   "execution_count": 21,
   "id": "1523040e",
   "metadata": {},
   "outputs": [],
   "source": [
    "key = PRNGKey(0)\n",
    "\n",
    "r = 2\n",
    "input_dim = 100\n",
    "output_dim = 100\n",
    "depth = 3\n",
    "init_type = \"orth\"\n",
    "init_scale = 1e-3\n",
    "\n",
    "key, target_key = split(key)\n",
    "target = generate_data(key=target_key, shape=(output_dim, input_dim), rank=r)\n",
    "\n",
    "key, weight_key = split(key)\n",
    "init_weights = init_net(key=weight_key, input_dim=input_dim, output_dim=output_dim, width=input_dim, depth=depth, init_type=\"orth\", init_scale=init_scale)\n",
    "network_fn = create_network()\n",
    "\n",
    "key, observation_key = split(key)\n",
    "percent_observed = 0.1\n",
    "mask = generate_observation_matrix(observation_key, percent_observed, (output_dim, input_dim))\n",
    "mc_loss_fn = create_mc_loss(target, mask)\n",
    "e2e_loss_fn = lambda w: mc_loss_fn(network_fn(w))"
   ]
  },
  {
   "cell_type": "markdown",
   "id": "67c67540",
   "metadata": {},
   "source": [
    "## Compressed Network"
   ]
  },
  {
   "cell_type": "code",
   "execution_count": 22,
   "id": "5a9132f7",
   "metadata": {},
   "outputs": [],
   "source": [
    "V = compute_prefactor(init_weights, mc_loss_fn, network_fn, r)\n",
    "comp_init_weights, V1_1, UL_1 = compress_network(init_weights, V, r)\n",
    "comp_init_weights = [V1_1.T] + comp_init_weights + [UL_1]\n",
    "comp_network_fn = create_network()"
   ]
  },
  {
   "cell_type": "code",
   "execution_count": 26,
   "id": "a864cccd",
   "metadata": {},
   "outputs": [
    {
     "data": {
      "application/vnd.jupyter.widget-view+json": {
       "model_id": "daade37c38c64419aa886bde304549de",
       "version_major": 2,
       "version_minor": 0
      },
      "text/plain": [
       "  0%|          | 0/200 [00:00<?, ?it/s]"
      ]
     },
     "metadata": {},
     "output_type": "display_data"
    }
   ],
   "source": [
    "num_iters = 100000\n",
    "step_size = 1e2\n",
    "comp_weights, comp_loss_list, comp_time_list = train(\n",
    "    init_weights=comp_init_weights, \n",
    "    loss_fn=mc_loss_fn,\n",
    "    network_fn=comp_network_fn,\n",
    "    n_epochs=num_iters,\n",
    "    step_size=step_size,\n",
    "    n_inner_loops=500,\n",
    "    factors=True,\n",
    "    save_weights=False\n",
    ")"
   ]
  },
  {
   "cell_type": "code",
   "execution_count": 34,
   "id": "2fedb5d4",
   "metadata": {},
   "outputs": [
    {
     "data": {
      "text/plain": [
       "Array(1.39968705e-11, dtype=float32)"
      ]
     },
     "execution_count": 34,
     "metadata": {},
     "output_type": "execute_result"
    }
   ],
   "source": [
    "jnp.mean((network_fn(comp_weights) - target)**2)"
   ]
  },
  {
   "cell_type": "markdown",
   "id": "0ba210b4",
   "metadata": {},
   "source": [
    "## Nuclear Norm Min"
   ]
  },
  {
   "cell_type": "code",
   "execution_count": 28,
   "id": "563270be",
   "metadata": {},
   "outputs": [
    {
     "name": "stdout",
     "output_type": "stream",
     "text": [
      "===============================================================================\n",
      "                                     CVXPY                                     \n",
      "                                     v1.3.1                                    \n",
      "===============================================================================\n",
      "(CVXPY) May 03 06:11:19 PM: Your problem has 10000 variables, 1 constraints, and 0 parameters.\n",
      "(CVXPY) May 03 06:11:19 PM: It is compliant with the following grammars: DCP, DQCP\n",
      "(CVXPY) May 03 06:11:19 PM: (If you need to solve this problem multiple times, but with different data, consider using parameters.)\n",
      "(CVXPY) May 03 06:11:19 PM: CVXPY will first compile your problem; then, it will invoke a numerical solver to obtain a solution.\n",
      "-------------------------------------------------------------------------------\n",
      "                                  Compilation                                  \n",
      "-------------------------------------------------------------------------------\n",
      "(CVXPY) May 03 06:11:19 PM: Compiling problem (target solver=SCS).\n",
      "(CVXPY) May 03 06:11:19 PM: Reduction chain: Dcp2Cone -> CvxAttr2Constr -> ConeMatrixStuffing -> SCS\n",
      "(CVXPY) May 03 06:11:19 PM: Applying reduction Dcp2Cone\n",
      "(CVXPY) May 03 06:11:19 PM: Applying reduction CvxAttr2Constr\n",
      "(CVXPY) May 03 06:11:19 PM: Applying reduction ConeMatrixStuffing\n",
      "(CVXPY) May 03 06:11:19 PM: Applying reduction SCS\n",
      "(CVXPY) May 03 06:11:19 PM: Finished problem compilation (took 9.709e-02 seconds).\n",
      "-------------------------------------------------------------------------------\n",
      "                                Numerical solver                               \n",
      "-------------------------------------------------------------------------------\n",
      "(CVXPY) May 03 06:11:19 PM: Invoking solver SCS  to obtain a solution.\n",
      "------------------------------------------------------------------\n",
      "\t       SCS v3.2.3 - Splitting Conic Solver\n",
      "\t(c) Brendan O'Donoghue, Stanford University, 2012\n",
      "------------------------------------------------------------------\n",
      "problem:  variables n: 20100, constraints m: 30100\n",
      "cones: \t  z: primal zero / dual free vars: 10000\n",
      "\t  s: psd vars: 20100, ssize: 1\n",
      "settings: eps_abs: 1.0e-05, eps_rel: 1.0e-05, eps_infeas: 1.0e-07\n",
      "\t  alpha: 1.50, scale: 1.00e-01, adaptive_scale: 1\n",
      "\t  max_iters: 100000, normalize: 1, rho_x: 1.00e-06\n",
      "\t  acceleration_lookback: 10, acceleration_interval: 10\n",
      "lin-sys:  sparse-direct-amd-qdldl\n",
      "\t  nnz(A): 21100, nnz(P): 0\n",
      "------------------------------------------------------------------\n",
      " iter | pri res | dua res |   gap   |   obj   |  scale  | time (s)\n",
      "------------------------------------------------------------------\n",
      "     0| 1.49e+01  5.52e-01  1.55e+03 -6.41e+02  1.00e-01  6.36e-02 \n",
      "   250| 6.33e-03  9.88e-06  1.45e-03  9.15e+01  1.00e-01  5.18e+00 \n",
      "   500| 1.74e-04  9.84e-06  2.49e-06  9.15e+01  3.36e-01  1.03e+01 \n",
      "   700| 2.01e-05  5.74e-07  1.90e-07  9.15e+01  3.36e-01  1.43e+01 \n",
      "------------------------------------------------------------------\n",
      "status:  solved\n",
      "timings: total: 1.43e+01s = setup: 3.93e-02s + solve: 1.43e+01s\n",
      "\t lin-sys: 5.14e-01s, cones: 1.34e+01s, accel: 6.94e-02s\n",
      "------------------------------------------------------------------\n",
      "objective = 91.518307\n",
      "------------------------------------------------------------------\n",
      "-------------------------------------------------------------------------------\n",
      "                                    Summary                                    \n",
      "-------------------------------------------------------------------------------\n",
      "(CVXPY) May 03 06:11:33 PM: Problem status: optimal\n",
      "(CVXPY) May 03 06:11:33 PM: Optimal value: 9.152e+01\n",
      "(CVXPY) May 03 06:11:33 PM: Compilation took 9.709e-02 seconds\n",
      "(CVXPY) May 03 06:11:33 PM: Solver (including time spent in interface) took 1.431e+01 seconds\n"
     ]
    }
   ],
   "source": [
    "X = cp.Variable(shape=(output_dim, input_dim))\n",
    "objective = cp.Minimize(cp.norm(X, \"nuc\"))\n",
    "constraints = [cp.multiply(mask, (X - target)) == 0]\n",
    "prob = cp.Problem(objective, constraints)\n",
    "result = prob.solve(verbose=True)\n",
    "Xpred = X.value"
   ]
  },
  {
   "cell_type": "code",
   "execution_count": 35,
   "id": "57dcea9b",
   "metadata": {},
   "outputs": [
    {
     "data": {
      "text/plain": [
       "14.271667806"
      ]
     },
     "execution_count": 35,
     "metadata": {},
     "output_type": "execute_result"
    }
   ],
   "source": [
    "prob.solver_stats.solve_time"
   ]
  },
  {
   "cell_type": "code",
   "execution_count": 36,
   "id": "25888a2a",
   "metadata": {},
   "outputs": [
    {
     "data": {
      "text/plain": [
       "Array(0.01298427, dtype=float32)"
      ]
     },
     "execution_count": 36,
     "metadata": {},
     "output_type": "execute_result"
    }
   ],
   "source": [
    "jnp.mean((Xpred - target)**2)"
   ]
  },
  {
   "cell_type": "markdown",
   "id": "89b49b57",
   "metadata": {},
   "source": [
    "## Dual factors with balancing (and spectral initialization)"
   ]
  },
  {
   "cell_type": "code",
   "execution_count": 44,
   "id": "4264021a",
   "metadata": {},
   "outputs": [],
   "source": [
    "U, s, V = svd(mask * target)"
   ]
  },
  {
   "cell_type": "code",
   "execution_count": null,
   "id": "1bdb780c",
   "metadata": {},
   "outputs": [],
   "source": [
    "W2 = "
   ]
  }
 ],
 "metadata": {
  "kernelspec": {
   "display_name": "Python 3 (ipykernel)",
   "language": "python",
   "name": "python3"
  },
  "language_info": {
   "codemirror_mode": {
    "name": "ipython",
    "version": 3
   },
   "file_extension": ".py",
   "mimetype": "text/x-python",
   "name": "python",
   "nbconvert_exporter": "python",
   "pygments_lexer": "ipython3",
   "version": "3.10.10"
  }
 },
 "nbformat": 4,
 "nbformat_minor": 5
}
