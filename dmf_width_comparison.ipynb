{
 "cells": [
  {
   "cell_type": "code",
   "execution_count": null,
   "metadata": {},
   "outputs": [],
   "source": [
    "import matplotlib.pyplot as plt\n",
    "import jax.numpy as jnp\n",
    "import jax\n",
    "\n",
    "from jax.random import PRNGKey, split\n",
    "from jax import config, grad\n",
    "from time import time\n",
    "config.update(\"jax_enable_x64\", True)\n",
    "\n",
    "from data import generate_data, generate_observation_matrix, generate_sensing_matrices\n",
    "from loss import create_mc_loss\n",
    "from network import init_net, create_network, compute_prefactor, compress_network\n",
    "from solver import train\n",
    "from utils import svd, sensing_operator"
   ]
  },
  {
   "cell_type": "code",
   "execution_count": 59,
   "metadata": {},
   "outputs": [],
   "source": [
    "key = PRNGKey(0)\n",
    "\n",
    "r = 5\n",
    "input_dim = 2000\n",
    "output_dim = 2000\n",
    "depth = 3\n",
    "init_type = \"orth\"\n",
    "init_scale = 1e-3\n",
    "\n",
    "key, target_key = split(key)\n",
    "target = generate_data(key=target_key, shape=(output_dim, input_dim), rank=r)\n",
    "\n",
    "key, weight_key = split(key)\n",
    "init_weights = init_net(key=weight_key, input_dim=input_dim, output_dim=output_dim, width=input_dim, depth=depth, init_type=\"orth\", init_scale=init_scale)\n",
    "network_fn = create_network()\n",
    "\n",
    "key, observation_key = split(key)\n",
    "percent_observed = 0.5\n",
    "observation_matrix = generate_observation_matrix(observation_key, percent_observed, (output_dim, input_dim))\n",
    "mc_loss_fn = create_mc_loss(target, observation_matrix)\n",
    "e2e_loss_fn = lambda w: mc_loss_fn(network_fn(w))"
   ]
  },
  {
   "cell_type": "code",
   "execution_count": 52,
   "metadata": {},
   "outputs": [],
   "source": [
    "V = compute_prefactor(init_weights, mc_loss_fn, network_fn, r)\n",
    "comp_init_weights, V1_1, UL_1 = compress_network(init_weights, V, r)\n",
    "comp_init_weights = [V1_1.T] + comp_init_weights + [UL_1]\n",
    "comp_network_fn = create_network()"
   ]
  },
  {
   "cell_type": "code",
   "execution_count": 57,
   "metadata": {},
   "outputs": [
    {
     "data": {
      "application/vnd.jupyter.widget-view+json": {
       "model_id": "0b918520f1ed4af58c53d38b01c64558",
       "version_major": 2,
       "version_minor": 0
      },
      "text/plain": [
       "  0%|          | 0/600 [00:00<?, ?it/s]"
      ]
     },
     "metadata": {},
     "output_type": "display_data"
    }
   ],
   "source": [
    "num_iters = 60000\n",
    "step_size = 5e2\n",
    "comp_weights, comp_loss_list, comp_time_list = train(\n",
    "    init_weights=comp_init_weights, \n",
    "    loss_fn=mc_loss_fn,\n",
    "    network_fn=comp_network_fn,\n",
    "    n_epochs=num_iters,\n",
    "    step_size=step_size,\n",
    "    n_inner_loops=100,\n",
    "    factors=True,\n",
    "    save_weights=False\n",
    ")"
   ]
  },
  {
   "cell_type": "code",
   "execution_count": 47,
   "metadata": {},
   "outputs": [],
   "source": [
    "key, weight_key = split(key)\n",
    "narrow_init_weights = init_net(key=weight_key, input_dim=input_dim, output_dim=output_dim, width=2*r, depth=depth, init_type=\"orth\", init_scale=init_scale)\n",
    "narrow_network_fn = create_network()\n",
    "\n",
    "key, observation_key = split(key)\n",
    "percent_observed = 0.5\n",
    "observation_matrix = generate_observation_matrix(observation_key, percent_observed, (output_dim, input_dim))\n",
    "mc_loss_fn = create_mc_loss(target, observation_matrix)"
   ]
  },
  {
   "cell_type": "code",
   "execution_count": 48,
   "metadata": {},
   "outputs": [
    {
     "data": {
      "application/vnd.jupyter.widget-view+json": {
       "model_id": "63593fec42d6464897315ffcacb046e1",
       "version_major": 2,
       "version_minor": 0
      },
      "text/plain": [
       "  0%|          | 0/2000 [00:00<?, ?it/s]"
      ]
     },
     "metadata": {},
     "output_type": "display_data"
    }
   ],
   "source": [
    "num_iters = 200000\n",
    "step_size = 5e3\n",
    "narrow_weights, narrow_loss_list, narrow_time_list = train(\n",
    "    init_weights=narrow_init_weights,\n",
    "    loss_fn=mc_loss_fn,\n",
    "    network_fn=narrow_network_fn,\n",
    "    n_epochs=num_iters,\n",
    "    step_size=step_size,\n",
    "    n_inner_loops=100,\n",
    "    factors=True,\n",
    "    save_weights=False\n",
    ")"
   ]
  },
  {
   "cell_type": "code",
   "execution_count": 49,
   "metadata": {},
   "outputs": [
    {
     "data": {
      "text/plain": [
       "[<matplotlib.lines.Line2D at 0x7fc10458c610>]"
      ]
     },
     "execution_count": 49,
     "metadata": {},
     "output_type": "execute_result"
    },
    {
     "data": {
      "image/png": "[encoded data removed]",
      "text/plain": [
       "<Figure size 640x480 with 1 Axes>"
      ]
     },
     "metadata": {},
     "output_type": "display_data"
    }
   ],
   "source": [
    "plt.plot(comp_time_list, comp_loss_list)\n",
    "plt.plot(narrow_time_list, narrow_loss_list)"
   ]
  },
  {
   "cell_type": "code",
   "execution_count": 30,
   "metadata": {},
   "outputs": [
    {
     "data": {
      "text/plain": [
       "Array([[ 4.03228213e-14, -8.12419865e-13, -3.32190357e-13, ...,\n",
       "         6.09415554e-13,  5.25474203e-13,  6.12236165e-14],\n",
       "       [ 4.48061651e-13,  7.35501138e-13,  5.59241510e-13, ...,\n",
       "        -4.11393336e-13, -1.86856513e-13, -6.43852750e-13],\n",
       "       [ 2.83118641e-13,  9.27121236e-13,  9.02562608e-13, ...,\n",
       "         1.99134448e-13, -4.55359211e-13, -1.01408694e-12],\n",
       "       ...,\n",
       "       [ 8.45478251e-13, -7.41398279e-13, -3.46494317e-13, ...,\n",
       "         2.86498556e-13,  8.15659388e-13, -8.63841702e-13],\n",
       "       [ 1.76442040e-13,  6.35884033e-13,  6.25152222e-13, ...,\n",
       "        -1.04519981e-12, -1.06518027e-12, -9.69297481e-14],\n",
       "       [-9.79255638e-13,  1.76043913e-12,  1.05457460e-12, ...,\n",
       "        -5.40202600e-13, -9.65817130e-13,  9.90259982e-13]],      dtype=float64)"
      ]
     },
     "execution_count": 30,
     "metadata": {},
     "output_type": "execute_result"
    }
   ],
   "source": [
    "narrow_network_fn(narrow_weights)"
   ]
  },
  {
   "cell_type": "code",
   "execution_count": 31,
   "metadata": {},
   "outputs": [
    {
     "data": {
      "text/plain": [
       "Array([[-0.14203799,  0.04061455, -0.30198827, ...,  0.0137861 ,\n",
       "         0.46355582, -0.03380671],\n",
       "       [ 0.66808283, -0.22627953,  0.82889191, ..., -0.034318  ,\n",
       "        -0.18854189,  0.14257228],\n",
       "       [ 0.68301225,  0.33842463, -0.38477618, ...,  0.4377542 ,\n",
       "         0.3225461 ,  0.29872272],\n",
       "       ...,\n",
       "       [-0.49587344, -0.01472289, -0.40259145, ..., -0.00570193,\n",
       "         0.62383252, -0.03189054],\n",
       "       [ 0.28503207, -0.24274139,  0.43375246, ...,  0.62488122,\n",
       "         0.87274332,  0.83037019],\n",
       "       [ 0.69106831, -0.17179599,  0.53964267, ...,  0.20549506,\n",
       "         0.10940129,  0.25655483]], dtype=float64)"
      ]
     },
     "execution_count": 31,
     "metadata": {},
     "output_type": "execute_result"
    }
   ],
   "source": [
    "comp_network_fn(comp_weights)"
   ]
  }
 ],
 "metadata": {
  "kernelspec": {
   "display_name": "Python 3 (ipykernel)",
   "language": "python",
   "name": "python3"
  },
  "language_info": {
   "codemirror_mode": {
    "name": "ipython",
    "version": 3
   },
   "file_extension": ".py",
   "mimetype": "text/x-python",
   "name": "python",
   "nbconvert_exporter": "python",
   "pygments_lexer": "ipython3",
   "version": "3.10.10"
  }
 },
 "nbformat": 4,
 "nbformat_minor": 2
}
