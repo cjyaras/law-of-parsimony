{
 "cells": [
  {
   "cell_type": "code",
   "execution_count": 1,
   "id": "15f963ea",
   "metadata": {},
   "outputs": [],
   "source": [
    "import matplotlib.pyplot as plt\n",
    "from jax.random import PRNGKey, split\n",
    "import jax.numpy as jnp\n",
    "\n",
    "from jax import config\n",
    "config.update(\"jax_enable_x64\", True)\n",
    "\n",
    "from data import generate_data\n",
    "from loss import create_loss\n",
    "from network import init_net_orth, compute_end_to_end, compute_factor, compress_network\n",
    "from solver import train\n",
    "from utils import compose, svd"
   ]
  },
  {
   "cell_type": "code",
   "execution_count": 2,
   "id": "63c791de",
   "metadata": {},
   "outputs": [],
   "source": [
    "key = PRNGKey(0)\n",
    "\n",
    "# Simulated Data\n",
    "d = 1000\n",
    "r = 10\n",
    "\n",
    "key, subkey = split(key)\n",
    "target = generate_data(key=subkey, shape=(d, d), rank=r)\n",
    "\n",
    "loss_fn = create_loss(target)\n",
    "e2e_loss_fn = compose(loss_fn, compute_end_to_end)"
   ]
  },
  {
   "cell_type": "code",
   "execution_count": 3,
   "id": "1e584048",
   "metadata": {},
   "outputs": [],
   "source": [
    "depth = 3\n",
    "init_type = \"orth\"\n",
    "init_scale = 1e-3\n",
    "\n",
    "key, subkey = split(key)\n",
    "init_weights = init_net_orth(\n",
    "    key=subkey, \n",
    "    input_dim=d, \n",
    "    output_dim=d, \n",
    "    width=d, \n",
    "    depth=depth, \n",
    "    init_scale=init_scale\n",
    ")\n",
    "\n",
    "tol = 1e-10\n",
    "step_size = 1e3\n",
    "n_outer_loops = 5000\n",
    "n_inner_loops = 200"
   ]
  },
  {
   "cell_type": "code",
   "execution_count": 4,
   "id": "07a65e46",
   "metadata": {},
   "outputs": [
    {
     "data": {
      "application/vnd.jupyter.widget-view+json": {
       "model_id": "89b518c2acff458b871f372ba5bcc18c",
       "version_major": 2,
       "version_minor": 0
      },
      "text/plain": [
       "  0%|          | 0/5000 [00:00<?, ?it/s]"
      ]
     },
     "metadata": {},
     "output_type": "display_data"
    },
    {
     "name": "stderr",
     "output_type": "stream",
     "text": [
      "\n",
      "KeyboardInterrupt\n",
      "\n"
     ]
    }
   ],
   "source": [
    "orig_step_size = step_size\n",
    "orig_result = train(\n",
    "    init_weights=init_weights,\n",
    "    train_e2e_loss_fn=e2e_loss_fn,\n",
    "    n_outer_loops=n_outer_loops,\n",
    "    step_size=orig_step_size,\n",
    "    tol=tol,\n",
    "    n_inner_loops=n_inner_loops,\n",
    "    save_weights=True\n",
    ")"
   ]
  },
  {
   "cell_type": "code",
   "execution_count": null,
   "id": "602fdcc9",
   "metadata": {},
   "outputs": [],
   "source": [
    "V = compute_factor(init_weights=init_weights, e2e_loss_fn=e2e_loss_fn, grad_rank=r)\n",
    "comp_init_weights = compress_network(init_weights=init_weights, V=V, grad_rank=r)"
   ]
  },
  {
   "cell_type": "code",
   "execution_count": null,
   "id": "872def4e",
   "metadata": {},
   "outputs": [],
   "source": [
    "prop = 0\n",
    "comp_step_size = [prop * step_size] + (depth * [step_size]) + [prop * step_size]\n",
    "comp_result = train(\n",
    "    init_weights=comp_init_weights,\n",
    "    train_e2e_loss_fn=e2e_loss_fn,\n",
    "    n_outer_loops=n_outer_loops,\n",
    "    step_size=comp_step_size,\n",
    "    tol=tol,\n",
    "    n_inner_loops=n_inner_loops,\n",
    "    save_weights=True\n",
    ")"
   ]
  },
  {
   "cell_type": "code",
   "execution_count": null,
   "id": "8dd1a5fe",
   "metadata": {},
   "outputs": [],
   "source": [
    "orig_weights = orig_result['weights']\n",
    "comp_weights = comp_result['weights']\n",
    "orig_end_to_end = [compute_end_to_end(w).reshape(-1) for w in orig_weights]\n",
    "comp_end_to_end = [compute_end_to_end(w).reshape(-1) for w in comp_weights]"
   ]
  },
  {
   "cell_type": "code",
   "execution_count": null,
   "id": "6642db89",
   "metadata": {},
   "outputs": [],
   "source": [
    "A = jnp.linalg.svd(generate_data(key=PRNGKey(11), shape=(3, d*d)), full_matrices=False)[2]"
   ]
  },
  {
   "cell_type": "code",
   "execution_count": null,
   "id": "7a589152",
   "metadata": {},
   "outputs": [],
   "source": [
    "red_orig_end_to_end = jnp.array([A @ w for w in orig_end_to_end])\n",
    "red_comp_end_to_end = jnp.array([A @ w for w in comp_end_to_end])"
   ]
  },
  {
   "cell_type": "code",
   "execution_count": null,
   "id": "62408258",
   "metadata": {},
   "outputs": [],
   "source": [
    "fig = plt.figure(figsize=(13, 5))\n",
    "\n",
    "ax = fig.add_subplot(121, projection='3d')\n",
    "\n",
    "ax.plot(red_orig_end_to_end[:, 0], red_orig_end_to_end[:, 1], red_orig_end_to_end[:, 2], linewidth=5, linestyle='--', label='Original')\n",
    "ax.plot(red_comp_end_to_end[:, 0], red_comp_end_to_end[:, 1], red_comp_end_to_end[:, 2], linewidth=3, linestyle='-', label='Compressed')\n",
    "ax.xaxis.set_tick_params(labelbottom=False)\n",
    "ax.yaxis.set_tick_params(labelleft=False)\n",
    "ax.set_xticks([])\n",
    "ax.set_yticks([])\n",
    "ax.set_zticks([])\n",
    "ax.legend(fontsize=12)\n",
    "ax.set_box_aspect(None, zoom=1.2)\n",
    "\n",
    "ax = fig.add_subplot(122)\n",
    "\n",
    "ax.semilogy(orig_result['time'], orig_result['train_loss'], linewidth=5, label='Original')\n",
    "ax.semilogy(comp_result['time'], comp_result['train_loss'], linewidth=3, label='Compressed')\n",
    "ax.set_xlabel('Time (s)', fontsize=12)\n",
    "ax.set_ylabel('Loss', fontsize=12)\n",
    "ax.legend(fontsize=12)\n",
    "\n",
    "plt.savefig('figs/equiv_traj_l2.png', dpi=300, bbox_inches='tight')"
   ]
  }
 ],
 "metadata": {
  "kernelspec": {
   "display_name": "Python 3 (ipykernel)",
   "language": "python",
   "name": "python3"
  },
  "language_info": {
   "codemirror_mode": {
    "name": "ipython",
    "version": 3
   },
   "file_extension": ".py",
   "mimetype": "text/x-python",
   "name": "python",
   "nbconvert_exporter": "python",
   "pygments_lexer": "ipython3",
   "version": "3.11.0"
  }
 },
 "nbformat": 4,
 "nbformat_minor": 5
}
