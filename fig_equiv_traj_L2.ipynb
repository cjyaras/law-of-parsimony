{
 "cells": [
  {
   "cell_type": "code",
   "execution_count": 55,
   "id": "15f963ea",
   "metadata": {},
   "outputs": [],
   "source": [
    "import matplotlib.pyplot as plt\n",
    "from jax.random import PRNGKey, split\n",
    "from scipy.interpolate import interp1d\n",
    "import jax.numpy as jnp\n",
    "import jax\n",
    "\n",
    "from tqdm import tqdm\n",
    "\n",
    "from jax import config\n",
    "config.update(\"jax_enable_x64\", True)\n",
    "\n",
    "from data import generate_data\n",
    "from loss import create_loss\n",
    "from network import init_net_orth, compute_end_to_end, compute_factor, compress_network\n",
    "from solver import train\n",
    "from utils import compose, svd"
   ]
  },
  {
   "cell_type": "code",
   "execution_count": 56,
   "id": "63c791de",
   "metadata": {},
   "outputs": [],
   "source": [
    "key = PRNGKey(0)\n",
    "\n",
    "# Simulated Data\n",
    "d = 1000\n",
    "r = 10\n",
    "\n",
    "key, subkey = split(key)\n",
    "target = generate_data(key=subkey, shape=(d, d), rank=r)\n",
    "\n",
    "loss_fn = create_loss(target)\n",
    "e2e_loss_fn = compose(loss_fn, compute_end_to_end)"
   ]
  },
  {
   "cell_type": "code",
   "execution_count": 57,
   "id": "1e584048",
   "metadata": {},
   "outputs": [],
   "source": [
    "depth = 3\n",
    "init_type = \"orth\"\n",
    "init_scale = 1e-3\n",
    "\n",
    "key, subkey = split(key)\n",
    "init_weights = init_net_orth(\n",
    "    key=subkey, \n",
    "    input_dim=d, \n",
    "    output_dim=d, \n",
    "    width=d, \n",
    "    depth=depth, \n",
    "    init_scale=init_scale\n",
    ")\n",
    "\n",
    "tol = 1e-10\n",
    "step_size = 1e3\n",
    "n_outer_loops = 5000\n",
    "n_inner_loops = 200"
   ]
  },
  {
   "cell_type": "code",
   "execution_count": 58,
   "id": "07a65e46",
   "metadata": {},
   "outputs": [
    {
     "data": {
      "application/vnd.jupyter.widget-view+json": {
       "model_id": "9e4af161df9840f48c8e950962f48b47",
       "version_major": 2,
       "version_minor": 0
      },
      "text/plain": [
       "  0%|          | 0/5000 [00:00<?, ?it/s]"
      ]
     },
     "metadata": {},
     "output_type": "display_data"
    }
   ],
   "source": [
    "orig_step_size = step_size\n",
    "orig_result = train(\n",
    "    init_weights=init_weights,\n",
    "    train_e2e_loss_fn=e2e_loss_fn,\n",
    "    n_outer_loops=n_outer_loops,\n",
    "    step_size=orig_step_size,\n",
    "    tol=tol,\n",
    "    n_inner_loops=n_inner_loops,\n",
    "    save_weights=True\n",
    ")"
   ]
  },
  {
   "cell_type": "code",
   "execution_count": 59,
   "id": "602fdcc9",
   "metadata": {},
   "outputs": [],
   "source": [
    "V = compute_factor(init_weights=init_weights, e2e_loss_fn=e2e_loss_fn, grad_rank=r)\n",
    "comp_init_weights = compress_network(init_weights=init_weights, V=V, grad_rank=r)"
   ]
  },
  {
   "cell_type": "code",
   "execution_count": 60,
   "id": "872def4e",
   "metadata": {},
   "outputs": [
    {
     "data": {
      "application/vnd.jupyter.widget-view+json": {
       "model_id": "67d62cc230a440089a795d9ff232b866",
       "version_major": 2,
       "version_minor": 0
      },
      "text/plain": [
       "  0%|          | 0/5000 [00:00<?, ?it/s]"
      ]
     },
     "metadata": {},
     "output_type": "display_data"
    }
   ],
   "source": [
    "prop = 0\n",
    "comp_step_size = [prop * step_size] + (depth * [step_size]) + [prop * step_size]\n",
    "comp_result = train(\n",
    "    init_weights=comp_init_weights,\n",
    "    train_e2e_loss_fn=e2e_loss_fn,\n",
    "    n_outer_loops=n_outer_loops,\n",
    "    step_size=comp_step_size,\n",
    "    tol=tol,\n",
    "    n_inner_loops=n_inner_loops,\n",
    "    save_weights=True\n",
    ")"
   ]
  },
  {
   "cell_type": "code",
   "execution_count": 116,
   "id": "8dd1a5fe",
   "metadata": {},
   "outputs": [],
   "source": [
    "orig_weights = orig_result['weights']\n",
    "comp_weights = comp_result['weights']\n",
    "orig_end_to_end = [compute_end_to_end(w).reshape(-1) for w in orig_weights]\n",
    "comp_end_to_end = [compute_end_to_end(w).reshape(-1) for w in comp_weights]\n",
    "optimal_e2e = orig_end_to_end[-1]\n",
    "\n",
    "displacement = (orig_end_to_end[0] - optimal_e2e).reshape(-1, 1)\n",
    "random_dir = jax.random.normal(key=PRNGKey(1), shape=(d**2, 1))\n",
    "proj = jnp.linalg.svd(jnp.concatenate([displacement, random_dir], axis=1), full_matrices=False)[0]\n",
    "# proj = jnp.concatenate([displacement, random_dir], axis=1)\n",
    "# most_changing_indices = jnp.argpartition(displacement, -2)[-2:]\n",
    "# proj = jnp.zeros(shape=(d**2, 2)).at[most_changing_indices, jnp.arange(2)].set(1)\n",
    "\n",
    "# key, subkey = split(key)\n",
    "# proj = jnp.linalg.svd(jax.random.normal(key=subkey, shape=(d**2, 2)), full_matrices=False)[0]"
   ]
  },
  {
   "cell_type": "code",
   "execution_count": 131,
   "id": "917fdafe",
   "metadata": {},
   "outputs": [],
   "source": [
    "pairs = []\n",
    "for e2e in orig_end_to_end:\n",
    "    pairs.append(proj.T @ (e2e - optimal_e2e))\n",
    "pairs = jnp.array(pairs)\n",
    "pairs = pairs[-10:]\n",
    "x = pairs[:, 0]\n",
    "y = pairs[:, 1]\n",
    "n = jnp.arange(x.shape[0])\n",
    "x_spline = interp1d(n, x,kind='quadratic')\n",
    "\n",
    "n_ = np.linspace(n.min(), n.max(), 500)\n",
    "y_spline = interp1d(n, y,kind='quadratic')\n",
    "\n",
    "x_ = x_spline(n_)\n",
    "y_ = y_spline(n_)"
   ]
  },
  {
   "cell_type": "code",
   "execution_count": 121,
   "id": "234b0e3f",
   "metadata": {},
   "outputs": [
    {
     "name": "stderr",
     "output_type": "stream",
     "text": [
      "100%|██████████████████████████████████████████████████████████████████████████████████████████████| 50/50 [00:08<00:00,  5.87it/s]\n"
     ]
    }
   ],
   "source": [
    "t1vals = jnp.linspace(-1.5, 1.5)\n",
    "t2vals = jnp.linspace(-1.5, 1.5)\n",
    "lossvals = []\n",
    "for t1 in tqdm(t1vals):\n",
    "    row = []\n",
    "    for t2 in t2vals:\n",
    "        point = (optimal_e2e + t1 * proj[:, 0] + t2 * proj[:, 1]).reshape(d, d)\n",
    "        row.append(loss_fn(point))\n",
    "        \n",
    "    lossvals.append(row)\n",
    "    \n",
    "lossvals = jnp.array(lossvals)"
   ]
  },
  {
   "cell_type": "code",
   "execution_count": 132,
   "id": "89477aae",
   "metadata": {},
   "outputs": [
    {
     "data": {
      "text/plain": [
       "[<matplotlib.lines.Line2D at 0x7feffa8b46a0>]"
      ]
     },
     "execution_count": 132,
     "metadata": {},
     "output_type": "execute_result"
    },
    {
     "data": {
      "image/png": "[encoded data removed]",
      "text/plain": [
       "<Figure size 640x480 with 1 Axes>"
      ]
     },
     "metadata": {},
     "output_type": "display_data"
    }
   ],
   "source": [
    "plt.plot(x_, y_, '--')\n",
    "# plt.contour(t1vals, t2vals, lossvals)"
   ]
  },
  {
   "cell_type": "code",
   "execution_count": null,
   "id": "241eee07",
   "metadata": {},
   "outputs": [],
   "source": [
    "from scipy.interpolate import interp1d\n",
    "import numpy as np\n",
    "import matplotlib.pyplot as plt\n",
    "\n",
    "\n",
    "x = np.array([-31,-30,-30,-32,-36,-39])\n",
    "n = np.arange(x.shape[0]) \n",
    "y = np.array([60,62,64,65,64,64])\n",
    "\n",
    "\n",
    "x_spline = interp1d(n, x,kind='cubic')\n",
    "\n",
    "n_ = np.linspace(n.min(), n.max(), 500)\n",
    "y_spline = interp1d(n, y,kind='cubic')\n",
    "\n",
    "x_ = x_spline(n_)\n",
    "y_ = y_spline(n_)\n",
    "\n",
    "\n",
    "\n",
    "plt.plot(x_, y_)\n",
    "\n",
    "plt.plot(x,y);"
   ]
  },
  {
   "cell_type": "code",
   "execution_count": null,
   "id": "6642db89",
   "metadata": {},
   "outputs": [],
   "source": [
    "A = jnp.linalg.svd(generate_data(key=PRNGKey(11), shape=(3, d*d)), full_matrices=False)[2]"
   ]
  },
  {
   "cell_type": "code",
   "execution_count": null,
   "id": "7a589152",
   "metadata": {},
   "outputs": [],
   "source": [
    "red_orig_end_to_end = jnp.array([A @ w for w in orig_end_to_end])\n",
    "red_comp_end_to_end = jnp.array([A @ w for w in comp_end_to_end])"
   ]
  },
  {
   "cell_type": "code",
   "execution_count": null,
   "id": "62408258",
   "metadata": {},
   "outputs": [],
   "source": [
    "fig = plt.figure(figsize=(13, 5))\n",
    "\n",
    "ax = fig.add_subplot(121, projection='3d')\n",
    "\n",
    "ax.plot(red_orig_end_to_end[:, 0], red_orig_end_to_end[:, 1], red_orig_end_to_end[:, 2], linewidth=5, linestyle='--', label='Original')\n",
    "ax.plot(red_comp_end_to_end[:, 0], red_comp_end_to_end[:, 1], red_comp_end_to_end[:, 2], linewidth=3, linestyle='-', label='Compressed')\n",
    "ax.xaxis.set_tick_params(labelbottom=False)\n",
    "ax.yaxis.set_tick_params(labelleft=False)\n",
    "ax.set_xticks([])\n",
    "ax.set_yticks([])\n",
    "ax.set_zticks([])\n",
    "ax.legend(fontsize=12)\n",
    "ax.set_box_aspect(None, zoom=1.2)\n",
    "\n",
    "ax = fig.add_subplot(122)\n",
    "\n",
    "ax.semilogy(orig_result['time'], orig_result['train_loss'], linewidth=5, label='Original')\n",
    "ax.semilogy(comp_result['time'], comp_result['train_loss'], linewidth=3, label='Compressed')\n",
    "ax.set_xlabel('Time (s)', fontsize=12)\n",
    "ax.set_ylabel('Loss', fontsize=12)\n",
    "ax.legend(fontsize=12)\n",
    "\n",
    "# plt.savefig('figs/equiv_traj_l2.png', dpi=300, bbox_inches='tight')"
   ]
  }
 ],
 "metadata": {
  "kernelspec": {
   "display_name": "Python 3 (ipykernel)",
   "language": "python",
   "name": "python3"
  },
  "language_info": {
   "codemirror_mode": {
    "name": "ipython",
    "version": 3
   },
   "file_extension": ".py",
   "mimetype": "text/x-python",
   "name": "python",
   "nbconvert_exporter": "python",
   "pygments_lexer": "ipython3",
   "version": "3.10.10"
  }
 },
 "nbformat": 4,
 "nbformat_minor": 5
}
