{
 "cells": [
  {
   "cell_type": "code",
   "execution_count": 1,
   "id": "08b7437e",
   "metadata": {},
   "outputs": [],
   "source": [
    "import matplotlib.pyplot as plt\n",
    "import jax.numpy as jnp\n",
    "\n",
    "from jax.random import PRNGKey, split\n",
    "from jax import config\n",
    "config.update(\"jax_enable_x64\", True)\n",
    "from tqdm import tqdm\n",
    "\n",
    "from data import generate_data, generate_orthogonal_input\n",
    "from loss import create_loss\n",
    "from network import init_net, compute_outputs, compute_factor\n",
    "from solver import train\n",
    "from utils import compose, svd, compute_angle, compute_svd_series\n",
    "from plot import plot_sv_series"
   ]
  },
  {
   "cell_type": "code",
   "execution_count": 2,
   "id": "b6cb75f4",
   "metadata": {},
   "outputs": [],
   "source": [
    "key = PRNGKey(0)\n",
    "\n",
    "input_dim = 30\n",
    "output_dim = 3\n",
    "n_samples = 300\n",
    "depth = 3\n",
    "init_type = \"orth\"\n",
    "init_scale = 1\n",
    "\n",
    "key, subkey = split(key)\n",
    "target = generate_data(key=subkey, shape=(output_dim, n_samples))\n",
    "\n",
    "key, subkey = split(key)\n",
    "input_data = generate_data(key=subkey, shape=(input_dim, n_samples))\n",
    "\n",
    "# eps = (target_cond - 1) / (target_cond + 1)\n",
    "# s = jnp.linspace(1-eps, 1+eps, num=input_dim)[::-1]\n",
    "# input_data = U @ jnp.diag(s) @ V.T\n",
    "\n",
    "key, subkey = split(key)\n",
    "init_weights = init_net(\n",
    "    key=subkey, \n",
    "    input_dim=input_dim, \n",
    "    output_dim=output_dim,\n",
    "    width=input_dim,\n",
    "    depth=depth,\n",
    "    init_scale=init_scale\n",
    ")\n",
    "\n",
    "loss_fn = create_loss(target)\n",
    "\n",
    "loss_fn_dict = {\n",
    "    'train': loss_fn\n",
    "}\n",
    "\n",
    "network_fn = lambda w: compute_outputs(w, input_data, nonlinear=False)[0]"
   ]
  },
  {
   "cell_type": "code",
   "execution_count": 7,
   "id": "d0c7fc89",
   "metadata": {},
   "outputs": [
    {
     "data": {
      "text/plain": [
       "Array([22.07208181, 21.63440756, 21.02803316, 20.65018206, 20.30515691,\n",
       "       20.20187895, 19.68837713, 19.40234134, 19.07201305, 18.85528087,\n",
       "       18.36759356, 18.03231082, 17.50315896, 17.32296111, 16.81873221,\n",
       "       16.55462894, 16.29211876, 16.02353041, 15.92752861, 15.66615808,\n",
       "       15.40069281, 15.19875322, 15.0206747 , 14.5773985 , 14.16710444,\n",
       "       14.13340131, 13.3818344 , 13.1142551 , 12.59709488, 12.3019537 ],      dtype=float64)"
      ]
     },
     "execution_count": 7,
     "metadata": {},
     "output_type": "execute_result"
    }
   ],
   "source": [
    "svd(input_data)[1]"
   ]
  },
  {
   "cell_type": "code",
   "execution_count": 3,
   "id": "026762ad",
   "metadata": {},
   "outputs": [
    {
     "data": {
      "application/vnd.jupyter.widget-view+json": {
       "model_id": "75777627be744f8d93fbfbbd5bbc5ac0",
       "version_major": 2,
       "version_minor": 0
      },
      "text/plain": [
       "  0%|          | 0/10000 [00:00<?, ?it/s]"
      ]
     },
     "metadata": {},
     "output_type": "display_data"
    }
   ],
   "source": [
    "n_outer_loops = 10000\n",
    "step_size = 1\n",
    "result = train(\n",
    "    init_weights=init_weights,\n",
    "    network_fn=network_fn,\n",
    "    loss_fn_dict=loss_fn_dict,\n",
    "    n_outer_loops=n_outer_loops,\n",
    "    step_size=step_size,\n",
    "    save_weights=False,\n",
    "    n_inner_loops=1\n",
    ")"
   ]
  },
  {
   "cell_type": "code",
   "execution_count": 4,
   "id": "507e90b1",
   "metadata": {},
   "outputs": [
    {
     "data": {
      "text/plain": [
       "Array([1.03839487, 1.03628277, 1.01529377, 1.        , 1.        ,\n",
       "       1.        , 1.        , 1.        , 1.        , 1.        ,\n",
       "       1.        , 1.        , 1.        , 0.99999996, 0.99999993,\n",
       "       0.99999956, 0.99999904, 0.99999787, 0.99999702, 0.99999332,\n",
       "       0.9999878 , 0.99983385, 0.9998262 , 0.99955682, 0.99320109,\n",
       "       0.98465792, 0.9805486 , 0.46395467, 0.41263444, 0.32226465],      dtype=float64)"
      ]
     },
     "execution_count": 4,
     "metadata": {},
     "output_type": "execute_result"
    }
   ],
   "source": [
    "svd(result['final_weights'][0])[1]"
   ]
  },
  {
   "cell_type": "code",
   "execution_count": null,
   "id": "a13e4a04",
   "metadata": {},
   "outputs": [],
   "source": [
    "series_list = []\n",
    "series_list.append(compute_svd_series(result['weights'], 0, output_dim))"
   ]
  },
  {
   "cell_type": "code",
   "execution_count": null,
   "id": "24d7fbb5",
   "metadata": {},
   "outputs": [],
   "source": [
    "# sval_series, right_series, left_series = series_list[0]\n",
    "\n",
    "# fig = plt.figure(figsize=(21, 7))\n",
    "# ax = fig.add_subplot(131, projection='3d')\n",
    "# plot_sv_series(ax, sval_series)\n",
    "\n",
    "# ax.set_xlabel('\\nSV Index ($i$)', fontsize=20)\n",
    "# ax.set_ylabel('\\nIteration ($t$)', fontsize=20)\n",
    "# ax.set_zlabel('\\n$\\sigma_i(t)$', fontsize=20)\n",
    "\n",
    "# ax.set_title('Singular Values', fontsize=25, y=0.0)\n",
    "\n",
    "# ax = fig.add_subplot(132, projection='3d')\n",
    "\n",
    "# plot_sv_series(ax, right_series, color='inferno')\n",
    "\n",
    "# ax.set_xlabel('\\nSV Index ($i$)', fontsize=20)\n",
    "# ax.set_ylabel('\\nIteration ($t$)', fontsize=20)\n",
    "# ax.set_zlabel('\\n' + r'$\\angle(v_i(t), v_i(0))$', fontsize=20)\n",
    "\n",
    "# ax.set_title('Right Singular Vectors', fontsize=25, y=0.0)\n",
    "\n",
    "# ax = fig.add_subplot(133, projection='3d')\n",
    "\n",
    "# plot_sv_series(ax, left_series, color='cividis')\n",
    "\n",
    "# ax.set_xlabel('\\nSV Index ($i$)', fontsize=20)\n",
    "# ax.set_ylabel('\\nIteration ($t$)', fontsize=20)\n",
    "# ax.set_zlabel('\\n' + r'$\\angle(u_i(t), u_i(0))$', fontsize=20)\n",
    "\n",
    "# ax.set_title('Left Singular Vectors', fontsize=25, y=0.0)\n",
    "\n",
    "# plt.tight_layout()\n",
    "# # plt.savefig('figs/thm_nonwhitened.png', dpi=300, bbox_inches='tight')"
   ]
  }
 ],
 "metadata": {
  "kernelspec": {
   "display_name": "Python 3 (ipykernel)",
   "language": "python",
   "name": "python3"
  },
  "language_info": {
   "codemirror_mode": {
    "name": "ipython",
    "version": 3
   },
   "file_extension": ".py",
   "mimetype": "text/x-python",
   "name": "python",
   "nbconvert_exporter": "python",
   "pygments_lexer": "ipython3",
   "version": "3.11.0"
  }
 },
 "nbformat": 4,
 "nbformat_minor": 5
}
